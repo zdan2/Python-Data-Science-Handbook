{
 "cells": [
  {
   "cell_type": "markdown",
   "id": "d3021a50",
   "metadata": {},
   "source": [
    "Jupyter Notebook を起動し、新しいノートブックを作成せよ。"
   ]
  },
  {
   "cell_type": "code",
   "execution_count": 1,
   "id": "2afd163c",
   "metadata": {},
   "outputs": [],
   "source": [
    "import numpy as np"
   ]
  },
  {
   "cell_type": "markdown",
   "id": "1885e068",
   "metadata": {},
   "source": [
    "1 行のセルに print(\"Hello, Data Science!\") を書いて実行。"
   ]
  },
  {
   "cell_type": "code",
   "execution_count": 2,
   "id": "5c5bc59d",
   "metadata": {},
   "outputs": [
    {
     "name": "stdout",
     "output_type": "stream",
     "text": [
      "Hello, Data Science!\n"
     ]
    }
   ],
   "source": [
    "print(\"Hello, Data Science!\")"
   ]
  },
  {
   "cell_type": "markdown",
   "id": "4a5afe47",
   "metadata": {},
   "source": [
    "Markdown セルを追加し、# 私の最初のノート と見出しを書く。"
   ]
  },
  {
   "cell_type": "markdown",
   "id": "55faffa3",
   "metadata": {},
   "source": [
    "# 私の最初のノート "
   ]
  },
  {
   "cell_type": "markdown",
   "id": "0809d33a",
   "metadata": {},
   "source": [
    "len? を実行してヘルプを表示。"
   ]
  },
  {
   "cell_type": "code",
   "execution_count": 3,
   "id": "3a9a6fd8",
   "metadata": {},
   "outputs": [
    {
     "name": "stdout",
     "output_type": "stream",
     "text": [
      "\u001b[31mSignature:\u001b[39m len(obj, /)\n",
      "\u001b[31mDocstring:\u001b[39m Return the number of items in a container.\n",
      "\u001b[31mType:\u001b[39m      builtin_function_or_method"
     ]
    }
   ],
   "source": [
    "len?"
   ]
  },
  {
   "cell_type": "markdown",
   "id": "f3a6e4c7",
   "metadata": {},
   "source": [
    "np.mean?? でソースコードを確認。"
   ]
  },
  {
   "cell_type": "code",
   "execution_count": 4,
   "id": "3fb65b8b",
   "metadata": {},
   "outputs": [
    {
     "name": "stdout",
     "output_type": "stream",
     "text": [
      "\u001b[31mSignature:\u001b[39m      \n",
      "np.mean(\n",
      "    a,\n",
      "    axis=\u001b[38;5;28;01mNone\u001b[39;00m,\n",
      "    dtype=\u001b[38;5;28;01mNone\u001b[39;00m,\n",
      "    out=\u001b[38;5;28;01mNone\u001b[39;00m,\n",
      "    keepdims=<no value>,\n",
      "    *,\n",
      "    where=<no value>,\n",
      ")\n",
      "\u001b[31mCall signature:\u001b[39m  np.mean(*args, **kwargs)\n",
      "\u001b[31mType:\u001b[39m            _ArrayFunctionDispatcher\n",
      "\u001b[31mString form:\u001b[39m     <function mean at 0x00000199AE2AC040>\n",
      "\u001b[31mFile:\u001b[39m            c:\\python\\python-data-science-handbook\\venv\\lib\\site-packages\\numpy\\_core\\fromnumeric.py\n",
      "\u001b[31mSource:\u001b[39m         \n",
      "@array_function_dispatch(_mean_dispatcher)\n",
      "\u001b[38;5;28;01mdef\u001b[39;00m mean(a, axis=\u001b[38;5;28;01mNone\u001b[39;00m, dtype=\u001b[38;5;28;01mNone\u001b[39;00m, out=\u001b[38;5;28;01mNone\u001b[39;00m, keepdims=np._NoValue, *,\n",
      "         where=np._NoValue):\n",
      "    \u001b[33m\"\"\"\u001b[39m\n",
      "\u001b[33m    Compute the arithmetic mean along the specified axis.\u001b[39m\n",
      "\n",
      "\u001b[33m    Returns the average of the array elements.  The average is taken over\u001b[39m\n",
      "\u001b[33m    the flattened array by default, otherwise over the specified axis.\u001b[39m\n",
      "\u001b[33m    `float64` intermediate and return values are used for integer inputs.\u001b[39m\n",
      "\n",
      "\u001b[33m    Parameters\u001b[39m\n",
      "\u001b[33m    ----------\u001b[39m\n",
      "\u001b[33m    a : array_like\u001b[39m\n",
      "\u001b[33m        Array containing numbers whose mean is desired. If `a` is not an\u001b[39m\n",
      "\u001b[33m        array, a conversion is attempted.\u001b[39m\n",
      "\u001b[33m    axis : None or int or tuple of ints, optional\u001b[39m\n",
      "\u001b[33m        Axis or axes along which the means are computed. The default is to\u001b[39m\n",
      "\u001b[33m        compute the mean of the flattened array.\u001b[39m\n",
      "\n",
      "\u001b[33m        If this is a tuple of ints, a mean is performed over multiple axes,\u001b[39m\n",
      "\u001b[33m        instead of a single axis or all the axes as before.\u001b[39m\n",
      "\u001b[33m    dtype : data-type, optional\u001b[39m\n",
      "\u001b[33m        Type to use in computing the mean.  For integer inputs, the default\u001b[39m\n",
      "\u001b[33m        is `float64`; for floating point inputs, it is the same as the\u001b[39m\n",
      "\u001b[33m        input dtype.\u001b[39m\n",
      "\u001b[33m    out : ndarray, optional\u001b[39m\n",
      "\u001b[33m        Alternate output array in which to place the result.  The default\u001b[39m\n",
      "\u001b[33m        is ``None``; if provided, it must have the same shape as the\u001b[39m\n",
      "\u001b[33m        expected output, but the type will be cast if necessary.\u001b[39m\n",
      "\u001b[33m        See :ref:`ufuncs-output-type` for more details.\u001b[39m\n",
      "\u001b[33m        See :ref:`ufuncs-output-type` for more details.\u001b[39m\n",
      "\n",
      "\u001b[33m    keepdims : bool, optional\u001b[39m\n",
      "\u001b[33m        If this is set to True, the axes which are reduced are left\u001b[39m\n",
      "\u001b[33m        in the result as dimensions with size one. With this option,\u001b[39m\n",
      "\u001b[33m        the result will broadcast correctly against the input array.\u001b[39m\n",
      "\n",
      "\u001b[33m        If the default value is passed, then `keepdims` will not be\u001b[39m\n",
      "\u001b[33m        passed through to the `mean` method of sub-classes of\u001b[39m\n",
      "\u001b[33m        `ndarray`, however any non-default value will be.  If the\u001b[39m\n",
      "\u001b[33m        sub-class' method does not implement `keepdims` any\u001b[39m\n",
      "\u001b[33m        exceptions will be raised.\u001b[39m\n",
      "\n",
      "\u001b[33m    where : array_like of bool, optional\u001b[39m\n",
      "\u001b[33m        Elements to include in the mean. See `~numpy.ufunc.reduce` for details.\u001b[39m\n",
      "\n",
      "\u001b[33m        .. versionadded:: 1.20.0\u001b[39m\n",
      "\n",
      "\u001b[33m    Returns\u001b[39m\n",
      "\u001b[33m    -------\u001b[39m\n",
      "\u001b[33m    m : ndarray, see dtype parameter above\u001b[39m\n",
      "\u001b[33m        If `out=None`, returns a new array containing the mean values,\u001b[39m\n",
      "\u001b[33m        otherwise a reference to the output array is returned.\u001b[39m\n",
      "\n",
      "\u001b[33m    See Also\u001b[39m\n",
      "\u001b[33m    --------\u001b[39m\n",
      "\u001b[33m    average : Weighted average\u001b[39m\n",
      "\u001b[33m    std, var, nanmean, nanstd, nanvar\u001b[39m\n",
      "\n",
      "\u001b[33m    Notes\u001b[39m\n",
      "\u001b[33m    -----\u001b[39m\n",
      "\u001b[33m    The arithmetic mean is the sum of the elements along the axis divided\u001b[39m\n",
      "\u001b[33m    by the number of elements.\u001b[39m\n",
      "\n",
      "\u001b[33m    Note that for floating-point input, the mean is computed using the\u001b[39m\n",
      "\u001b[33m    same precision the input has.  Depending on the input data, this can\u001b[39m\n",
      "\u001b[33m    cause the results to be inaccurate, especially for `float32` (see\u001b[39m\n",
      "\u001b[33m    example below).  Specifying a higher-precision accumulator using the\u001b[39m\n",
      "\u001b[33m    `dtype` keyword can alleviate this issue.\u001b[39m\n",
      "\n",
      "\u001b[33m    By default, `float16` results are computed using `float32` intermediates\u001b[39m\n",
      "\u001b[33m    for extra precision.\u001b[39m\n",
      "\n",
      "\u001b[33m    Examples\u001b[39m\n",
      "\u001b[33m    --------\u001b[39m\n",
      "\u001b[33m    >>> import numpy as np\u001b[39m\n",
      "\u001b[33m    >>> a = np.array([[1, 2], [3, 4]])\u001b[39m\n",
      "\u001b[33m    >>> np.mean(a)\u001b[39m\n",
      "\u001b[33m    2.5\u001b[39m\n",
      "\u001b[33m    >>> np.mean(a, axis=0)\u001b[39m\n",
      "\u001b[33m    array([2., 3.])\u001b[39m\n",
      "\u001b[33m    >>> np.mean(a, axis=1)\u001b[39m\n",
      "\u001b[33m    array([1.5, 3.5])\u001b[39m\n",
      "\n",
      "\u001b[33m    In single precision, `mean` can be inaccurate:\u001b[39m\n",
      "\n",
      "\u001b[33m    >>> a = np.zeros((2, 512*512), dtype=np.float32)\u001b[39m\n",
      "\u001b[33m    >>> a[0, :] = 1.0\u001b[39m\n",
      "\u001b[33m    >>> a[1, :] = 0.1\u001b[39m\n",
      "\u001b[33m    >>> np.mean(a)\u001b[39m\n",
      "\u001b[33m    np.float32(0.54999924)\u001b[39m\n",
      "\n",
      "\u001b[33m    Computing the mean in float64 is more accurate:\u001b[39m\n",
      "\n",
      "\u001b[33m    >>> np.mean(a, dtype=np.float64)\u001b[39m\n",
      "\u001b[33m    0.55000000074505806 # may vary\u001b[39m\n",
      "\n",
      "\u001b[33m    Computing the mean in timedelta64 is available:\u001b[39m\n",
      "\n",
      "\u001b[33m    >>> b = np.array([1, 3], dtype=\"timedelta64[D]\")\u001b[39m\n",
      "\u001b[33m    >>> np.mean(b)\u001b[39m\n",
      "\u001b[33m    np.timedelta64(2,'D')\u001b[39m\n",
      "\n",
      "\u001b[33m    Specifying a where argument:\u001b[39m\n",
      "\n",
      "\u001b[33m    >>> a = np.array([[5, 9, 13], [14, 10, 12], [11, 15, 19]])\u001b[39m\n",
      "\u001b[33m    >>> np.mean(a)\u001b[39m\n",
      "\u001b[33m    12.0\u001b[39m\n",
      "\u001b[33m    >>> np.mean(a, where=[[True], [False], [False]])\u001b[39m\n",
      "\u001b[33m    9.0\u001b[39m\n",
      "\n",
      "\u001b[33m    \"\"\"\u001b[39m\n",
      "    kwargs = {}\n",
      "    \u001b[38;5;28;01mif\u001b[39;00m keepdims \u001b[38;5;28;01mis\u001b[39;00m \u001b[38;5;28;01mnot\u001b[39;00m np._NoValue:\n",
      "        kwargs[\u001b[33m'keepdims'\u001b[39m] = keepdims\n",
      "    \u001b[38;5;28;01mif\u001b[39;00m where \u001b[38;5;28;01mis\u001b[39;00m \u001b[38;5;28;01mnot\u001b[39;00m np._NoValue:\n",
      "        kwargs[\u001b[33m'where'\u001b[39m] = where\n",
      "    \u001b[38;5;28;01mif\u001b[39;00m type(a) \u001b[38;5;28;01mis\u001b[39;00m \u001b[38;5;28;01mnot\u001b[39;00m mu.ndarray:\n",
      "        \u001b[38;5;28;01mtry\u001b[39;00m:\n",
      "            mean = a.mean\n",
      "        \u001b[38;5;28;01mexcept\u001b[39;00m AttributeError:\n",
      "            \u001b[38;5;28;01mpass\u001b[39;00m\n",
      "        \u001b[38;5;28;01melse\u001b[39;00m:\n",
      "            \u001b[38;5;28;01mreturn\u001b[39;00m mean(axis=axis, dtype=dtype, out=out, **kwargs)\n",
      "\n",
      "    \u001b[38;5;28;01mreturn\u001b[39;00m _methods._mean(a, axis=axis, dtype=dtype,\n",
      "                          out=out, **kwargs)\n",
      "\u001b[31mClass docstring:\u001b[39m\n",
      "Class to wrap functions with checks for __array_function__ overrides.\n",
      "\n",
      "All arguments are required, and can only be passed by position.\n",
      "\n",
      "Parameters\n",
      "----------\n",
      "dispatcher : function or None\n",
      "    The dispatcher function that returns a single sequence-like object\n",
      "    of all arguments relevant.  It must have the same signature (except\n",
      "    the default values) as the actual implementation.\n",
      "    If ``None``, this is a ``like=`` dispatcher and the\n",
      "    ``_ArrayFunctionDispatcher`` must be called with ``like`` as the\n",
      "    first (additional and positional) argument.\n",
      "implementation : function\n",
      "    Function that implements the operation on NumPy arrays without\n",
      "    overrides.  Arguments passed calling the ``_ArrayFunctionDispatcher``\n",
      "    will be forwarded to this (and the ``dispatcher``) as if using\n",
      "    ``*args, **kwargs``.\n",
      "\n",
      "Attributes\n",
      "----------\n",
      "_implementation : function\n",
      "    The original implementation passed in."
     ]
    }
   ],
   "source": [
    "np.mean??"
   ]
  },
  {
   "cell_type": "markdown",
   "id": "868b7416",
   "metadata": {},
   "source": [
    "Tab 補完で numpy.random.default_rng を補完。"
   ]
  },
  {
   "cell_type": "code",
   "execution_count": 5,
   "id": "6f15141a",
   "metadata": {},
   "outputs": [
    {
     "data": {
      "text/plain": [
       "<cyfunction default_rng at 0x00000199AE509600>"
      ]
     },
     "execution_count": 5,
     "metadata": {},
     "output_type": "execute_result"
    }
   ],
   "source": [
    "np.random.default_rng"
   ]
  },
  {
   "cell_type": "markdown",
   "id": "e5ceedb8",
   "metadata": {},
   "source": [
    "%lsmagic で Magic コマンド一覧を表示。"
   ]
  },
  {
   "cell_type": "code",
   "execution_count": 6,
   "id": "b89f219e",
   "metadata": {},
   "outputs": [
    {
     "data": {
      "application/json": {
       "cell": {
        "!": "OSMagics",
        "HTML": "Other",
        "SVG": "Other",
        "bash": "Other",
        "capture": "ExecutionMagics",
        "cmd": "Other",
        "code_wrap": "ExecutionMagics",
        "debug": "ExecutionMagics",
        "file": "Other",
        "html": "DisplayMagics",
        "javascript": "DisplayMagics",
        "js": "DisplayMagics",
        "latex": "DisplayMagics",
        "markdown": "DisplayMagics",
        "perl": "Other",
        "prun": "ExecutionMagics",
        "pypy": "Other",
        "python": "Other",
        "python2": "Other",
        "python3": "Other",
        "ruby": "Other",
        "script": "ScriptMagics",
        "sh": "Other",
        "svg": "DisplayMagics",
        "sx": "OSMagics",
        "system": "OSMagics",
        "time": "ExecutionMagics",
        "timeit": "ExecutionMagics",
        "writefile": "OSMagics"
       },
       "line": {
        "alias": "OSMagics",
        "alias_magic": "BasicMagics",
        "autoawait": "AsyncMagics",
        "autocall": "AutoMagics",
        "automagic": "AutoMagics",
        "autosave": "KernelMagics",
        "bookmark": "OSMagics",
        "cd": "OSMagics",
        "clear": "KernelMagics",
        "cls": "KernelMagics",
        "code_wrap": "ExecutionMagics",
        "colors": "BasicMagics",
        "conda": "PackagingMagics",
        "config": "ConfigMagics",
        "connect_info": "KernelMagics",
        "copy": "Other",
        "ddir": "Other",
        "debug": "ExecutionMagics",
        "dhist": "OSMagics",
        "dirs": "OSMagics",
        "doctest_mode": "BasicMagics",
        "echo": "Other",
        "ed": "Other",
        "edit": "KernelMagics",
        "env": "OSMagics",
        "gui": "BasicMagics",
        "hist": "Other",
        "history": "HistoryMagics",
        "killbgscripts": "ScriptMagics",
        "ldir": "Other",
        "less": "KernelMagics",
        "load": "CodeMagics",
        "load_ext": "ExtensionMagics",
        "loadpy": "CodeMagics",
        "logoff": "LoggingMagics",
        "logon": "LoggingMagics",
        "logstart": "LoggingMagics",
        "logstate": "LoggingMagics",
        "logstop": "LoggingMagics",
        "ls": "Other",
        "lsmagic": "BasicMagics",
        "macro": "ExecutionMagics",
        "magic": "BasicMagics",
        "mamba": "PackagingMagics",
        "matplotlib": "PylabMagics",
        "micromamba": "PackagingMagics",
        "mkdir": "Other",
        "more": "KernelMagics",
        "notebook": "BasicMagics",
        "page": "BasicMagics",
        "pastebin": "CodeMagics",
        "pdb": "ExecutionMagics",
        "pdef": "NamespaceMagics",
        "pdoc": "NamespaceMagics",
        "pfile": "NamespaceMagics",
        "pinfo": "NamespaceMagics",
        "pinfo2": "NamespaceMagics",
        "pip": "PackagingMagics",
        "popd": "OSMagics",
        "pprint": "BasicMagics",
        "precision": "BasicMagics",
        "prun": "ExecutionMagics",
        "psearch": "NamespaceMagics",
        "psource": "NamespaceMagics",
        "pushd": "OSMagics",
        "pwd": "OSMagics",
        "pycat": "OSMagics",
        "pylab": "PylabMagics",
        "qtconsole": "KernelMagics",
        "quickref": "BasicMagics",
        "recall": "HistoryMagics",
        "rehashx": "OSMagics",
        "reload_ext": "ExtensionMagics",
        "ren": "Other",
        "rep": "Other",
        "rerun": "HistoryMagics",
        "reset": "NamespaceMagics",
        "reset_selective": "NamespaceMagics",
        "rmdir": "Other",
        "run": "ExecutionMagics",
        "save": "CodeMagics",
        "sc": "OSMagics",
        "set_env": "OSMagics",
        "store": "StoreMagics",
        "sx": "OSMagics",
        "system": "OSMagics",
        "tb": "ExecutionMagics",
        "time": "ExecutionMagics",
        "timeit": "ExecutionMagics",
        "unalias": "OSMagics",
        "unload_ext": "ExtensionMagics",
        "uv": "PackagingMagics",
        "who": "NamespaceMagics",
        "who_ls": "NamespaceMagics",
        "whos": "NamespaceMagics",
        "xdel": "NamespaceMagics",
        "xmode": "BasicMagics"
       }
      },
      "text/plain": [
       "Available line magics:\n",
       "%alias  %alias_magic  %autoawait  %autocall  %automagic  %autosave  %bookmark  %cd  %clear  %cls  %code_wrap  %colors  %conda  %config  %connect_info  %copy  %ddir  %debug  %dhist  %dirs  %doctest_mode  %echo  %ed  %edit  %env  %gui  %hist  %history  %killbgscripts  %ldir  %less  %load  %load_ext  %loadpy  %logoff  %logon  %logstart  %logstate  %logstop  %ls  %lsmagic  %macro  %magic  %mamba  %matplotlib  %micromamba  %mkdir  %more  %notebook  %page  %pastebin  %pdb  %pdef  %pdoc  %pfile  %pinfo  %pinfo2  %pip  %popd  %pprint  %precision  %prun  %psearch  %psource  %pushd  %pwd  %pycat  %pylab  %qtconsole  %quickref  %recall  %rehashx  %reload_ext  %ren  %rep  %rerun  %reset  %reset_selective  %rmdir  %run  %save  %sc  %set_env  %store  %sx  %system  %tb  %time  %timeit  %unalias  %unload_ext  %uv  %who  %who_ls  %whos  %xdel  %xmode\n",
       "\n",
       "Available cell magics:\n",
       "%%!  %%HTML  %%SVG  %%bash  %%capture  %%cmd  %%code_wrap  %%debug  %%file  %%html  %%javascript  %%js  %%latex  %%markdown  %%perl  %%prun  %%pypy  %%python  %%python2  %%python3  %%ruby  %%script  %%sh  %%svg  %%sx  %%system  %%time  %%timeit  %%writefile\n",
       "\n",
       "Automagic is ON, % prefix IS NOT needed for line magics."
      ]
     },
     "execution_count": 6,
     "metadata": {},
     "output_type": "execute_result"
    }
   ],
   "source": [
    "%lsmagic"
   ]
  },
  {
   "cell_type": "markdown",
   "id": "5f3aee34",
   "metadata": {},
   "source": [
    "%timeit sum(range(1_000)) を計測。"
   ]
  },
  {
   "cell_type": "code",
   "execution_count": 7,
   "id": "b295225f",
   "metadata": {},
   "outputs": [
    {
     "name": "stdout",
     "output_type": "stream",
     "text": [
      "11.3 μs ± 1.64 μs per loop (mean ± std. dev. of 7 runs, 100,000 loops each)\n"
     ]
    }
   ],
   "source": [
    "%timeit sum(range(1_000))"
   ]
  },
  {
   "cell_type": "markdown",
   "id": "503a1eef",
   "metadata": {},
   "source": [
    "%run hello.py で自作スクリプトを実行。"
   ]
  },
  {
   "cell_type": "code",
   "execution_count": 8,
   "id": "584da78f",
   "metadata": {},
   "outputs": [
    {
     "name": "stdout",
     "output_type": "stream",
     "text": [
      "Hello world.\n"
     ]
    }
   ],
   "source": [
    "%run hello.py "
   ]
  },
  {
   "cell_type": "markdown",
   "id": "739805d3",
   "metadata": {},
   "source": [
    "%prun で自作関数のプロファイルを取得。"
   ]
  },
  {
   "cell_type": "code",
   "execution_count": 9,
   "id": "4562fd1c",
   "metadata": {},
   "outputs": [],
   "source": [
    "def sample_func_1():\n",
    "    index_list = []\n",
    "    for i in range(1000000):\n",
    "        index_list.append(i)\n",
    "\n",
    "\n",
    "def sample_func_2():\n",
    "    index_list = []\n",
    "    for i in range(2000000):\n",
    "        index_list.append(i)\n",
    "\n",
    "\n",
    "def sample_func_3():\n",
    "    index_list = []\n",
    "    for i in range(6000000):\n",
    "        index_list.append(i)\n",
    "\n",
    "\n",
    "def sample_func_4():\n",
    "    sample_func_1()\n",
    "    sample_func_2()\n",
    "    sample_func_3()\n"
   ]
  },
  {
   "cell_type": "code",
   "execution_count": 10,
   "id": "6d3dfa9a",
   "metadata": {},
   "outputs": [
    {
     "name": "stdout",
     "output_type": "stream",
     "text": [
      " "
     ]
    },
    {
     "name": "stdout",
     "output_type": "stream",
     "text": [
      "         9000183 function calls in 2.007 seconds\n",
      "\n",
      "   Ordered by: internal time\n",
      "\n",
      "   ncalls  tottime  percall  cumtime  percall filename:lineno(function)\n",
      "  9000000    0.974    0.000    0.974    0.000 {method 'append' of 'list' objects}\n",
      "        2    0.613    0.306    1.196    0.598 {built-in method select.select}\n",
      "        1    0.222    0.222    0.425    0.425 2123655570.py:7(sample_func_2)\n",
      "        1    0.092    0.092    0.177    0.177 2123655570.py:13(sample_func_3)\n",
      "        1    0.046    0.046    0.223    0.223 2123655570.py:19(sample_func_4)\n",
      "        2    0.023    0.011    1.684    0.842 selectors.py:304(_select)\n",
      "        1    0.020    0.020    0.040    0.040 2123655570.py:1(sample_func_1)\n",
      "        2    0.016    0.008    0.030    0.015 {method '__exit__' of 'sqlite3.Connection' objects}\n",
      "        1    0.000    0.000    0.000    0.000 {method 'disable' of '_lsprof.Profiler' objects}\n",
      "        2    0.000    0.000    1.684    0.842 selectors.py:310(select)\n",
      "        2    0.000    0.000    1.684    0.842 base_events.py:1962(_run_once)\n",
      "        4    0.000    0.000    0.000    0.000 events.py:87(_run)\n",
      "        4    0.000    0.000    0.000    0.000 {method 'run' of '_contextvars.Context' objects}\n",
      "        2    0.000    0.000    0.000    0.000 tasks.py:703(sleep)\n",
      "        2    0.000    0.000    0.000    0.000 traitlets.py:3631(set)\n",
      "        6    0.000    0.000    0.000    0.000 base_events.py:772(time)\n",
      "        2    0.000    0.000    0.000    0.000 iostream.py:718(_rotate_buffers)\n",
      "        1    0.000    0.000    0.000    0.000 traitlets.py:1527(_notify_observers)\n",
      "        1    0.000    0.000    0.000    0.000 iostream.py:118(_run_event_pipe_gc)\n",
      "        3    0.000    0.000    0.000    0.000 threading.py:1136(is_alive)\n",
      "        1    0.000    0.000    0.000    0.000 iostream.py:127(_event_pipe_gc)\n",
      "        1    0.000    0.000    0.000    0.000 futures.py:310(_set_result_unless_cancelled)\n",
      "        1    0.000    0.000    0.223    0.223 {built-in method builtins.exec}\n",
      "        2    0.000    0.000    0.000    0.000 traitlets.py:689(set)\n",
      "        2    0.000    0.000    0.000    0.000 iostream.py:616(_flush)\n",
      "        2    0.000    0.000    0.000    0.000 iostream.py:710(_flush_buffers)\n",
      "        3    0.000    0.000    0.000    0.000 {built-in method _heapq.heappop}\n",
      "        2    0.000    0.000    0.000    0.000 traitlets.py:718(_validate)\n",
      "        1    0.000    0.000    0.000    0.000 events.py:157(cancel)\n",
      "        2    0.000    0.000    0.000    0.000 events.py:36(__init__)\n",
      "        1    0.000    0.000    0.000    0.000 threading.py:318(_is_owned)\n",
      "        2    0.000    0.000    0.000    0.000 traitlets.py:3624(validate_elements)\n",
      "        2    0.000    0.000    0.000    0.000 traitlets.py:727(_cross_validate)\n",
      "        2    0.000    0.000    0.000    0.000 traitlets.py:3474(validate)\n",
      "        2    0.000    0.000    0.000    0.000 ioloop.py:750(_run_callback)\n",
      "        1    0.000    0.000    0.000    0.000 traitlets.py:1512(_notify_trait)\n",
      "        1    0.000    0.000    0.000    0.000 base_events.py:781(call_later)\n",
      "        5    0.000    0.000    0.000    0.000 {built-in method builtins.hasattr}\n",
      "        1    0.000    0.000    0.000    0.000 {method 'set_result' of '_asyncio.Future' objects}\n",
      "        1    0.000    0.000    0.000    0.000 contextlib.py:145(__exit__)\n",
      "        1    0.000    0.000    0.000    0.000 base_events.py:805(call_at)\n",
      "        1    0.000    0.000    0.000    0.000 base_events.py:852(_call_soon)\n",
      "        1    0.000    0.000    0.000    0.000 base_events.py:457(create_future)\n",
      "        8    0.000    0.000    0.000    0.000 {built-in method builtins.len}\n",
      "        2    0.000    0.000    0.000    0.000 traitlets.py:708(__set__)\n",
      "        2    0.000    0.000    0.000    0.000 traitlets.py:2304(validate)\n",
      "        1    0.000    0.000    0.000    0.000 history.py:1016(_writeout_output_cache)\n",
      "        6    0.000    0.000    0.000    0.000 {built-in method time.monotonic}\n",
      "        3    0.000    0.000    0.000    0.000 selector_events.py:740(_process_events)\n",
      "        1    0.000    0.000    0.000    0.000 traitlets.py:1523(notify_change)\n",
      "        5    0.000    0.000    0.000    0.000 {method 'append' of 'collections.deque' objects}\n",
      "        1    0.000    0.000    0.000    0.000 traitlets.py:676(__get__)\n",
      "        8    0.000    0.000    0.000    0.000 {built-in method builtins.isinstance}\n",
      "        1    0.000    0.000    0.000    0.000 {built-in method builtins.next}\n",
      "        4    0.000    0.000    0.000    0.000 {method 'popleft' of 'collections.deque' objects}\n",
      "        1    0.000    0.000    0.000    0.000 base_events.py:823(call_soon)\n",
      "        3    0.000    0.000    0.000    0.000 {built-in method builtins.max}\n",
      "        1    0.000    0.000    0.223    0.223 <string>:1(<module>)\n",
      "        1    0.000    0.000    0.000    0.000 events.py:129(__lt__)\n",
      "        1    0.000    0.000    0.000    0.000 events.py:113(__init__)\n",
      "        4    0.000    0.000    0.000    0.000 {method 'get' of 'dict' objects}\n",
      "        2    0.000    0.000    0.000    0.000 traitlets.py:3486(validate_elements)\n",
      "        3    0.000    0.000    0.000    0.000 {method 'items' of 'dict' objects}\n",
      "        1    0.000    0.000    0.000    0.000 threading.py:303(__enter__)\n",
      "        1    0.000    0.000    0.000    0.000 threading.py:312(_release_save)\n",
      "        1    0.000    0.000    0.000    0.000 events.py:73(cancel)\n",
      "        3    0.000    0.000    0.000    0.000 {method '__exit__' of '_thread.lock' objects}\n",
      "        1    0.000    0.000    0.000    0.000 {method 'cancelled' of '_asyncio.Future' objects}\n",
      "       12    0.000    0.000    0.000    0.000 typing.py:2371(cast)\n",
      "        2    0.000    0.000    0.000    0.000 {method 'acquire' of '_thread.lock' objects}\n",
      "        1    0.000    0.000    0.000    0.000 {built-in method math.isnan}\n",
      "        1    0.000    0.000    0.000    0.000 traitlets.py:629(get)\n",
      "        3    0.000    0.000    0.000    0.000 {method 'is_done' of '_thread._ThreadHandle' objects}\n",
      "        4    0.000    0.000    0.000    0.000 base_events.py:2060(get_debug)\n",
      "        2    0.000    0.000    0.000    0.000 {method 'extend' of 'list' objects}\n",
      "        1    0.000    0.000    0.000    0.000 {built-in method _heapq.heappush}\n",
      "        2    0.000    0.000    0.000    0.000 {method '__exit__' of '_thread.RLock' objects}\n",
      "        1    0.000    0.000    0.000    0.000 base_events.py:1957(_timer_handle_cancelled)\n",
      "        1    0.000    0.000    0.000    0.000 {built-in method _contextvars.copy_context}\n",
      "        1    0.000    0.000    0.000    0.000 {built-in method _thread.allocate_lock}\n",
      "        1    0.000    0.000    0.000    0.000 {built-in method _asyncio.get_running_loop}\n",
      "        2    0.000    0.000    0.000    0.000 base_events.py:554(_check_closed)\n",
      "        1    0.000    0.000    0.000    0.000 {method '__enter__' of '_thread.lock' objects}\n",
      "        3    0.000    0.000    0.000    0.000 threading.py:605(is_set)\n",
      "        1    0.000    0.000    0.000    0.000 {method 'release' of '_thread.lock' objects}\n",
      "        1    0.000    0.000    0.000    0.000 history.py:1065(hold)"
     ]
    }
   ],
   "source": [
    "%%prun\n",
    "sample_func_4()"
   ]
  },
  {
   "cell_type": "markdown",
   "id": "1c573f32",
   "metadata": {},
   "source": [
    "Python リスト [1,2,3] を作り type() を確認。"
   ]
  },
  {
   "cell_type": "code",
   "execution_count": 11,
   "id": "cef950e9",
   "metadata": {},
   "outputs": [
    {
     "data": {
      "text/plain": [
       "list"
      ]
     },
     "execution_count": 11,
     "metadata": {},
     "output_type": "execute_result"
    }
   ],
   "source": [
    "A=[1,2,3]\n",
    "type(A)"
   ]
  },
  {
   "cell_type": "markdown",
   "id": "711cf516",
   "metadata": {},
   "source": [
    "同じ要素で np.array を作り型を比較。"
   ]
  },
  {
   "cell_type": "code",
   "execution_count": 12,
   "id": "cd344c9f",
   "metadata": {},
   "outputs": [
    {
     "data": {
      "text/plain": [
       "numpy.ndarray"
      ]
     },
     "execution_count": 12,
     "metadata": {},
     "output_type": "execute_result"
    }
   ],
   "source": [
    "B=np.array(A)\n",
    "type(B)"
   ]
  },
  {
   "cell_type": "markdown",
   "id": "bac43200",
   "metadata": {},
   "source": [
    "arr = np.arange(10) の shape, dtype, ndim を表示。"
   ]
  },
  {
   "cell_type": "code",
   "execution_count": 13,
   "id": "89d3b07e",
   "metadata": {},
   "outputs": [
    {
     "name": "stdout",
     "output_type": "stream",
     "text": [
      "[0 1 2 3 4 5 6 7 8 9]\n",
      "(10,)\n",
      "int64\n",
      "1\n"
     ]
    }
   ],
   "source": [
    "arr=np.arange(10)\n",
    "print(arr)\n",
    "print(arr.shape)\n",
    "print(arr.dtype)\n",
    "print(arr.ndim)"
   ]
  },
  {
   "cell_type": "markdown",
   "id": "53d4df38",
   "metadata": {},
   "source": [
    "14. `np.zeros((10,10))` を生成。\n"
   ]
  },
  {
   "cell_type": "code",
   "execution_count": 14,
   "id": "a086fa4e",
   "metadata": {},
   "outputs": [
    {
     "data": {
      "text/plain": [
       "array([[0., 0., 0., 0., 0., 0., 0., 0., 0., 0.],\n",
       "       [0., 0., 0., 0., 0., 0., 0., 0., 0., 0.],\n",
       "       [0., 0., 0., 0., 0., 0., 0., 0., 0., 0.],\n",
       "       [0., 0., 0., 0., 0., 0., 0., 0., 0., 0.],\n",
       "       [0., 0., 0., 0., 0., 0., 0., 0., 0., 0.],\n",
       "       [0., 0., 0., 0., 0., 0., 0., 0., 0., 0.],\n",
       "       [0., 0., 0., 0., 0., 0., 0., 0., 0., 0.],\n",
       "       [0., 0., 0., 0., 0., 0., 0., 0., 0., 0.],\n",
       "       [0., 0., 0., 0., 0., 0., 0., 0., 0., 0.],\n",
       "       [0., 0., 0., 0., 0., 0., 0., 0., 0., 0.]])"
      ]
     },
     "execution_count": 14,
     "metadata": {},
     "output_type": "execute_result"
    }
   ],
   "source": [
    "z=np.zeros((10,10))\n",
    "z"
   ]
  },
  {
   "cell_type": "markdown",
   "id": "0fd9f292",
   "metadata": {},
   "source": [
    "arr.reshape(2,5) で形状変更。"
   ]
  },
  {
   "cell_type": "code",
   "execution_count": 15,
   "id": "ad892fff",
   "metadata": {},
   "outputs": [
    {
     "data": {
      "text/plain": [
       "array([[0, 1, 2, 3, 4],\n",
       "       [5, 6, 7, 8, 9]])"
      ]
     },
     "execution_count": 15,
     "metadata": {},
     "output_type": "execute_result"
    }
   ],
   "source": [
    "arr_reshape=arr.reshape(2,5)\n",
    "arr_reshape"
   ]
  },
  {
   "cell_type": "markdown",
   "id": "88caad01",
   "metadata": {},
   "source": [
    "np.linspace(0,1,5) を生成。"
   ]
  },
  {
   "cell_type": "code",
   "execution_count": 16,
   "id": "ea61361b",
   "metadata": {},
   "outputs": [
    {
     "name": "stdout",
     "output_type": "stream",
     "text": [
      "\u001b[31mSignature:\u001b[39m      \n",
      "np.linspace(\n",
      "    start,\n",
      "    stop,\n",
      "    num=\u001b[32m50\u001b[39m,\n",
      "    endpoint=\u001b[38;5;28;01mTrue\u001b[39;00m,\n",
      "    retstep=\u001b[38;5;28;01mFalse\u001b[39;00m,\n",
      "    dtype=\u001b[38;5;28;01mNone\u001b[39;00m,\n",
      "    axis=\u001b[32m0\u001b[39m,\n",
      "    *,\n",
      "    device=\u001b[38;5;28;01mNone\u001b[39;00m,\n",
      ")\n",
      "\u001b[31mCall signature:\u001b[39m  np.linspace(*args, **kwargs)\n",
      "\u001b[31mType:\u001b[39m            _ArrayFunctionDispatcher\n",
      "\u001b[31mString form:\u001b[39m     <function linspace at 0x00000199AE2D7560>\n",
      "\u001b[31mFile:\u001b[39m            c:\\python\\python-data-science-handbook\\venv\\lib\\site-packages\\numpy\\_core\\function_base.py\n",
      "\u001b[31mDocstring:\u001b[39m      \n",
      "Return evenly spaced numbers over a specified interval.\n",
      "\n",
      "Returns `num` evenly spaced samples, calculated over the\n",
      "interval [`start`, `stop`].\n",
      "\n",
      "The endpoint of the interval can optionally be excluded.\n",
      "\n",
      ".. versionchanged:: 1.20.0\n",
      "    Values are rounded towards ``-inf`` instead of ``0`` when an\n",
      "    integer ``dtype`` is specified. The old behavior can\n",
      "    still be obtained with ``np.linspace(start, stop, num).astype(int)``\n",
      "\n",
      "Parameters\n",
      "----------\n",
      "start : array_like\n",
      "    The starting value of the sequence.\n",
      "stop : array_like\n",
      "    The end value of the sequence, unless `endpoint` is set to False.\n",
      "    In that case, the sequence consists of all but the last of ``num + 1``\n",
      "    evenly spaced samples, so that `stop` is excluded.  Note that the step\n",
      "    size changes when `endpoint` is False.\n",
      "num : int, optional\n",
      "    Number of samples to generate. Default is 50. Must be non-negative.\n",
      "endpoint : bool, optional\n",
      "    If True, `stop` is the last sample. Otherwise, it is not included.\n",
      "    Default is True.\n",
      "retstep : bool, optional\n",
      "    If True, return (`samples`, `step`), where `step` is the spacing\n",
      "    between samples.\n",
      "dtype : dtype, optional\n",
      "    The type of the output array.  If `dtype` is not given, the data type\n",
      "    is inferred from `start` and `stop`. The inferred dtype will never be\n",
      "    an integer; `float` is chosen even if the arguments would produce an\n",
      "    array of integers.\n",
      "axis : int, optional\n",
      "    The axis in the result to store the samples.  Relevant only if start\n",
      "    or stop are array-like.  By default (0), the samples will be along a\n",
      "    new axis inserted at the beginning. Use -1 to get an axis at the end.\n",
      "device : str, optional\n",
      "    The device on which to place the created array. Default: None.\n",
      "    For Array-API interoperability only, so must be ``\"cpu\"`` if passed.\n",
      "\n",
      "    .. versionadded:: 2.0.0\n",
      "\n",
      "Returns\n",
      "-------\n",
      "samples : ndarray\n",
      "    There are `num` equally spaced samples in the closed interval\n",
      "    ``[start, stop]`` or the half-open interval ``[start, stop)``\n",
      "    (depending on whether `endpoint` is True or False).\n",
      "step : float, optional\n",
      "    Only returned if `retstep` is True\n",
      "\n",
      "    Size of spacing between samples.\n",
      "\n",
      "\n",
      "See Also\n",
      "--------\n",
      "arange : Similar to `linspace`, but uses a step size (instead of the\n",
      "         number of samples).\n",
      "geomspace : Similar to `linspace`, but with numbers spaced evenly on a log\n",
      "            scale (a geometric progression).\n",
      "logspace : Similar to `geomspace`, but with the end points specified as\n",
      "           logarithms.\n",
      ":ref:`how-to-partition`\n",
      "\n",
      "Examples\n",
      "--------\n",
      ">>> import numpy as np\n",
      ">>> np.linspace(2.0, 3.0, num=5)\n",
      "array([2.  , 2.25, 2.5 , 2.75, 3.  ])\n",
      ">>> np.linspace(2.0, 3.0, num=5, endpoint=False)\n",
      "array([2. ,  2.2,  2.4,  2.6,  2.8])\n",
      ">>> np.linspace(2.0, 3.0, num=5, retstep=True)\n",
      "(array([2.  ,  2.25,  2.5 ,  2.75,  3.  ]), 0.25)\n",
      "\n",
      "Graphical illustration:\n",
      "\n",
      ">>> import matplotlib.pyplot as plt\n",
      ">>> N = 8\n",
      ">>> y = np.zeros(N)\n",
      ">>> x1 = np.linspace(0, 10, N, endpoint=True)\n",
      ">>> x2 = np.linspace(0, 10, N, endpoint=False)\n",
      ">>> plt.plot(x1, y, 'o')\n",
      "[<matplotlib.lines.Line2D object at 0x...>]\n",
      ">>> plt.plot(x2, y + 0.5, 'o')\n",
      "[<matplotlib.lines.Line2D object at 0x...>]\n",
      ">>> plt.ylim([-0.5, 1])\n",
      "(-0.5, 1)\n",
      ">>> plt.show()\n",
      "\u001b[31mClass docstring:\u001b[39m\n",
      "Class to wrap functions with checks for __array_function__ overrides.\n",
      "\n",
      "All arguments are required, and can only be passed by position.\n",
      "\n",
      "Parameters\n",
      "----------\n",
      "dispatcher : function or None\n",
      "    The dispatcher function that returns a single sequence-like object\n",
      "    of all arguments relevant.  It must have the same signature (except\n",
      "    the default values) as the actual implementation.\n",
      "    If ``None``, this is a ``like=`` dispatcher and the\n",
      "    ``_ArrayFunctionDispatcher`` must be called with ``like`` as the\n",
      "    first (additional and positional) argument.\n",
      "implementation : function\n",
      "    Function that implements the operation on NumPy arrays without\n",
      "    overrides.  Arguments passed calling the ``_ArrayFunctionDispatcher``\n",
      "    will be forwarded to this (and the ``dispatcher``) as if using\n",
      "    ``*args, **kwargs``.\n",
      "\n",
      "Attributes\n",
      "----------\n",
      "_implementation : function\n",
      "    The original implementation passed in."
     ]
    }
   ],
   "source": [
    "np.linspace?"
   ]
  },
  {
   "cell_type": "code",
   "execution_count": 17,
   "id": "cfec8b77",
   "metadata": {},
   "outputs": [
    {
     "data": {
      "text/plain": [
       "array([0.  , 0.25, 0.5 , 0.75, 1.  ])"
      ]
     },
     "execution_count": 17,
     "metadata": {},
     "output_type": "execute_result"
    }
   ],
   "source": [
    "B=np.linspace(0,1,5)\n",
    "B"
   ]
  },
  {
   "cell_type": "markdown",
   "id": "7e546259",
   "metadata": {},
   "source": [
    "for ループで 1‒1e7 合計を計測。"
   ]
  },
  {
   "cell_type": "code",
   "execution_count": 18,
   "id": "9fa86a79",
   "metadata": {},
   "outputs": [
    {
     "name": "stdout",
     "output_type": "stream",
     "text": [
      "311 ms ± 5.97 ms per loop (mean ± std. dev. of 7 runs, 1 loop each)\n"
     ]
    }
   ],
   "source": [
    "%%timeit\n",
    "\n",
    "c=0\n",
    "for i in range(1,10**7+1):\n",
    "    c+=i\n",
    "c"
   ]
  },
  {
   "cell_type": "markdown",
   "id": "7776ff1b",
   "metadata": {},
   "source": [
    "同じ計算を np.sum で行い速度比較。"
   ]
  },
  {
   "cell_type": "code",
   "execution_count": 19,
   "id": "53c1eb23",
   "metadata": {},
   "outputs": [
    {
     "name": "stdout",
     "output_type": "stream",
     "text": [
      "27.8 ms ± 595 μs per loop (mean ± std. dev. of 7 runs, 10 loops each)\n"
     ]
    }
   ],
   "source": [
    "%%timeit\n",
    "npsum=np.sum(np.arange(1,10**7+1))\n",
    "npsum"
   ]
  },
  {
   "cell_type": "markdown",
   "id": "e50cce21",
   "metadata": {},
   "source": [
    "dtype='float32' の乱数 100 万個を生成。"
   ]
  },
  {
   "cell_type": "code",
   "execution_count": 20,
   "id": "7e156a9e",
   "metadata": {},
   "outputs": [],
   "source": [
    "import random"
   ]
  },
  {
   "cell_type": "code",
   "execution_count": 21,
   "id": "a6d7320f",
   "metadata": {},
   "outputs": [
    {
     "name": "stdout",
     "output_type": "stream",
     "text": [
      "39.6 ms ± 623 μs per loop (mean ± std. dev. of 7 runs, 10 loops each)\n"
     ]
    }
   ],
   "source": [
    "%%timeit\n",
    "for _ in range(1000000):\n",
    "    random.random()\n",
    "\n",
    "type(random.random())"
   ]
  },
  {
   "cell_type": "markdown",
   "id": "6b2c5793",
   "metadata": {},
   "source": [
    "dtype='float32' の乱数 100 万個を生成。"
   ]
  },
  {
   "cell_type": "code",
   "execution_count": 22,
   "id": "a59e9e67",
   "metadata": {},
   "outputs": [
    {
     "data": {
      "text/plain": [
       "array([0.00266962, 0.45579875, 0.8929692 , ..., 0.15545607, 0.639533  ,\n",
       "       0.6091761 ], shape=(1000000,), dtype=float32)"
      ]
     },
     "execution_count": 22,
     "metadata": {},
     "output_type": "execute_result"
    }
   ],
   "source": [
    "np.random.rand(1000000).astype(np.float32)"
   ]
  },
  {
   "cell_type": "markdown",
   "id": "cbbff312",
   "metadata": {},
   "source": [
    "コピーとビューの挙動を確認。"
   ]
  },
  {
   "cell_type": "code",
   "execution_count": 23,
   "id": "13ebdeee",
   "metadata": {},
   "outputs": [
    {
     "name": "stdout",
     "output_type": "stream",
     "text": [
      "元の配列: [1 2 3 4 5]\n",
      "コピーされた配列: [1 2 3 4 5]\n",
      "コピーを変更後: [99  2  3  4  5]\n",
      "元の配列 (変化なし): [1 2 3 4 5]\n"
     ]
    }
   ],
   "source": [
    "# 元の配列\n",
    "original_array = np.array([1, 2, 3, 4, 5])\n",
    "print(\"元の配列:\", original_array)\n",
    "\n",
    "# コピーを作成\n",
    "copied_array = original_array.copy()\n",
    "print(\"コピーされた配列:\", copied_array)\n",
    "\n",
    "# コピーを変更\n",
    "copied_array[0] = 99\n",
    "print(\"コピーを変更後:\", copied_array)\n",
    "print(\"元の配列 (変化なし):\", original_array)\n"
   ]
  },
  {
   "cell_type": "code",
   "execution_count": 24,
   "id": "228424cd",
   "metadata": {},
   "outputs": [
    {
     "data": {
      "text/plain": [
       "array([ 5,  6,  7,  8,  9, 10, 11, 12, 13, 14])"
      ]
     },
     "execution_count": 24,
     "metadata": {},
     "output_type": "execute_result"
    }
   ],
   "source": [
    "zeroto99=np.arange(100)\n",
    "zeroto99[5:15]"
   ]
  },
  {
   "cell_type": "code",
   "execution_count": 25,
   "id": "981c5813",
   "metadata": {},
   "outputs": [
    {
     "data": {
      "text/plain": [
       "array([[0.80982556, 0.44860387, 0.15069277, 0.67555236, 0.26481199,\n",
       "        0.6352907 , 0.88288348, 0.71745019, 0.7647313 , 0.75973427],\n",
       "       [0.68468027, 0.06749188, 0.51018057, 0.36483364, 0.46791126,\n",
       "        0.05561036, 0.74164216, 0.35404291, 0.90752467, 0.26089705],\n",
       "       [0.82167774, 0.56102646, 0.73045806, 0.20944741, 0.62825709,\n",
       "        0.05392959, 0.07748039, 0.29043292, 0.874697  , 0.51689229],\n",
       "       [0.79782195, 0.31485617, 0.91805006, 0.36390765, 0.70184626,\n",
       "        0.24024942, 0.31894948, 0.90449096, 0.25349475, 0.14972481],\n",
       "       [0.18072668, 0.61905608, 0.39194125, 0.80549825, 0.12675377,\n",
       "        0.05546436, 0.0095599 , 0.88271528, 0.70619235, 0.64354544],\n",
       "       [0.58350539, 0.77085815, 0.39092786, 0.17607146, 0.01633209,\n",
       "        0.29513419, 0.50330108, 0.91967787, 0.22048763, 0.94380543],\n",
       "       [0.44473198, 0.5260387 , 0.50913196, 0.91423447, 0.27928616,\n",
       "        0.14466638, 0.84047811, 0.71928017, 0.74205544, 0.6752073 ],\n",
       "       [0.75230427, 0.36358419, 0.55659122, 0.89693381, 0.47897302,\n",
       "        0.51650946, 0.1591449 , 0.23820477, 0.55373179, 0.21808609],\n",
       "       [0.32766941, 0.61971809, 0.11265186, 0.32668196, 0.62751265,\n",
       "        0.93952125, 0.14863703, 0.54746356, 0.58724215, 0.16487521],\n",
       "       [0.89601015, 0.65136615, 0.03800787, 0.82952984, 0.20950637,\n",
       "        0.84753915, 0.54585264, 0.07578705, 0.48160441, 0.41516908]])"
      ]
     },
     "execution_count": 25,
     "metadata": {},
     "output_type": "execute_result"
    }
   ],
   "source": [
    "random_matrix = np.random.rand(10, 10)\n",
    "random_matrix"
   ]
  },
  {
   "cell_type": "markdown",
   "id": "6a66207f",
   "metadata": {},
   "source": [
    "10×10 配列の 1 行目を取得。"
   ]
  },
  {
   "cell_type": "code",
   "execution_count": 26,
   "id": "41889777",
   "metadata": {},
   "outputs": [
    {
     "data": {
      "text/plain": [
       "array([0.80982556, 0.44860387, 0.15069277, 0.67555236, 0.26481199,\n",
       "       0.6352907 , 0.88288348, 0.71745019, 0.7647313 , 0.75973427])"
      ]
     },
     "execution_count": 26,
     "metadata": {},
     "output_type": "execute_result"
    }
   ],
   "source": [
    "random_matrix[0]"
   ]
  },
  {
   "cell_type": "markdown",
   "id": "8740fd97",
   "metadata": {},
   "source": [
    "同配列の 1 列目を取得。"
   ]
  },
  {
   "cell_type": "code",
   "execution_count": 27,
   "id": "4afe6094",
   "metadata": {},
   "outputs": [
    {
     "data": {
      "text/plain": [
       "array([0.80982556, 0.68468027, 0.82167774, 0.79782195, 0.18072668,\n",
       "       0.58350539, 0.44473198, 0.75230427, 0.32766941, 0.89601015])"
      ]
     },
     "execution_count": 27,
     "metadata": {},
     "output_type": "execute_result"
    }
   ],
   "source": [
    "random_matrix[:,0]"
   ]
  },
  {
   "cell_type": "markdown",
   "id": "f71c1dfa",
   "metadata": {},
   "source": [
    "3×3 のサブ配列をスライス取得。"
   ]
  },
  {
   "cell_type": "code",
   "execution_count": 28,
   "id": "6456497a",
   "metadata": {},
   "outputs": [
    {
     "data": {
      "text/plain": [
       "array([[0.80982556, 0.44860387, 0.15069277],\n",
       "       [0.68468027, 0.06749188, 0.51018057],\n",
       "       [0.82167774, 0.56102646, 0.73045806]])"
      ]
     },
     "execution_count": 28,
     "metadata": {},
     "output_type": "execute_result"
    }
   ],
   "source": [
    "random_matrix[:3,:3]"
   ]
  },
  {
   "cell_type": "markdown",
   "id": "5ec853db",
   "metadata": {},
   "source": [
    "ビューを変更して元配列も変わることを確認。"
   ]
  },
  {
   "cell_type": "code",
   "execution_count": 29,
   "id": "89742729",
   "metadata": {},
   "outputs": [
    {
     "data": {
      "text/plain": [
       "array([0.        , 0.44860387, 0.15069277, 0.67555236, 0.26481199,\n",
       "       0.6352907 , 0.88288348, 0.71745019, 0.7647313 , 0.75973427])"
      ]
     },
     "execution_count": 29,
     "metadata": {},
     "output_type": "execute_result"
    }
   ],
   "source": [
    "c=random_matrix\n",
    "c[0,0]=0\n",
    "random_matrix[0]"
   ]
  },
  {
   "cell_type": "markdown",
   "id": "db6aad04",
   "metadata": {},
   "source": [
    "(2,3) 要素を書き換え。"
   ]
  },
  {
   "cell_type": "code",
   "execution_count": 30,
   "id": "e1fd2e4c",
   "metadata": {},
   "outputs": [
    {
     "data": {
      "text/plain": [
       "array([[0.        , 0.44860387, 0.15069277, 0.67555236],\n",
       "       [0.68468027, 0.06749188, 0.51018057, 0.36483364],\n",
       "       [0.82167774, 0.56102646, 0.73045806, 0.        ],\n",
       "       [0.79782195, 0.31485617, 0.91805006, 0.36390765]])"
      ]
     },
     "execution_count": 30,
     "metadata": {},
     "output_type": "execute_result"
    }
   ],
   "source": [
    "c[2,3]=0\n",
    "c[:4,:4]"
   ]
  },
  {
   "cell_type": "markdown",
   "id": "96884317",
   "metadata": {},
   "source": [
    "arr[::-1] で逆順。"
   ]
  },
  {
   "cell_type": "code",
   "execution_count": 31,
   "id": "f207baef",
   "metadata": {},
   "outputs": [],
   "source": [
    "original=np.array([\n",
    "     [1,2,3,4,5,6,7,8,9,10],\n",
    "     [11,12,13,14,15,16,17,18,19,20],\n",
    "     [21,22,23,24,25,26,27,28,29,30],\n",
    "     [31,32,33,34,35,36,37,38,39,40]\n",
    "     ])"
   ]
  },
  {
   "cell_type": "code",
   "execution_count": 32,
   "id": "b6226597",
   "metadata": {},
   "outputs": [],
   "source": [
    "arr=original.copy()"
   ]
  },
  {
   "cell_type": "code",
   "execution_count": 33,
   "id": "044b00f2",
   "metadata": {},
   "outputs": [
    {
     "data": {
      "text/plain": [
       "array([[31, 32, 33, 34, 35, 36, 37, 38, 39, 40],\n",
       "       [21, 22, 23, 24, 25, 26, 27, 28, 29, 30],\n",
       "       [11, 12, 13, 14, 15, 16, 17, 18, 19, 20],\n",
       "       [ 1,  2,  3,  4,  5,  6,  7,  8,  9, 10]])"
      ]
     },
     "execution_count": 33,
     "metadata": {},
     "output_type": "execute_result"
    }
   ],
   "source": [
    "arr[::-1]"
   ]
  },
  {
   "cell_type": "markdown",
   "id": "326b0d9e",
   "metadata": {},
   "source": [
    "arr[:,::2] で偶数列抽出。"
   ]
  },
  {
   "cell_type": "code",
   "execution_count": 34,
   "id": "3fe651d5",
   "metadata": {},
   "outputs": [
    {
     "data": {
      "text/plain": [
       "array([[ 1,  3,  5,  7,  9],\n",
       "       [11, 13, 15, 17, 19],\n",
       "       [21, 23, 25, 27, 29],\n",
       "       [31, 33, 35, 37, 39]])"
      ]
     },
     "execution_count": 34,
     "metadata": {},
     "output_type": "execute_result"
    }
   ],
   "source": [
    "\n",
    "arr[:,::2]"
   ]
  },
  {
   "cell_type": "markdown",
   "id": "e17d4050",
   "metadata": {},
   "source": [
    "3 の倍数だけ抽出。"
   ]
  },
  {
   "cell_type": "code",
   "execution_count": 35,
   "id": "1222fca9",
   "metadata": {},
   "outputs": [
    {
     "data": {
      "text/plain": [
       "array([ 3,  6,  9, 12, 15, 18, 21, 24, 27, 30, 33, 36, 39])"
      ]
     },
     "execution_count": 35,
     "metadata": {},
     "output_type": "execute_result"
    }
   ],
   "source": [
    "arr[arr%3==0]"
   ]
  },
  {
   "cell_type": "markdown",
   "id": "5d1e2aeb",
   "metadata": {},
   "source": [
    "奇数を ‑1 に置換。"
   ]
  },
  {
   "cell_type": "code",
   "execution_count": 36,
   "id": "eb6c6440",
   "metadata": {},
   "outputs": [
    {
     "data": {
      "text/plain": [
       "array([[-1,  2, -1,  4, -1,  6, -1,  8, -1, 10],\n",
       "       [-1, 12, -1, 14, -1, 16, -1, 18, -1, 20],\n",
       "       [-1, 22, -1, 24, -1, 26, -1, 28, -1, 30],\n",
       "       [-1, 32, -1, 34, -1, 36, -1, 38, -1, 40]])"
      ]
     },
     "execution_count": 36,
     "metadata": {},
     "output_type": "execute_result"
    }
   ],
   "source": [
    "arr[arr%2!=0]=-1\n",
    "arr"
   ]
  },
  {
   "cell_type": "code",
   "execution_count": 37,
   "id": "ad0d2057",
   "metadata": {},
   "outputs": [
    {
     "data": {
      "text/plain": [
       "array([[ 1,  2,  3,  4,  5,  6,  7,  8,  9, 10],\n",
       "       [11, 12, 13, 14, 15, 16, 17, 18, 19, 20],\n",
       "       [21, 22, 23, 24, 25, 26, 27, 28, 29, 30],\n",
       "       [31, 32, 33, 34, 35, 36, 37, 38, 39, 40]])"
      ]
     },
     "execution_count": 37,
     "metadata": {},
     "output_type": "execute_result"
    }
   ],
   "source": [
    "original"
   ]
  },
  {
   "cell_type": "markdown",
   "id": "e8534ef4",
   "metadata": {},
   "source": [
    "np.square(arr) を計算。"
   ]
  },
  {
   "cell_type": "code",
   "execution_count": 38,
   "id": "fe2776da",
   "metadata": {},
   "outputs": [
    {
     "data": {
      "text/plain": [
       "array([[   1,    4,    9,   16,   25,   36,   49,   64,   81,  100],\n",
       "       [ 121,  144,  169,  196,  225,  256,  289,  324,  361,  400],\n",
       "       [ 441,  484,  529,  576,  625,  676,  729,  784,  841,  900],\n",
       "       [ 961, 1024, 1089, 1156, 1225, 1296, 1369, 1444, 1521, 1600]])"
      ]
     },
     "execution_count": 38,
     "metadata": {},
     "output_type": "execute_result"
    }
   ],
   "source": [
    "np.square(original)"
   ]
  },
  {
   "cell_type": "markdown",
   "id": "ad4873db",
   "metadata": {},
   "source": [
    "np.sin, np.cos, np.tan を一括計算。"
   ]
  },
  {
   "cell_type": "code",
   "execution_count": 39,
   "id": "6c010d9a",
   "metadata": {},
   "outputs": [
    {
     "name": "stdout",
     "output_type": "stream",
     "text": [
      "[0.        0.5       0.8660254 1.       ]\n",
      "[1.00000000e+00 8.66025404e-01 5.00000000e-01 6.12323400e-17]\n",
      "[0.00000000e+00 5.77350269e-01 1.73205081e+00 1.63312394e+16]\n"
     ]
    }
   ],
   "source": [
    "theta=np.linspace(0,np.pi*0.5,4)\n",
    "theta\n",
    "print(np.sin(theta))\n",
    "print(np.cos(theta))\n",
    "print(np.tan(theta))"
   ]
  },
  {
   "cell_type": "markdown",
   "id": "873355f6",
   "metadata": {},
   "source": [
    "np.square(arr) を計算。"
   ]
  },
  {
   "cell_type": "code",
   "execution_count": 40,
   "id": "4d307163",
   "metadata": {},
   "outputs": [
    {
     "data": {
      "text/plain": [
       "np.float64(2.722272139403514e+17)"
      ]
     },
     "execution_count": 40,
     "metadata": {},
     "output_type": "execute_result"
    }
   ],
   "source": [
    "np.exp(arr).sum()"
   ]
  },
  {
   "cell_type": "markdown",
   "id": "9dd52856",
   "metadata": {},
   "source": [
    "乱数 100 万個の平均を計算。"
   ]
  },
  {
   "cell_type": "code",
   "execution_count": 41,
   "id": "c5be87b5",
   "metadata": {},
   "outputs": [],
   "source": [
    "n=1000000\n",
    "a=np.random.rand(n)"
   ]
  },
  {
   "cell_type": "code",
   "execution_count": 42,
   "id": "150aee34",
   "metadata": {},
   "outputs": [
    {
     "data": {
      "text/plain": [
       "np.float64(0.4997886102064273)"
      ]
     },
     "execution_count": 42,
     "metadata": {},
     "output_type": "execute_result"
    }
   ],
   "source": [
    "a.sum()/n"
   ]
  },
  {
   "cell_type": "markdown",
   "id": "a3c36a06",
   "metadata": {},
   "source": [
    "最大値と最小値の差を求める。"
   ]
  },
  {
   "cell_type": "code",
   "execution_count": 43,
   "id": "a7187d4e",
   "metadata": {},
   "outputs": [
    {
     "data": {
      "text/plain": [
       "np.float64(0.9999957854905436)"
      ]
     },
     "execution_count": 43,
     "metadata": {},
     "output_type": "execute_result"
    }
   ],
   "source": [
    "min_a=min(a)\n",
    "max_a=max(a)\n",
    "max_a-min_a"
   ]
  },
  {
   "cell_type": "markdown",
   "id": "8981633c",
   "metadata": {},
   "source": [
    " 次元配列で axis=0 合計。"
   ]
  },
  {
   "cell_type": "code",
   "execution_count": 44,
   "id": "29ad7b12",
   "metadata": {},
   "outputs": [
    {
     "data": {
      "text/plain": [
       "array([ 64,  68,  72,  76,  80,  84,  88,  92,  96, 100])"
      ]
     },
     "execution_count": 44,
     "metadata": {},
     "output_type": "execute_result"
    }
   ],
   "source": [
    "sum_axis_0 = np.sum(original, axis=0)\n",
    "sum_axis_0"
   ]
  },
  {
   "cell_type": "markdown",
   "id": "e8a24ca1",
   "metadata": {},
   "source": [
    "np.percentile で 25/50/75 % 点。"
   ]
  },
  {
   "cell_type": "code",
   "execution_count": 45,
   "id": "323f6ad5",
   "metadata": {},
   "outputs": [
    {
     "name": "stdout",
     "output_type": "stream",
     "text": [
      "1.0\n",
      "10.75\n",
      "20.5\n",
      "30.25\n",
      "40.0\n"
     ]
    }
   ],
   "source": [
    "for i in [0,25,50,75,100]:\n",
    "    print(np.percentile(original,i))"
   ]
  },
  {
   "cell_type": "markdown",
   "id": "041a3c89",
   "metadata": {},
   "source": [
    "argsort で昇順インデックス。"
   ]
  },
  {
   "cell_type": "code",
   "execution_count": 46,
   "id": "34369295",
   "metadata": {},
   "outputs": [
    {
     "data": {
      "text/plain": [
       "array([[0, 1, 2, 3, 4, 5, 6, 7, 8, 9],\n",
       "       [0, 1, 2, 3, 4, 5, 6, 7, 8, 9],\n",
       "       [0, 1, 2, 3, 4, 5, 6, 7, 8, 9],\n",
       "       [0, 1, 2, 3, 4, 5, 6, 7, 8, 9]])"
      ]
     },
     "execution_count": 46,
     "metadata": {},
     "output_type": "execute_result"
    }
   ],
   "source": [
    "np.argsort(original)"
   ]
  },
  {
   "cell_type": "markdown",
   "id": "7f6d9f42",
   "metadata": {},
   "source": [
    "partition で上位 5 要素抽出。"
   ]
  },
  {
   "cell_type": "code",
   "execution_count": 47,
   "id": "3db430c8",
   "metadata": {},
   "outputs": [
    {
     "name": "stdout",
     "output_type": "stream",
     "text": [
      "[ 64  68  72  76  80  84  88  92  96 100]\n"
     ]
    },
    {
     "data": {
      "text/plain": [
       "array([64, 68, 72, 76, 80])"
      ]
     },
     "execution_count": 47,
     "metadata": {},
     "output_type": "execute_result"
    }
   ],
   "source": [
    "p=np.partition(sum_axis_0,kth=5)\n",
    "print(p)\n",
    "p[:5]\n"
   ]
  },
  {
   "cell_type": "markdown",
   "id": "dda24cf1",
   "metadata": {},
   "source": [
    "rng = np.random.default_rng(0) で再現可能に。"
   ]
  },
  {
   "cell_type": "code",
   "execution_count": 48,
   "id": "a67ee440",
   "metadata": {},
   "outputs": [
    {
     "name": "stdout",
     "output_type": "stream",
     "text": [
      "--- Run 1 ---\n",
      "Random integers (rng1): [8 6 5 2 3]\n",
      "Random floats (rng1): [0.01652764 0.81327024 0.91275558]\n",
      "\n",
      "--- Run 2 (Same Seed) ---\n",
      "Random integers (rng2): [8 6 5 2 3]\n",
      "Random floats (rng2): [0.01652764 0.81327024 0.91275558]\n"
     ]
    }
   ],
   "source": [
    "print(\"--- Run 1 ---\")\n",
    "rng1 = np.random.default_rng(0) # Seeded with 0\n",
    "print(\"Random integers (rng1):\", rng1.integers(10, size=5))\n",
    "print(\"Random floats (rng1):\", rng1.random(size=3))\n",
    "\n",
    "print(\"\\n--- Run 2 (Same Seed) ---\")\n",
    "rng2 = np.random.default_rng(0) # Seeded with 0 again\n",
    "print(\"Random integers (rng2):\", rng2.integers(10, size=5))\n",
    "print(\"Random floats (rng2):\", rng2.random(size=3))"
   ]
  },
  {
   "cell_type": "code",
   "execution_count": 49,
   "id": "add0a5fd",
   "metadata": {},
   "outputs": [
    {
     "data": {
      "text/plain": [
       "array([[8, 6, 5, 2, 3],\n",
       "       [0, 0, 0, 1, 8],\n",
       "       [6, 9, 5, 6, 9],\n",
       "       [7, 6, 5, 5, 9],\n",
       "       [2, 8, 6, 0, 3]])"
      ]
     },
     "execution_count": 49,
     "metadata": {},
     "output_type": "execute_result"
    }
   ],
   "source": [
    "rng1 = np.random.default_rng(0)\n",
    "random_matrix2 = rng1.integers(10, size=(5,5))\n",
    "random_matrix2"
   ]
  },
  {
   "cell_type": "markdown",
   "id": "079985b2",
   "metadata": {},
   "source": [
    "5×5 配列に [0,1,2,3,4] を足す。"
   ]
  },
  {
   "cell_type": "code",
   "execution_count": 50,
   "id": "99b7896a",
   "metadata": {},
   "outputs": [
    {
     "data": {
      "text/plain": [
       "array([[ 8,  7,  7,  5,  7],\n",
       "       [ 0,  1,  2,  4, 12],\n",
       "       [ 6, 10,  7,  9, 13],\n",
       "       [ 7,  7,  7,  8, 13],\n",
       "       [ 2,  9,  8,  3,  7]])"
      ]
     },
     "execution_count": 50,
     "metadata": {},
     "output_type": "execute_result"
    }
   ],
   "source": [
    "random_matrix2+np.array([0,1,2,3,4])"
   ]
  },
  {
   "cell_type": "markdown",
   "id": "f3e05903",
   "metadata": {},
   "source": [
    "列方向に平均 0 のセンタリング。"
   ]
  },
  {
   "cell_type": "code",
   "execution_count": 51,
   "id": "3bfdd7c0",
   "metadata": {},
   "outputs": [
    {
     "data": {
      "text/plain": [
       "array([[ 3.4,  0.2,  0.8, -0.8, -3.4],\n",
       "       [-4.6, -5.8, -4.2, -1.8,  1.6],\n",
       "       [ 1.4,  3.2,  0.8,  3.2,  2.6],\n",
       "       [ 2.4,  0.2,  0.8,  2.2,  2.6],\n",
       "       [-2.6,  2.2,  1.8, -2.8, -3.4]])"
      ]
     },
     "execution_count": 51,
     "metadata": {},
     "output_type": "execute_result"
    }
   ],
   "source": [
    "column_means=random_matrix2.mean(axis=0)\n",
    "centered=random_matrix2-column_means\n",
    "centered"
   ]
  },
  {
   "cell_type": "code",
   "execution_count": 52,
   "id": "a95ab6ac",
   "metadata": {},
   "outputs": [
    {
     "data": {
      "text/plain": [
       "array([ 3.55271368e-16,  1.77635684e-16, -1.77635684e-16,  1.77635684e-16,\n",
       "       -3.55271368e-16])"
      ]
     },
     "execution_count": 52,
     "metadata": {},
     "output_type": "execute_result"
    }
   ],
   "source": [
    "centered.mean(axis=0)"
   ]
  },
  {
   "cell_type": "markdown",
   "id": "709d3108",
   "metadata": {},
   "source": [
    "メッシュグリッドで z = sin(x)+cos(y)。"
   ]
  },
  {
   "cell_type": "code",
   "execution_count": 53,
   "id": "18e16c53",
   "metadata": {},
   "outputs": [
    {
     "data": {
      "image/png": "[encoded data removed]",
      "text/plain": [
       "<Figure size 1000x800 with 2 Axes>"
      ]
     },
     "metadata": {},
     "output_type": "display_data"
    }
   ],
   "source": [
    "import numpy as np\n",
    "import matplotlib.pyplot as plt\n",
    "from mpl_toolkits.mplot3d import Axes3D # 3Dプロットに必要\n",
    "\n",
    "# 1. x, yの範囲を定義\n",
    "# -2π から 2π までを100分割した配列を生成\n",
    "x = np.linspace(-2 * np.pi, 2 * np.pi, 100)\n",
    "y = np.linspace(-2 * np.pi, 2 * np.pi, 100)\n",
    "\n",
    "# 2. メッシュグリッドを生成\n",
    "# xとyの1次元配列から、2次元の座標グリッドX, Yを生成\n",
    "X, Y = np.meshgrid(x, y)\n",
    "\n",
    "# 3. zの値を計算\n",
    "# 各(X, Y)座標に対して Z = sin(X) + cos(Y) を計算\n",
    "Z = np.sin(X) + np.cos(Y)\n",
    "\n",
    "# 4. 3Dプロットの準備\n",
    "fig = plt.figure(figsize=(10, 8))\n",
    "ax = fig.add_subplot(111, projection='3d')\n",
    "\n",
    "# 5. 3D曲面プロットを実行\n",
    "# cmapでカラーマップを指定すると見やすくなる\n",
    "surf = ax.plot_surface(X, Y, Z, cmap='viridis')\n",
    "\n",
    "# 軸ラベルとタイトルの設定\n",
    "ax.set_xlabel('x axis')\n",
    "ax.set_ylabel('y axis')\n",
    "ax.set_zlabel('z axis')\n",
    "ax.set_title('z = sin(x) + cos(y)')\n",
    "\n",
    "# カラーバーを追加\n",
    "fig.colorbar(surf, shrink=0.5, aspect=10)\n",
    "\n",
    "# グラフを表示\n",
    "plt.show()\n"
   ]
  },
  {
   "cell_type": "markdown",
   "id": "34ad9b3b",
   "metadata": {},
   "source": [
    "ブロードキャストで距離行列を生成。"
   ]
  },
  {
   "cell_type": "code",
   "execution_count": 54,
   "id": "cce5e53a",
   "metadata": {},
   "outputs": [
    {
     "name": "stdout",
     "output_type": "stream",
     "text": [
      "\u001b[31mType:\u001b[39m        NoneType\n",
      "\u001b[31mString form:\u001b[39m None\n",
      "\u001b[31mDocstring:\u001b[39m   The type of the None singleton."
     ]
    }
   ],
   "source": [
    "np.newaxis?"
   ]
  },
  {
   "cell_type": "code",
   "execution_count": 55,
   "id": "81dfdbeb",
   "metadata": {},
   "outputs": [
    {
     "name": "stdout",
     "output_type": "stream",
     "text": [
      "方法2で生成した距離行列:\n",
      "[[0.         2.23606798 4.24264069 5.38516481 3.        ]\n",
      " [2.23606798 0.         2.23606798 4.         2.82842712]\n",
      " [4.24264069 2.23606798 0.         2.23606798 3.        ]\n",
      " [5.38516481 4.         2.23606798 0.         2.82842712]\n",
      " [3.         2.82842712 3.         2.82842712 0.        ]]\n"
     ]
    }
   ],
   "source": [
    "X = np.array([[0, 0], [1, 2], [3, 3], [5, 2], [3, 0]])\n",
    "sum_sq = np.sum(X**2, axis=1)\n",
    "dist_sq = sum_sq[:, np.newaxis] + sum_sq[np.newaxis, :] - 2 * (X @ X.T)\n",
    "dist_sq_clipped = np.maximum(dist_sq, 0)\n",
    "dist_matrix_fast = np.sqrt(dist_sq_clipped)\n",
    "print(\"方法2で生成した距離行列:\")\n",
    "print(dist_matrix_fast)"
   ]
  },
  {
   "cell_type": "code",
   "execution_count": 56,
   "id": "c53993d0",
   "metadata": {},
   "outputs": [
    {
     "data": {
      "text/plain": [
       "array([[2, 3, 4, 5],\n",
       "       [3, 4, 5, 6],\n",
       "       [4, 5, 6, 7]])"
      ]
     },
     "execution_count": 56,
     "metadata": {},
     "output_type": "execute_result"
    }
   ],
   "source": [
    "A=np.array([[1],[2],[3]])\n",
    "B=np.array([[1,2,3,4]])\n",
    "A+B"
   ]
  },
  {
   "cell_type": "code",
   "execution_count": 57,
   "id": "c4c18b09",
   "metadata": {},
   "outputs": [
    {
     "ename": "ValueError",
     "evalue": "operands could not be broadcast together with shapes (3,1) (2,2) ",
     "output_type": "error",
     "traceback": [
      "\u001b[31m---------------------------------------------------------------------------\u001b[39m",
      "\u001b[31mValueError\u001b[39m                                Traceback (most recent call last)",
      "\u001b[36mCell\u001b[39m\u001b[36m \u001b[39m\u001b[32mIn[57]\u001b[39m\u001b[32m, line 3\u001b[39m\n\u001b[32m      1\u001b[39m A=np.array([[\u001b[32m1\u001b[39m],[\u001b[32m2\u001b[39m],[\u001b[32m3\u001b[39m]])\n\u001b[32m      2\u001b[39m B=np.array([[\u001b[32m1\u001b[39m,\u001b[32m2\u001b[39m],[\u001b[32m3\u001b[39m,\u001b[32m4\u001b[39m]])\n\u001b[32m----> \u001b[39m\u001b[32m3\u001b[39m \u001b[43mA\u001b[49m\u001b[43m+\u001b[49m\u001b[43mB\u001b[49m\n",
      "\u001b[31mValueError\u001b[39m: operands could not be broadcast together with shapes (3,1) (2,2) "
     ]
    }
   ],
   "source": [
    "A=np.array([[1],[2],[3]])\n",
    "B=np.array([[1,2],[3,4]])\n",
    "A+B"
   ]
  },
  {
   "cell_type": "code",
   "execution_count": null,
   "id": "b481073c",
   "metadata": {},
   "outputs": [
    {
     "name": "stdout",
     "output_type": "stream",
     "text": [
      "[[[177 111  77]\n",
      "  [245  44  12]\n",
      "  [ 52 179  70]]\n",
      "\n",
      " [[242  14  80]\n",
      "  [ 36 191  39]\n",
      "  [152  53 250]]\n",
      "\n",
      " [[156 221 186]\n",
      "  [146 144  65]\n",
      "  [ 21  26  91]]]\n"
     ]
    },
    {
     "data": {
      "text/plain": [
       "array([[[187, 131, 107],\n",
       "        [255,  64,  42],\n",
       "        [ 62, 199, 100]],\n",
       "\n",
       "       [[252,  34, 110],\n",
       "        [ 46, 211,  69],\n",
       "        [162,  73, 280]],\n",
       "\n",
       "       [[166, 241, 216],\n",
       "        [156, 164,  95],\n",
       "        [ 31,  46, 121]]])"
      ]
     },
     "execution_count": 2,
     "metadata": {},
     "output_type": "execute_result"
    }
   ],
   "source": [
    "H,W=3,3\n",
    "rgb_image = np.random.randint(0, 256, size=(H, W, 3), dtype=np.uint8)\n",
    "\n",
    "color_fix=[10,20,30]\n",
    "fixed_image=rgb_image+color_fix\n",
    "print(rgb_image)\n",
    "fixed_image"
   ]
  },
  {
   "cell_type": "code",
   "execution_count": null,
   "id": "ff3cb2f6",
   "metadata": {},
   "outputs": [
    {
     "data": {
      "text/plain": [
       "array([[8, 6, 5, 2, 3, 0, 0, 0, 1, 8],\n",
       "       [6, 9, 5, 6, 9, 7, 6, 5, 5, 9],\n",
       "       [2, 8, 6, 0, 3, 8, 5, 0, 7, 7],\n",
       "       [8, 1, 0, 8, 0, 5, 0, 2, 4, 4],\n",
       "       [4, 0, 0, 1, 0, 6, 5, 6, 2, 6],\n",
       "       [7, 3, 4, 9, 8, 9, 3, 6, 9, 6],\n",
       "       [8, 6, 7, 3, 8, 1, 5, 7, 8, 5],\n",
       "       [3, 3, 4, 4, 7, 8, 0, 9, 5, 3],\n",
       "       [6, 5, 2, 3, 7, 5, 5, 3, 7, 3],\n",
       "       [3, 8, 2, 2, 7, 6, 0, 0, 3, 8]])"
      ]
     },
     "execution_count": 96,
     "metadata": {},
     "output_type": "execute_result"
    }
   ],
   "source": [
    "import numpy as np\n",
    "rng=np.random.default_rng(0)\n",
    "rndX=rng.integers(10, size=(10,10))\n",
    "rndX"
   ]
  },
  {
   "cell_type": "code",
   "execution_count": null,
   "id": "f7deca6e",
   "metadata": {},
   "outputs": [
    {
     "data": {
      "text/plain": [
       "array([[3.3],\n",
       "       [6.7],\n",
       "       [4.6],\n",
       "       [3.2],\n",
       "       [3. ],\n",
       "       [6.4],\n",
       "       [5.8],\n",
       "       [4.6],\n",
       "       [4.6],\n",
       "       [3.9]])"
      ]
     },
     "execution_count": 97,
     "metadata": {},
     "output_type": "execute_result"
    }
   ],
   "source": [
    "\n",
    "avg_X=rndX.mean(axis=1,keepdims=True)\n",
    "avg_X"
   ]
  },
  {
   "cell_type": "code",
   "execution_count": null,
   "id": "1a2e50f2",
   "metadata": {},
   "outputs": [],
   "source": [
    "mean_X=rndX-avg_X"
   ]
  },
  {
   "cell_type": "code",
   "execution_count": null,
   "id": "48b09e68",
   "metadata": {},
   "outputs": [
    {
     "data": {
      "text/plain": [
       "array([7.99437302, 8.31324245, 6.70149237, 8.45635855, 7.46391318,\n",
       "       8.98387444, 8.63191752, 9.17115042, 5.82322934, 8.09382481])"
      ]
     },
     "execution_count": 99,
     "metadata": {},
     "output_type": "execute_result"
    }
   ],
   "source": [
    "norm_X=np.linalg.norm(mean_X,ord=2,axis=0)\n",
    "norm_X"
   ]
  },
  {
   "cell_type": "code",
   "execution_count": null,
   "id": "425a3b2b",
   "metadata": {},
   "outputs": [
    {
     "data": {
      "text/plain": [
       "array([[-0.18,  0.07,  0.24,  0.54,  0.48,  0.73,  0.76,  0.72,  0.96,\n",
       "        -0.17],\n",
       "       [ 0.93,  0.53,  1.25,  0.88,  0.59,  0.71,  0.86,  0.92,  1.44,\n",
       "         0.54],\n",
       "       [ 0.9 ,  0.14,  0.48,  1.09,  0.83,  0.13,  0.49,  1.  ,  0.38,\n",
       "         0.27],\n",
       "       [-0.2 ,  0.65,  0.96, -0.19,  0.86,  0.16,  0.74,  0.48,  0.41,\n",
       "         0.3 ],\n",
       "       [ 0.25,  0.72,  0.9 ,  0.59,  0.8 ,  0.  ,  0.12,  0.  ,  0.69,\n",
       "         0.  ],\n",
       "       [ 0.73,  1.18,  1.31,  0.45,  0.64,  0.42,  1.14,  0.74,  0.65,\n",
       "         0.84],\n",
       "       [ 0.45,  0.67,  0.69,  1.02,  0.48,  1.18,  0.76,  0.5 ,  0.62,\n",
       "         0.82],\n",
       "       [ 0.78,  0.75,  0.78,  0.61,  0.29,  0.13,  1.07,  0.02,  0.72,\n",
       "         0.77],\n",
       "       [ 0.4 ,  0.51,  1.07,  0.73,  0.29,  0.47,  0.49,  0.68,  0.38,\n",
       "         0.77],\n",
       "       [ 0.6 , -0.02,  0.87,  0.69,  0.11,  0.2 ,  0.9 ,  0.85,  0.82,\n",
       "        -0.02]])"
      ]
     },
     "execution_count": 100,
     "metadata": {},
     "output_type": "execute_result"
    }
   ],
   "source": [
    "np.set_printoptions(2)\n",
    "\n",
    "X_normalized=(avg_X-mean_X)/norm_X\n",
    "X_normalized"
   ]
  },
  {
   "cell_type": "markdown",
   "id": "5d872314",
   "metadata": {},
   "source": [
    "### np.multiply.outer で外積行列。"
   ]
  },
  {
   "cell_type": "code",
   "execution_count": null,
   "id": "aaf171c4",
   "metadata": {},
   "outputs": [
    {
     "name": "stdout",
     "output_type": "stream",
     "text": [
      "[[8]\n",
      " [6]\n",
      " [5]]\n",
      "[[2 3 0]]\n",
      "[[16 24  0]\n",
      " [12 18  0]\n",
      " [10 15  0]]\n"
     ]
    },
    {
     "data": {
      "text/plain": [
       "array([[[[16, 24,  0]]],\n",
       "\n",
       "\n",
       "       [[[12, 18,  0]]],\n",
       "\n",
       "\n",
       "       [[[10, 15,  0]]]])"
      ]
     },
     "execution_count": 72,
     "metadata": {},
     "output_type": "execute_result"
    }
   ],
   "source": [
    "rng=np.random.default_rng(0)\n",
    "X=rng.integers(10,size=(3,1))\n",
    "Y=rng.integers(10,size=(1,3))\n",
    "print(X)\n",
    "print(Y)\n",
    "print(X*Y)\n",
    "np.multiply.outer(X,Y)\n",
    "\n",
    "\n"
   ]
  },
  {
   "cell_type": "code",
   "execution_count": null,
   "id": "b1fad70f",
   "metadata": {},
   "outputs": [
    {
     "name": "stdout",
     "output_type": "stream",
     "text": [
      "[[[4 7 3]\n",
      "  [2 7 8]\n",
      "  [0 0 6]]\n",
      "\n",
      " [[3 5 1]\n",
      "  [8 4 8]\n",
      "  [7 7 2]]\n",
      "\n",
      " [[7 0 5]\n",
      "  [4 9 1]\n",
      "  [9 0 6]]]\n"
     ]
    },
    {
     "data": {
      "text/plain": [
       "array([[[12, 21,  9],\n",
       "        [ 6, 21, 24],\n",
       "        [ 0,  0, 18]],\n",
       "\n",
       "       [[ 9, 15,  3],\n",
       "        [24, 12, 24],\n",
       "        [21, 21,  6]],\n",
       "\n",
       "       [[21,  0, 15],\n",
       "        [12, 27,  3],\n",
       "        [27,  0, 18]]])"
      ]
     },
     "execution_count": 101,
     "metadata": {},
     "output_type": "execute_result"
    }
   ],
   "source": [
    "X=rng.integers(10,size=(3,3,3))\n",
    "print(X)\n",
    "3*X"
   ]
  },
  {
   "cell_type": "code",
   "execution_count": null,
   "id": "ef74f3ab",
   "metadata": {},
   "outputs": [
    {
     "data": {
      "text/plain": [
       "np.int64(691)"
      ]
     },
     "execution_count": 102,
     "metadata": {},
     "output_type": "execute_result"
    }
   ],
   "source": [
    "A=np.random.randint(0,10,1000)\n",
    "np.count_nonzero(abs(A)>2)\n"
   ]
  },
  {
   "cell_type": "code",
   "execution_count": null,
   "id": "66561898",
   "metadata": {},
   "outputs": [],
   "source": [
    "import numpy as np"
   ]
  },
  {
   "cell_type": "code",
   "execution_count": null,
   "id": "c19cfa30",
   "metadata": {},
   "outputs": [
    {
     "data": {
      "text/plain": [
       "array([False,  True, False, False,  True,  True,  True, False,  True,\n",
       "        True,  True,  True,  True, False,  True,  True,  True,  True,\n",
       "        True,  True, False,  True,  True,  True,  True, False, False,\n",
       "        True, False, False,  True,  True,  True, False,  True, False,\n",
       "        True,  True, False, False,  True,  True,  True,  True,  True,\n",
       "       False,  True, False, False,  True, False, False,  True,  True,\n",
       "        True, False,  True, False, False,  True,  True, False,  True,\n",
       "        True,  True, False,  True,  True,  True, False, False,  True,\n",
       "       False,  True, False,  True,  True,  True, False, False,  True,\n",
       "        True,  True,  True,  True,  True,  True,  True, False, False,\n",
       "       False,  True,  True,  True,  True,  True,  True,  True, False,\n",
       "        True, False, False,  True,  True, False,  True,  True,  True,\n",
       "        True,  True, False,  True,  True,  True,  True, False,  True,\n",
       "        True,  True,  True, False,  True, False,  True, False,  True,\n",
       "        True, False,  True,  True,  True,  True, False,  True,  True,\n",
       "       False,  True,  True,  True,  True,  True,  True,  True, False,\n",
       "       False,  True,  True,  True, False,  True,  True, False, False,\n",
       "       False,  True, False,  True, False,  True, False, False,  True,\n",
       "        True,  True,  True,  True,  True,  True,  True,  True, False,\n",
       "        True, False,  True,  True, False, False, False, False,  True,\n",
       "        True,  True, False, False,  True,  True,  True, False, False,\n",
       "        True,  True,  True, False, False,  True,  True,  True,  True,\n",
       "        True, False,  True, False,  True,  True,  True,  True,  True,\n",
       "        True,  True,  True,  True, False,  True,  True,  True,  True,\n",
       "        True, False, False, False,  True,  True,  True,  True, False,\n",
       "       False,  True,  True, False, False,  True,  True,  True, False,\n",
       "       False,  True, False, False,  True,  True,  True, False,  True,\n",
       "       False,  True,  True, False, False,  True, False,  True,  True,\n",
       "        True,  True, False,  True, False,  True,  True, False, False,\n",
       "        True,  True,  True,  True, False,  True, False, False,  True,\n",
       "        True, False,  True,  True, False,  True, False, False, False,\n",
       "        True, False,  True,  True,  True, False,  True,  True,  True,\n",
       "        True, False, False,  True,  True, False,  True,  True,  True,\n",
       "        True, False,  True,  True,  True,  True,  True,  True,  True,\n",
       "        True, False,  True, False,  True,  True,  True,  True,  True,\n",
       "        True,  True, False,  True,  True, False, False, False, False,\n",
       "       False, False,  True,  True, False,  True,  True,  True,  True,\n",
       "        True, False,  True, False,  True,  True,  True, False,  True,\n",
       "        True,  True,  True, False,  True,  True,  True,  True, False,\n",
       "        True, False, False,  True, False,  True,  True, False,  True,\n",
       "       False, False,  True, False,  True,  True, False, False,  True,\n",
       "        True,  True,  True,  True,  True,  True, False, False,  True,\n",
       "        True, False, False,  True, False,  True,  True, False, False,\n",
       "        True,  True,  True,  True, False,  True,  True,  True,  True,\n",
       "       False, False,  True,  True,  True, False,  True,  True,  True,\n",
       "        True,  True, False, False, False, False,  True,  True,  True,\n",
       "        True,  True,  True, False,  True,  True, False, False,  True,\n",
       "       False, False, False,  True,  True,  True,  True,  True, False,\n",
       "       False, False,  True,  True,  True, False,  True, False,  True,\n",
       "        True, False, False,  True, False,  True, False,  True,  True,\n",
       "        True,  True,  True, False, False, False,  True,  True,  True,\n",
       "        True, False, False,  True,  True, False,  True,  True, False,\n",
       "        True, False,  True,  True,  True, False, False, False,  True,\n",
       "        True, False, False,  True,  True, False,  True,  True,  True,\n",
       "        True, False, False, False,  True,  True, False, False,  True,\n",
       "        True,  True,  True, False, False,  True, False,  True,  True,\n",
       "       False,  True, False,  True, False,  True,  True, False,  True,\n",
       "       False, False,  True, False, False, False,  True, False, False,\n",
       "       False,  True,  True,  True, False,  True, False, False, False,\n",
       "        True,  True, False,  True, False, False,  True, False, False,\n",
       "        True,  True, False,  True, False,  True,  True, False, False,\n",
       "       False,  True,  True, False,  True,  True,  True, False, False,\n",
       "        True, False, False, False, False,  True,  True,  True,  True,\n",
       "        True,  True,  True,  True,  True,  True,  True, False, False,\n",
       "        True, False, False,  True,  True,  True,  True,  True,  True,\n",
       "        True,  True, False,  True,  True, False,  True, False,  True,\n",
       "        True,  True, False,  True, False, False, False,  True, False,\n",
       "        True, False, False,  True, False, False, False,  True, False,\n",
       "        True,  True, False,  True, False,  True,  True, False,  True,\n",
       "        True,  True, False,  True, False,  True,  True,  True,  True,\n",
       "        True, False, False,  True, False,  True,  True, False,  True,\n",
       "       False, False,  True,  True, False, False,  True,  True,  True,\n",
       "       False, False, False,  True,  True, False,  True, False,  True,\n",
       "        True, False,  True,  True, False,  True,  True,  True,  True,\n",
       "        True, False,  True,  True,  True, False, False,  True,  True,\n",
       "        True,  True,  True,  True, False,  True, False, False,  True,\n",
       "       False,  True, False,  True, False, False,  True, False,  True,\n",
       "        True,  True, False,  True, False, False, False,  True, False,\n",
       "        True,  True,  True,  True,  True, False,  True,  True,  True,\n",
       "        True,  True, False, False, False, False,  True, False, False,\n",
       "        True, False,  True,  True,  True,  True,  True, False,  True,\n",
       "        True, False, False,  True,  True,  True,  True,  True, False,\n",
       "       False,  True,  True, False,  True, False,  True,  True,  True,\n",
       "       False,  True,  True,  True,  True,  True,  True,  True,  True,\n",
       "       False,  True,  True, False, False,  True, False,  True, False,\n",
       "        True, False,  True,  True,  True, False,  True,  True,  True,\n",
       "       False,  True, False, False,  True,  True, False,  True, False,\n",
       "        True,  True, False,  True, False,  True,  True,  True,  True,\n",
       "        True,  True,  True,  True,  True,  True,  True,  True,  True,\n",
       "        True, False, False,  True,  True, False,  True, False,  True,\n",
       "       False, False, False, False, False,  True, False, False,  True,\n",
       "        True, False, False,  True,  True, False, False, False,  True,\n",
       "       False,  True,  True,  True,  True, False,  True,  True,  True,\n",
       "        True,  True,  True, False, False,  True,  True,  True,  True,\n",
       "        True,  True,  True, False, False,  True, False, False,  True,\n",
       "       False,  True,  True,  True,  True, False,  True,  True, False,\n",
       "       False, False,  True, False, False,  True, False,  True,  True,\n",
       "        True,  True,  True,  True,  True,  True,  True, False,  True,\n",
       "        True,  True,  True, False, False,  True, False,  True,  True,\n",
       "       False,  True,  True,  True, False, False, False,  True,  True,\n",
       "       False,  True,  True,  True, False,  True, False,  True,  True,\n",
       "        True, False,  True,  True, False, False,  True, False,  True,\n",
       "       False,  True,  True, False, False, False,  True, False,  True,\n",
       "       False, False,  True, False, False,  True,  True,  True, False,\n",
       "        True, False,  True,  True, False, False, False, False,  True,\n",
       "        True, False,  True, False,  True, False,  True,  True,  True,\n",
       "       False,  True, False, False,  True,  True, False,  True,  True,\n",
       "        True,  True, False,  True,  True, False, False,  True, False,\n",
       "        True,  True, False,  True, False,  True, False,  True, False,\n",
       "        True, False, False,  True, False,  True, False, False, False,\n",
       "       False,  True, False,  True,  True,  True, False,  True,  True,\n",
       "        True])"
      ]
     },
     "execution_count": 103,
     "metadata": {},
     "output_type": "execute_result"
    }
   ],
   "source": [
    "A=np.random.randint(0,1000,1000)\n",
    "B=np.random.randint(0,1000,1000)\n",
    "np.isin(A,B)"
   ]
  },
  {
   "cell_type": "code",
   "execution_count": null,
   "id": "36093b1e",
   "metadata": {},
   "outputs": [
    {
     "name": "stdout",
     "output_type": "stream",
     "text": [
      "[568 368 966 817 276 549 594 483 731 738]\n"
     ]
    },
    {
     "data": {
      "text/plain": [
       "array([568, 368, 966, 817, 276, 549, 594, 483, 731, 738], dtype=int32)"
      ]
     },
     "execution_count": 7,
     "metadata": {},
     "output_type": "execute_result"
    }
   ],
   "source": [
    "\n",
    "print(A[[i for i in range(0,len(A),2)]][:10])\n",
    "A[::2][:10]"
   ]
  },
  {
   "cell_type": "code",
   "execution_count": null,
   "id": "9f0c1173",
   "metadata": {},
   "outputs": [
    {
     "name": "stdout",
     "output_type": "stream",
     "text": [
      "[10. nan 20. nan 10.]\n"
     ]
    },
    {
     "data": {
      "text/plain": [
       "np.float64(13.333333333333334)"
      ]
     },
     "execution_count": 18,
     "metadata": {},
     "output_type": "execute_result"
    }
   ],
   "source": [
    "A=np.array([10,np.nan,20,np.nan,10])\n",
    "print(A)\n",
    "np.nanmean(A)\n",
    "\n"
   ]
  },
  {
   "cell_type": "code",
   "execution_count": null,
   "id": "5ea8079e",
   "metadata": {},
   "outputs": [
    {
     "name": "stdout",
     "output_type": "stream",
     "text": [
      "[82, 90, 0, 31, 49, 5, 62, 1, 7, 68]\n",
      "[[6 7 0 4 8 7 8 5 7 1]\n",
      " [1 6 3 3 2 5 8 2 0 0]\n",
      " [8 6 7 4 4 8 8 5 5 3]\n",
      " [6 8 2 6 4 4 2 3 0 7]\n",
      " [2 0 0 7 6 8 3 1 5 4]\n",
      " [6 7 1 2 3 6 5 4 5 1]\n",
      " [4 1 3 1 4 3 4 0 4 5]\n",
      " [8 3 0 2 6 8 5 6 2 0]\n",
      " [5 6 6 6 8 2 3 0 6 8]\n",
      " [1 2 0 2 1 2 0 0 0 3]]\n"
     ]
    }
   ],
   "source": [
    "original=rng.integers(10,size=(100,10))\n",
    "A=original.copy()\n",
    "rnd_ch=np.array(random.choices(A, k=10))\n",
    "result=[]\n",
    "i=0\n",
    "for row in rnd_ch:\n",
    "    for i in range(len(A)):\n",
    "        if all(A[i]==row):\n",
    "            result.append(i)\n",
    "            break\n",
    "    \n",
    "print(result)\n",
    "print(rnd_ch)"
   ]
  },
  {
   "cell_type": "code",
   "execution_count": null,
   "id": "1f919fb4",
   "metadata": {},
   "outputs": [
    {
     "name": "stdout",
     "output_type": "stream",
     "text": [
      "[  7   2   0  -5  -4 -10  -9 -10  -7   6]\n"
     ]
    },
    {
     "data": {
      "text/plain": [
       "array([ 1,  1, -1, -1, -1, -1, -1, -1, -1,  1])"
      ]
     },
     "execution_count": 123,
     "metadata": {},
     "output_type": "execute_result"
    }
   ],
   "source": [
    "rng=np.random.default_rng(0)\n",
    "a=rng.integers(-10,10,10)\n",
    "print(a)\n",
    "np.where(a>0,1,-1)"
   ]
  },
  {
   "cell_type": "code",
   "execution_count": null,
   "id": "d98110f0",
   "metadata": {},
   "outputs": [
    {
     "name": "stdout",
     "output_type": "stream",
     "text": [
      "[6 9 5 6 9 7 6 5 6 9]\n"
     ]
    },
    {
     "data": {
      "text/plain": [
       "array([5, 6, 7, 9])"
      ]
     },
     "execution_count": 63,
     "metadata": {},
     "output_type": "execute_result"
    }
   ],
   "source": [
    "b=rng.integers(1,10,10)\n",
    "print(b)\n",
    "np.unique(b)"
   ]
  },
  {
   "cell_type": "code",
   "execution_count": null,
   "id": "50bfc61d",
   "metadata": {},
   "outputs": [
    {
     "name": "stdout",
     "output_type": "stream",
     "text": [
      "[  7   2   0  -5  -4 -10  -9 -10  -7   6]\n",
      "[6 9 5 6 9 7 6 5 6 9]\n"
     ]
    },
    {
     "data": {
      "text/plain": [
       "array([ True, False, False, False, False, False, False, False, False,\n",
       "        True])"
      ]
     },
     "execution_count": 64,
     "metadata": {},
     "output_type": "execute_result"
    }
   ],
   "source": [
    "print(a)\n",
    "print(b)\n",
    "np.isin(a,b)"
   ]
  },
  {
   "cell_type": "code",
   "execution_count": null,
   "id": "dcf67cad",
   "metadata": {},
   "outputs": [
    {
     "data": {
      "text/plain": [
       "array([[7, 0, 1],\n",
       "       [1, 0, 7]])"
      ]
     },
     "execution_count": 65,
     "metadata": {},
     "output_type": "execute_result"
    }
   ],
   "source": [
    "A = np.array([[0,1,2],[2,1,0]])\n",
    "choices = [[7], [0], [1]]     # shape (3,1) だが列方向にブロードキャスト可\n",
    "np.choose(A, choices)         # → array([[7,0,1],[1,0,7]])\n"
   ]
  },
  {
   "cell_type": "code",
   "execution_count": null,
   "id": "484dc879",
   "metadata": {},
   "outputs": [
    {
     "name": "stdout",
     "output_type": "stream",
     "text": [
      "212 μs ± 7.41 μs per loop (mean ± std. dev. of 7 runs, 1,000 loops each)\n"
     ]
    }
   ],
   "source": [
    "%%timeit\n",
    "A=rng.integers(0,100,100000)\n",
    "\n"
   ]
  },
  {
   "cell_type": "code",
   "execution_count": null,
   "id": "4dd5cd81",
   "metadata": {},
   "outputs": [
    {
     "name": "stdout",
     "output_type": "stream",
     "text": [
      "245 ns ± 4.94 ns per loop (mean ± std. dev. of 7 runs, 1,000,000 loops each)\n"
     ]
    }
   ],
   "source": [
    "%%timeit\n",
    "A.sort()"
   ]
  },
  {
   "cell_type": "code",
   "execution_count": null,
   "id": "1a87b3d2",
   "metadata": {},
   "outputs": [
    {
     "data": {
      "text/plain": [
       "numpy.ndarray"
      ]
     },
     "execution_count": 68,
     "metadata": {},
     "output_type": "execute_result"
    }
   ],
   "source": [
    "type(A)"
   ]
  },
  {
   "cell_type": "code",
   "execution_count": null,
   "id": "2d5c4e0b",
   "metadata": {},
   "outputs": [],
   "source": [
    "import random"
   ]
  },
  {
   "cell_type": "code",
   "execution_count": null,
   "id": "b5f5ea7b",
   "metadata": {},
   "outputs": [
    {
     "name": "stdout",
     "output_type": "stream",
     "text": [
      "30.4 ms ± 614 μs per loop (mean ± std. dev. of 7 runs, 10 loops each)\n"
     ]
    }
   ],
   "source": [
    "%%timeit\n",
    "B=[random.randint(0,100) for _ in range(100000)]\n"
   ]
  },
  {
   "cell_type": "code",
   "execution_count": null,
   "id": "170fb0a2",
   "metadata": {},
   "outputs": [
    {
     "name": "stdout",
     "output_type": "stream",
     "text": [
      "259 μs ± 6.27 μs per loop (mean ± std. dev. of 7 runs, 1,000 loops each)\n"
     ]
    }
   ],
   "source": [
    "%%timeit\n",
    "B.sort()\n",
    "type(B)"
   ]
  },
  {
   "cell_type": "code",
   "execution_count": null,
   "id": "130db13a",
   "metadata": {},
   "outputs": [
    {
     "data": {
      "text/plain": [
       "list"
      ]
     },
     "execution_count": 83,
     "metadata": {},
     "output_type": "execute_result"
    }
   ],
   "source": [
    "type(B)"
   ]
  },
  {
   "cell_type": "code",
   "execution_count": null,
   "id": "304ff621",
   "metadata": {},
   "outputs": [
    {
     "data": {
      "text/plain": [
       "array([[ 51,  65,  42,  83,  25,  46,   2,  78,  20,  37],\n",
       "       [ 16,  74,  41,  12,  63,  34,  17,  64,  83,  76],\n",
       "       [ 67,  80, 100,  38,  43,  16,   4,  50,  58,   2],\n",
       "       [ 94,   3,  67,  56,  34,  68,  38,  57,  92,  18],\n",
       "       [ 29,  24,  60,  64,  20,  52,  49,  15,  45,  31],\n",
       "       [ 82,  86,  39,  66,  43,   5,  20,  55,  27,  18],\n",
       "       [ 94,  54,   8,  50,  54,  23,  82,  33,  49,  95],\n",
       "       [ 76,  19,  67,  87,  52,  62,  96,  11,  85,  83],\n",
       "       [  5,  26,  76,  82,  19,  42,  52,  48,  16,  95],\n",
       "       [ 67,  75,   2,  66,  63,  68,   2,  57,  45,  45]])"
      ]
     },
     "execution_count": 67,
     "metadata": {},
     "output_type": "execute_result"
    }
   ],
   "source": [
    "B=np.array([[random.randint(0,100) for _ in range(10)] for _ in range(10)])\n",
    "B"
   ]
  },
  {
   "cell_type": "code",
   "execution_count": null,
   "id": "7e41eb02",
   "metadata": {},
   "outputs": [
    {
     "data": {
      "text/plain": [
       "array([[  5,   3,   2,  12,  19,   5,   2,  11,  16,   2],\n",
       "       [ 16,  19,   8,  38,  20,  16,   2,  15,  20,  18],\n",
       "       [ 29,  24,  39,  50,  25,  23,   4,  33,  27,  18],\n",
       "       [ 51,  26,  41,  56,  34,  34,  17,  48,  45,  31],\n",
       "       [ 67,  54,  42,  64,  43,  42,  20,  50,  45,  37],\n",
       "       [ 67,  65,  60,  66,  43,  46,  38,  55,  49,  45],\n",
       "       [ 76,  74,  67,  66,  52,  52,  49,  57,  58,  76],\n",
       "       [ 82,  75,  67,  82,  54,  62,  52,  57,  83,  83],\n",
       "       [ 94,  80,  76,  83,  63,  68,  82,  64,  85,  95],\n",
       "       [ 94,  86, 100,  87,  63,  68,  96,  78,  92,  95]])"
      ]
     },
     "execution_count": 68,
     "metadata": {},
     "output_type": "execute_result"
    }
   ],
   "source": [
    "BSX=np.sort(B,axis=0)\n",
    "BSX"
   ]
  },
  {
   "cell_type": "code",
   "execution_count": null,
   "id": "563ebe7d",
   "metadata": {},
   "outputs": [
    {
     "data": {
      "text/plain": [
       "array([[  2,  20,  25,  37,  42,  46,  51,  65,  78,  83],\n",
       "       [ 12,  16,  17,  34,  41,  63,  64,  74,  76,  83],\n",
       "       [  2,   4,  16,  38,  43,  50,  58,  67,  80, 100],\n",
       "       [  3,  18,  34,  38,  56,  57,  67,  68,  92,  94],\n",
       "       [ 15,  20,  24,  29,  31,  45,  49,  52,  60,  64],\n",
       "       [  5,  18,  20,  27,  39,  43,  55,  66,  82,  86],\n",
       "       [  8,  23,  33,  49,  50,  54,  54,  82,  94,  95],\n",
       "       [ 11,  19,  52,  62,  67,  76,  83,  85,  87,  96],\n",
       "       [  5,  16,  19,  26,  42,  48,  52,  76,  82,  95],\n",
       "       [  2,   2,  45,  45,  57,  63,  66,  67,  68,  75]])"
      ]
     },
     "execution_count": 69,
     "metadata": {},
     "output_type": "execute_result"
    }
   ],
   "source": [
    "BSY=np.sort(B,axis=1)\n",
    "BSY"
   ]
  },
  {
   "cell_type": "markdown",
   "id": "a3a175c5",
   "metadata": {},
   "source": [
    "### 構造化配列を作りソート"
   ]
  },
  {
   "cell_type": "code",
   "execution_count": null,
   "id": "5165eade",
   "metadata": {},
   "outputs": [],
   "source": [
    "name=['Alice','Bob','Charlie']\n",
    "age=[13,15,12]\n",
    "height=[180,170,190]\n"
   ]
  },
  {
   "cell_type": "code",
   "execution_count": null,
   "id": "16173428",
   "metadata": {},
   "outputs": [
    {
     "name": "stdout",
     "output_type": "stream",
     "text": [
      "[('', 0, 0.) ('', 0, 0.) ('', 0, 0.)]\n"
     ]
    }
   ],
   "source": [
    "data=np.zeros(3,dtype={'names':('name','age','height'),'formats':('U10','i4','f8')})\n",
    "print(data)"
   ]
  },
  {
   "cell_type": "code",
   "execution_count": null,
   "id": "6d721ee0",
   "metadata": {},
   "outputs": [
    {
     "name": "stdout",
     "output_type": "stream",
     "text": [
      "[('Alice', 13, 180.) ('Bob', 15, 170.) ('Charlie', 12, 190.)]\n"
     ]
    }
   ],
   "source": [
    "data['name']=name\n",
    "data['age']=age\n",
    "data['height']=height\n",
    "print(data)"
   ]
  },
  {
   "cell_type": "markdown",
   "id": "0a57f8ab",
   "metadata": {},
   "source": [
    "同配列を age>30 でフィルタ。"
   ]
  },
  {
   "cell_type": "code",
   "execution_count": null,
   "id": "ba75c6ae",
   "metadata": {},
   "outputs": [
    {
     "data": {
      "text/plain": [
       "array([('Alice', 13, 180.), ('Bob', 15, 170.)],\n",
       "      dtype=[('name', '<U10'), ('age', '<i4'), ('height', '<f8')])"
      ]
     },
     "execution_count": 68,
     "metadata": {},
     "output_type": "execute_result"
    }
   ],
   "source": [
    "data[data['age']>=13]"
   ]
  },
  {
   "cell_type": "markdown",
   "id": "bbefc0e8",
   "metadata": {},
   "source": [
    "65 np.argsort で上位 3 行を抽出。"
   ]
  },
  {
   "cell_type": "code",
   "execution_count": null,
   "id": "98b54407",
   "metadata": {},
   "outputs": [
    {
     "name": "stdout",
     "output_type": "stream",
     "text": [
      "[('Alice', 13, 180.) ('Bob', 15, 170.) ('Charlie', 12, 190.)]\n"
     ]
    },
    {
     "data": {
      "text/plain": [
       "array([0, 1, 2])"
      ]
     },
     "execution_count": 73,
     "metadata": {},
     "output_type": "execute_result"
    }
   ],
   "source": [
    "print(data)\n",
    "sorted=np.argsort(data,axis=0)\n",
    "sorted"
   ]
  },
  {
   "cell_type": "code",
   "execution_count": null,
   "id": "deb9cd48",
   "metadata": {},
   "outputs": [],
   "source": [
    "import numpy as np\n",
    "\n",
    "last  = np.array(['Yamada', 'Sato', 'Yamada', 'Suzuki'])\n",
    "first = np.array(['Taro'  , 'Hanako', 'Ichiro', 'Taro'  ])\n",
    "\n",
    "idx = np.lexsort((first, last))  # (名, 姓) の順で比較\n",
    "print(idx)        # [1 3 2 0]\n",
    "\n",
    "print(last[idx])  # ['Sato' 'Suzuki' 'Yamada' 'Yamada']\n",
    "print(first[idx]) # ['Hanako' 'Taro'   'Ichiro' 'Taro' ]"
   ]
  },
  {
   "cell_type": "code",
   "execution_count": null,
   "id": "d37036c3",
   "metadata": {},
   "outputs": [
    {
     "name": "stdout",
     "output_type": "stream",
     "text": [
      "[99 98 97 96 95 94 93 92 91 90 89 88 87 86 85 84 83 82 81 80 79 78 77 76\n",
      " 75 74 73 72 71 70 69 68 67 66 65 64 63 62 61 60 59 58 57 56 55 54 53 52\n",
      " 51 50 49 48 47 46 45 44 43 42 41 40 39 38 37 36 35 34 33 32 31 30 29 28\n",
      " 27 26 25 24 23 22 21 20 19 18 17 16 15 14 13 12 11 10  9  8  7  6  5  4\n",
      "  3  2  1  0]\n",
      "[0.99999849 0.99998791 0.9999817  0.99996189 0.99994365 0.99993887\n",
      " 0.99992747 0.99991647 0.99990962 0.99990421 0.99989354 0.99988017\n",
      " 0.99987652 0.99986741 0.99985639 0.99984862 0.99984439 0.99980792\n",
      " 0.99980444 0.99980023 0.99979513 0.99979239 0.99978736 0.99977496\n",
      " 0.99975543 0.99972895 0.99972436 0.99970611 0.99968187 0.99967433\n",
      " 0.99966231 0.99966128 0.99965365 0.99965192 0.99964518 0.99964025\n",
      " 0.99963876 0.99962705 0.99962495 0.99961957 0.99959566 0.99958663\n",
      " 0.99958113 0.99956853 0.99956453 0.99954489 0.99951324 0.99950682\n",
      " 0.99947214 0.99947053 0.99946765 0.99945598 0.99945571 0.9994544\n",
      " 0.99945137 0.99944138 0.99943525 0.9994318  0.99942994 0.99942664\n",
      " 0.99942384 0.99940314 0.99937816 0.99937741 0.99937535 0.99937141\n",
      " 0.99936341 0.99934756 0.99934698 0.99933919 0.99933682 0.9993271\n",
      " 0.99932081 0.99931826 0.99931276 0.99930678 0.99930243 0.99929566\n",
      " 0.99928141 0.9992796  0.99927558 0.9992379  0.99923355 0.99921856\n",
      " 0.99920782 0.99919081 0.99918907 0.99918511 0.99916377 0.99914984\n",
      " 0.99914392 0.99912622 0.99911651 0.99910138 0.99909792 0.9990972\n",
      " 0.99909148 0.99906483 0.99905794 0.99905311]\n",
      "[ 1688 98404 49598 12972  9169 87846 87611 65253 13544 19783  7480 59718\n",
      " 94181  8632 84460  8634 22137  6946 22062 60116 79945 70936 59770 72309\n",
      " 21438 96933 12949 13887 95167   837 81533  7715 37681 26755  4980 69485\n",
      " 69295 66257 23248 18785 96457 44285 84725 30517 19993 43177 88688  9942\n",
      " 49834 64022 56364 29573 17285 80704 73800 40713 95358 59971 17281 90138\n",
      " 30860 41487 25000 47764 91090  6268 44595 85930 15405 65280 38107  5337\n",
      " 78978  6675  7823 29063  2043 11281 77374 64399  5935 53028 15752 39841\n",
      " 36821 28047 70348 38824 13563 29770 94063 16862 28335 86771 83666 70355\n",
      " 83538 97962 93643 33111]\n"
     ]
    }
   ],
   "source": [
    "scores = np.random.rand(100000)\n",
    "ids    = np.arange(100000)\n",
    "\n",
    "k = 100\n",
    "idx = np.argpartition(scores, -k)[-k:]     # 上位 k 件添え字\n",
    "top_scores = scores[idx]\n",
    "top_ids    = ids[idx]\n",
    "\n",
    "# 表示用に整えておく\n",
    "order = np.argsort(-top_scores)            # 降順インデックス\n",
    "top_scores = top_scores[order]\n",
    "top_ids    = top_ids[order]\n",
    "\n",
    "print(order)\n",
    "print(top_scores)\n",
    "print(top_ids)"
   ]
  },
  {
   "cell_type": "code",
   "execution_count": null,
   "id": "8655a0ec",
   "metadata": {},
   "outputs": [
    {
     "name": "stdout",
     "output_type": "stream",
     "text": [
      "['D' 'C' 'E' 'B' 'A']\n",
      "['C' 'D' 'E' 'A' 'B']\n"
     ]
    }
   ],
   "source": [
    "score = np.array([90, 90, 80, 80, 80])   # キー：点数\n",
    "name  = np.array(['A', 'B', 'C', 'D', 'E'])  # 2 番目の情報\n",
    "\n",
    "# 1) 既定 (quicksort) は **不安定**：同点の並びは保証されない\n",
    "idx_q = np.argsort(score, kind='quicksort')\n",
    "print(name[idx_q])\n",
    "\n",
    "# 2) mergesort は **安定**：同値間で入力順が保たれる\n",
    "idx_m = np.argsort(score, kind='mergesort')\n",
    "print(name[idx_m])"
   ]
  },
  {
   "cell_type": "code",
   "execution_count": null,
   "id": "ca959464",
   "metadata": {},
   "outputs": [
    {
     "name": "stdout",
     "output_type": "stream",
     "text": [
      "32.8 μs ± 202 ns per loop (mean ± std. dev. of 7 runs, 10,000 loops each)\n"
     ]
    }
   ],
   "source": [
    "%%timeit\n",
    "A=np.random.randint(1,10,1000,dtype=np.int8)\n",
    "np.sort(A)"
   ]
  },
  {
   "cell_type": "code",
   "execution_count": null,
   "id": "5616c520",
   "metadata": {},
   "outputs": [
    {
     "name": "stdout",
     "output_type": "stream",
     "text": [
      "24.9 μs ± 320 ns per loop (mean ± std. dev. of 7 runs, 10,000 loops each)\n"
     ]
    }
   ],
   "source": [
    "%%timeit\n",
    "A=np.random.randint(1,10,1000,dtype=np.int64)\n",
    "np.sort(A)"
   ]
  },
  {
   "cell_type": "code",
   "execution_count": null,
   "id": "f9b10a12",
   "metadata": {},
   "outputs": [
    {
     "data": {
      "text/plain": [
       "[<matplotlib.lines.Line2D at 0x23098347fb0>]"
      ]
     },
     "execution_count": 86,
     "metadata": {},
     "output_type": "execute_result"
    },
    {
     "data": {
      "image/png": "[encoded data removed]",
      "text/plain": [
       "<Figure size 640x480 with 1 Axes>"
      ]
     },
     "metadata": {},
     "output_type": "display_data"
    }
   ],
   "source": [
    "import matplotlib.pyplot as plt\n",
    "\n",
    "x=np.linspace(-10,10,num=100)\n",
    "y=1/np.exp(x)\n",
    "plt.xlim([-10,10])\n",
    "plt.ylim([-5,10])\n",
    "plt.xlabel('x')\n",
    "plt.ylabel('y')\n",
    "plt.plot(x,y)"
   ]
  },
  {
   "cell_type": "code",
   "execution_count": null,
   "id": "45caec35",
   "metadata": {},
   "outputs": [
    {
     "data": {
      "text/plain": [
       "<matplotlib.collections.PathCollection at 0x23098478ec0>"
      ]
     },
     "execution_count": 89,
     "metadata": {},
     "output_type": "execute_result"
    },
    {
     "data": {
      "image/png": "[encoded data removed]",
      "text/plain": [
       "<Figure size 640x480 with 1 Axes>"
      ]
     },
     "metadata": {},
     "output_type": "display_data"
    }
   ],
   "source": [
    "n=100\n",
    "x=np.random.random(n)\n",
    "y=np.random.random(n)\n",
    "plt.scatter(x,y)"
   ]
  },
  {
   "cell_type": "code",
   "execution_count": null,
   "id": "4cd43565",
   "metadata": {},
   "outputs": [
    {
     "name": "stdout",
     "output_type": "stream",
     "text": [
      "Exception reporting mode: Plain\n"
     ]
    },
    {
     "ename": "ZeroDivisionError",
     "evalue": "division by zero",
     "output_type": "error",
     "traceback": [
      "Traceback \u001b[36m(most recent call last)\u001b[39m:\n",
      "\u001b[36m  \u001b[39m\u001b[36mCell\u001b[39m\u001b[36m \u001b[39m\u001b[32mIn[91]\u001b[39m\u001b[32m, line 2\u001b[39m\n\u001b[31m    \u001b[39m\u001b[31ma=1/0\u001b[39m\n",
      "\u001b[31mZeroDivisionError\u001b[39m\u001b[31m:\u001b[39m division by zero\n"
     ]
    }
   ],
   "source": [
    "%xmode Plain\n",
    "a=1/0"
   ]
  },
  {
   "cell_type": "code",
   "execution_count": null,
   "id": "7e1ba90e",
   "metadata": {},
   "outputs": [
    {
     "name": "stdout",
     "output_type": "stream",
     "text": [
      "Exception reporting mode: Verbose\n"
     ]
    },
    {
     "ename": "ZeroDivisionError",
     "evalue": "division by zero",
     "output_type": "error",
     "traceback": [
      "\u001b[31m---------------------------------------------------------------------------\u001b[39m",
      "\u001b[31mZeroDivisionError\u001b[39m                         Traceback (most recent call last)",
      "\u001b[36mCell\u001b[39m\u001b[36m \u001b[39m\u001b[32mIn[92]\u001b[39m\u001b[32m, line 2\u001b[39m\n\u001b[32m      1\u001b[39m get_ipython().run_line_magic(\u001b[33m'\u001b[39m\u001b[33mxmode\u001b[39m\u001b[33m'\u001b[39m, \u001b[33m'\u001b[39m\u001b[33mVerbose\u001b[39m\u001b[33m'\u001b[39m)\n\u001b[32m----> \u001b[39m\u001b[32m2\u001b[39m a=\u001b[32;43m1\u001b[39;49m\u001b[43m/\u001b[49m\u001b[32;43m0\u001b[39;49m\n        a \u001b[34m= \u001b[39m\u001b[34marray([0.6562272 , 0.30841811, 0.05741613, ..., 0.42543249, 0.61251929,\u001b[39m\n\u001b[34m       0.44554431], shape=(1000000,))\u001b[39m",
      "\u001b[31mZeroDivisionError\u001b[39m: division by zero"
     ]
    }
   ],
   "source": [
    "%xmode Verbose\n",
    "a=1/0"
   ]
  },
  {
   "cell_type": "code",
   "execution_count": null,
   "id": "74413525",
   "metadata": {},
   "outputs": [
    {
     "name": "stderr",
     "output_type": "stream",
     "text": [
      "ERROR:root:No traceback has been produced, nothing to debug.\n"
     ]
    },
    {
     "ename": "ZeroDivisionError",
     "evalue": "division by zero",
     "output_type": "error",
     "traceback": [
      "\u001b[31m---------------------------------------------------------------------------\u001b[39m",
      "\u001b[31mZeroDivisionError\u001b[39m                         Traceback (most recent call last)",
      "\u001b[36mCell\u001b[39m\u001b[36m \u001b[39m\u001b[32mIn[2]\u001b[39m\u001b[32m, line 2\u001b[39m\n\u001b[32m      1\u001b[39m get_ipython().run_line_magic(\u001b[33m'\u001b[39m\u001b[33mdebug\u001b[39m\u001b[33m'\u001b[39m, \u001b[33m'\u001b[39m\u001b[33m'\u001b[39m)\n\u001b[32m----> \u001b[39m\u001b[32m2\u001b[39m a=\u001b[32;43m1\u001b[39;49m\u001b[43m/\u001b[49m\u001b[32;43m0\u001b[39;49m\n",
      "\u001b[31mZeroDivisionError\u001b[39m: division by zero"
     ]
    }
   ],
   "source": [
    "%debug\n",
    "a=1/0\n"
   ]
  },
  {
   "cell_type": "code",
   "execution_count": null,
   "id": "6f934b6b",
   "metadata": {},
   "outputs": [
    {
     "name": "stdout",
     "output_type": "stream",
     "text": [
      "Package                 Version\n",
      "----------------------- -----------\n",
      "asttokens               3.0.0\n",
      "colorama                0.4.6\n",
      "comm                    0.2.2\n",
      "contourpy               1.3.3\n",
      "cycler                  0.12.1\n",
      "debugpy                 1.8.15\n",
      "decorator               5.2.1\n",
      "executing               2.2.0\n",
      "fonttools               4.59.0\n",
      "ipykernel               6.30.0\n",
      "ipython                 9.4.0\n",
      "ipython_pygments_lexers 1.1.1\n",
      "jedi                    0.19.2\n",
      "jupyter_client          8.6.3\n",
      "jupyter_core            5.8.1\n",
      "kiwisolver              1.4.8\n",
      "matplotlib              3.10.3\n",
      "matplotlib-inline       0.1.7\n",
      "nest-asyncio            1.6.0\n",
      "numpy                   2.3.1\n",
      "packaging               25.0\n",
      "parso                   0.8.4\n",
      "pillow                  11.3.0\n",
      "pip                     23.2.1\n",
      "platformdirs            4.3.8\n",
      "prompt_toolkit          3.0.51\n",
      "psutil                  7.0.0\n",
      "pure_eval               0.2.3\n",
      "Pygments                2.19.2\n",
      "pyparsing               3.2.3\n",
      "python-dateutil         2.9.0.post0\n",
      "pywin32                 311\n",
      "pyzmq                   27.0.0\n",
      "six                     1.17.0\n",
      "stack-data              0.6.3\n",
      "tornado                 6.5.1\n",
      "traitlets               5.14.3\n",
      "wcwidth                 0.2.13\n"
     ]
    },
    {
     "name": "stderr",
     "output_type": "stream",
     "text": [
      "\n",
      "[notice] A new release of pip is available: 23.2.1 -> 25.1.1\n",
      "[notice] To update, run: python.exe -m pip install --upgrade pip\n"
     ]
    }
   ],
   "source": [
    "!pip list"
   ]
  },
  {
   "cell_type": "markdown",
   "id": "51ce5dc7",
   "metadata": {},
   "source": [
    "91. 速度差比較"
   ]
  },
  {
   "cell_type": "code",
   "execution_count": null,
   "id": "14318763",
   "metadata": {},
   "outputs": [
    {
     "data": {
      "image/png": "[encoded data removed]",
      "text/plain": [
       "<Figure size 800x500 with 1 Axes>"
      ]
     },
     "metadata": {},
     "output_type": "display_data"
    }
   ],
   "source": [
    "import time\n",
    "import numpy as np\n",
    "import matplotlib.pyplot as plt\n",
    "\n",
    "# Array sizes to benchmark\n",
    "sizes = [10**k for k in range(2, 8)]  # 1e2 to 1e6\n",
    "\n",
    "times_python = []\n",
    "times_numpy = []\n",
    "\n",
    "# Benchmark parameters\n",
    "repeats = 3  # run each measurement this many times and take the median\n",
    "\n",
    "for n in sizes:\n",
    "    # Pure Python benchmark: square and sum\n",
    "    py_times = []\n",
    "    for _ in range(repeats):\n",
    "        data = list(range(n))  # create list of integers\n",
    "        start = time.perf_counter()\n",
    "        total = sum([x * x for x in data])\n",
    "        py_times.append(time.perf_counter() - start)\n",
    "    times_python.append(sorted(py_times)[repeats // 2])  # median\n",
    "\n",
    "    # NumPy benchmark: square and sum\n",
    "    np_times = []\n",
    "    for _ in range(repeats):\n",
    "        arr = np.arange(n)  # create NumPy array\n",
    "        start = time.perf_counter()\n",
    "        total = (arr * arr).sum()\n",
    "        np_times.append(time.perf_counter() - start)\n",
    "    times_numpy.append(sorted(np_times)[repeats // 2])  # median\n",
    "\n",
    "# Plotting\n",
    "plt.figure(figsize=(8, 5))\n",
    "plt.plot(sizes, times_python, marker='o', label='Pure Python (list comprehension)')\n",
    "plt.plot(sizes, times_numpy, marker='s', label='NumPy (vectorized)')\n",
    "plt.xlabel('Array size (N)')\n",
    "plt.ylabel('Execution time (seconds)')\n",
    "plt.title('Execution time: Pure Python vs. NumPy')\n",
    "plt.xscale('log')\n",
    "plt.yscale('log')\n",
    "plt.legend()\n",
    "plt.grid(True, which='both', linestyle='--', linewidth=0.5)\n",
    "plt.tight_layout()\n",
    "\n"
   ]
  },
  {
   "cell_type": "code",
   "execution_count": null,
   "id": "8a25c8bd",
   "metadata": {},
   "outputs": [
    {
     "data": {
      "image/png": "[encoded data removed]",
      "text/plain": [
       "<Figure size 1000x600 with 1 Axes>"
      ]
     },
     "metadata": {},
     "output_type": "display_data"
    }
   ],
   "source": [
    "import numpy as np\n",
    "import matplotlib.pyplot as plt\n",
    "import matplotlib as mpl\n",
    "\n",
    "mpl.rcParams['font.family'] = 'Yu Gothic'\n",
    "\n",
    "# シミュレーションのパラメータ設定\n",
    "num_walkers = 10000\n",
    "num_steps = 1000\n",
    "\n",
    "steps = np.random.choice([-1, 1], size=(num_walkers, num_steps))\n",
    "final_positions = np.sum(steps, axis=1)\n",
    "\n",
    "plt.figure(figsize=(10, 6))\n",
    "plt.hist(final_positions, bins=50, density=True, alpha=0.7, label='シミュレーション結果')\n",
    "plt.title(f'{num_walkers}人のウォーカーによる{num_steps}ステップのランダムウォーク後の最終位置の分布')\n",
    "plt.xlabel('最終的な位置')\n",
    "plt.ylabel('確率密度')\n",
    "plt.grid(True)\n",
    "plt.legend()\n",
    "plt.show()"
   ]
  },
  {
   "cell_type": "code",
   "execution_count": null,
   "id": "b45be9ce",
   "metadata": {},
   "outputs": [
    {
     "data": {
      "text/plain": [
       "array([0.00000000e+00, 1.00000000e+00, 1.00000000e+00, 2.00000000e+00,\n",
       "       3.00000000e+00, 5.00000000e+00, 8.00000000e+00, 1.30000000e+01,\n",
       "       2.10000000e+01, 3.40000000e+01, 5.50000000e+01, 8.90000000e+01,\n",
       "       1.44000000e+02, 2.33000000e+02, 3.77000000e+02, 6.10000000e+02,\n",
       "       9.87000000e+02, 1.59700000e+03, 2.58400000e+03, 4.18100000e+03,\n",
       "       6.76500000e+03, 1.09460000e+04, 1.77110000e+04, 2.86570000e+04,\n",
       "       4.63680000e+04, 7.50250000e+04, 1.21393000e+05, 1.96418000e+05,\n",
       "       3.17811000e+05, 5.14229000e+05, 8.32040000e+05, 1.34626900e+06,\n",
       "       2.17830900e+06, 3.52457800e+06, 5.70288700e+06, 9.22746500e+06,\n",
       "       1.49303520e+07, 2.41578170e+07, 3.90881690e+07, 6.32459860e+07,\n",
       "       1.02334155e+08, 1.65580141e+08, 2.67914296e+08, 4.33494437e+08,\n",
       "       7.01408733e+08, 1.13490317e+09, 1.83631190e+09, 2.97121507e+09,\n",
       "       4.80752698e+09, 7.77874205e+09, 1.25862690e+10, 2.03650111e+10,\n",
       "       3.29512801e+10, 5.33162912e+10, 8.62675713e+10, 1.39583862e+11,\n",
       "       2.25851434e+11, 3.65435296e+11, 5.91286730e+11, 9.56722026e+11,\n",
       "       1.54800876e+12, 2.50473078e+12, 4.05273954e+12, 6.55747032e+12,\n",
       "       1.06102099e+13, 1.71676802e+13, 2.77778900e+13, 4.49455702e+13,\n",
       "       7.27234602e+13, 1.17669030e+14, 1.90392491e+14, 3.08061521e+14,\n",
       "       4.98454012e+14, 8.06515533e+14, 1.30496954e+15, 2.11148508e+15,\n",
       "       3.41645462e+15, 5.52793970e+15, 8.94439432e+15, 1.44723340e+16,\n",
       "       2.34167283e+16, 3.78890624e+16, 6.13057907e+16, 9.91948531e+16,\n",
       "       1.60500644e+17, 2.59695497e+17, 4.20196141e+17, 6.79891638e+17,\n",
       "       1.10008778e+18, 1.77997942e+18, 2.88006719e+18, 4.66004661e+18,\n",
       "       7.54011380e+18, 1.22001604e+19, 1.97402742e+19, 3.19404346e+19,\n",
       "       5.16807089e+19, 8.36211435e+19, 1.35301852e+20, 2.18922996e+20])"
      ]
     },
     "execution_count": 64,
     "metadata": {},
     "output_type": "execute_result"
    }
   ],
   "source": [
    "A=np.zeros(100)\n",
    "A[1]=1\n",
    "for i in range(2,100):\n",
    "    A[i]=A[i-1]+A[i-2]\n",
    "A"
   ]
  },
  {
   "cell_type": "code",
   "execution_count": 66,
   "id": "ea2538bb",
   "metadata": {},
   "outputs": [
    {
     "name": "stdout",
     "output_type": "stream",
     "text": [
      "<class 'numpy.ndarray'>\n",
      "uint8\n",
      "(683, 1024, 3)\n"
     ]
    },
    {
     "data": {
      "image/png": "[encoded data removed]",
      "text/plain": [
       "<Figure size 640x480 with 1 Axes>"
      ]
     },
     "metadata": {},
     "output_type": "display_data"
    }
   ],
   "source": [
    "from PIL import Image\n",
    "import numpy as np\n",
    "import cv2\n",
    "im = np.array(Image.open('monokuro14-1-1024x683.jpg'))\n",
    "\n",
    "print(type(im))\n",
    "print(im.dtype)\n",
    "print(im.shape)\n",
    "\n",
    "hist = cv2.calcHist([im],[0],None,[256],[0,256])\n",
    "plt.plot(hist)\n",
    "plt.show()"
   ]
  },
  {
   "cell_type": "code",
   "execution_count": 67,
   "id": "e857b220",
   "metadata": {},
   "outputs": [
    {
     "data": {
      "image/png": "[encoded data removed]",
      "text/plain": [
       "<Figure size 1000x800 with 2 Axes>"
      ]
     },
     "metadata": {},
     "output_type": "display_data"
    }
   ],
   "source": [
    "import numpy as np\n",
    "import matplotlib.pyplot as plt\n",
    "from scipy.stats import multivariate_normal\n",
    "\n",
    "def plot_2d_gaussian():\n",
    "    \"\"\"\n",
    "    2次元ガウス分布のデータ生成、確率密度関数の計算、および可視化を行います。\n",
    "    \"\"\"\n",
    "    # 1. パラメータの定義\n",
    "    # 平均ベクトル (分布の中心)\n",
    "    mean = np.array([1, 2])\n",
    "\n",
    "    # 共分散行列 (分布の形状と向き)\n",
    "    # [[xの分散, xとyの共分散],\n",
    "    #  [xとyの共分散, yの分散]]\n",
    "    # 共分散が正の値なので、分布は右肩上がりに傾く\n",
    "    cov = np.array([[2.0, 0.8], \n",
    "                    [0.8, 1.5]])\n",
    "\n",
    "    # 2. 2次元ガウス分布に従う乱数を生成\n",
    "    # mean: 平均, cov: 共分散行列, size: 生成するデータ数\n",
    "    num_samples = 1000\n",
    "    data = np.random.multivariate_normal(mean, cov, size=num_samples)\n",
    "\n",
    "    # 3. 確率密度関数(PDF)を計算するためのグリッドを生成\n",
    "    x = np.linspace(-4, 6, 200)\n",
    "    y = np.linspace(-2, 6, 200)\n",
    "    X, Y = np.meshgrid(x, y)\n",
    "    \n",
    "    # グリッドの各点(x, y)をまとめる\n",
    "    pos = np.dstack((X, Y))\n",
    "\n",
    "    # 4. 確率密度関数(PDF)を計算\n",
    "    # scipy.stats.multivariate_normal を使うと簡単に計算できる\n",
    "    rv = multivariate_normal(mean, cov)\n",
    "    Z = rv.pdf(pos)\n",
    "\n",
    "    # 5. 結果の可視化\n",
    "    plt.style.use('seaborn-v0_8-whitegrid')\n",
    "    fig = plt.figure(figsize=(10, 8))\n",
    "    ax = fig.add_subplot(111)\n",
    "\n",
    "    # 確率密度関数を等高線でプロット\n",
    "    contour = ax.contourf(X, Y, Z, levels=10, cmap='viridis', alpha=0.7)\n",
    "    ax.contour(X, Y, Z, levels=10, colors='black', linewidths=0.5)\n",
    "    fig.colorbar(contour, ax=ax, label='Probability Density')\n",
    "\n",
    "    # 生成したデータを散布図でプロット\n",
    "    ax.scatter(data[:, 0], data[:, 1], s=10, alpha=0.4, c='white', edgecolors='black', linewidths=0.5, label=f'{num_samples} Samples')\n",
    "    \n",
    "    # 中心点をプロット\n",
    "    ax.plot(mean[0], mean[1], 'r*', markersize=15, label='Mean')\n",
    "\n",
    "    # グラフの装飾\n",
    "    ax.set_title('2D Gaussian Distribution', fontsize=16)\n",
    "    ax.set_xlabel('X-axis', fontsize=12)\n",
    "    ax.set_ylabel('Y-axis', fontsize=12)\n",
    "    ax.legend()\n",
    "    ax.grid(True)\n",
    "    ax.set_aspect('equal', adjustable='box') # アスペクト比を1:1に\n",
    "\n",
    "    plt.show()\n",
    "\n",
    "plot_2d_gaussian()\n"
   ]
  },
  {
   "cell_type": "code",
   "execution_count": 72,
   "id": "52e04e4b",
   "metadata": {},
   "outputs": [
    {
     "name": "stdout",
     "output_type": "stream",
     "text": [
      "1 4.0\n",
      "10 2.4\n",
      "100 3.28\n",
      "1000 3.096\n",
      "10000 3.1492\n",
      "100000 3.146\n",
      "1000000 3.141916\n",
      "10000000 3.1415564\n"
     ]
    }
   ],
   "source": [
    "for i in range(8):\n",
    "    n=10**i\n",
    "    x=np.random.random(n)\n",
    "    y=np.random.random(n)\n",
    "    c=0\n",
    "    for a,b in zip(x,y):\n",
    "        if a**2+b**2<1:\n",
    "            c+=1\n",
    "    print(n,c/n*4)\n",
    "    "
   ]
  },
  {
   "cell_type": "code",
   "execution_count": 73,
   "id": "73153bfd",
   "metadata": {},
   "outputs": [
    {
     "name": "stdout",
     "output_type": "stream",
     "text": [
      "231 ms ± 4.73 ms per loop (mean ± std. dev. of 7 runs, 10 loops each)\n"
     ]
    }
   ],
   "source": [
    "rng=np.random.default_rng(0)\n",
    "X=rng.integers(10,size=(100,100))\n",
    "Y=rng.integers(10,size=(100,100))\n",
    "\n",
    "%timeit np.multiply.outer(X,Y)\n"
   ]
  },
  {
   "cell_type": "code",
   "execution_count": 77,
   "id": "358d2713",
   "metadata": {},
   "outputs": [
    {
     "name": "stdout",
     "output_type": "stream",
     "text": [
      "[[0 1 0 1 0 1 0 1]\n",
      " [1 0 1 0 1 0 1 0]\n",
      " [0 1 0 1 0 1 0 1]\n",
      " [1 0 1 0 1 0 1 0]\n",
      " [0 1 0 1 0 1 0 1]\n",
      " [1 0 1 0 1 0 1 0]\n",
      " [0 1 0 1 0 1 0 1]\n",
      " [1 0 1 0 1 0 1 0]]\n"
     ]
    }
   ],
   "source": [
    "import numpy as np\n",
    "import matplotlib.pyplot as plt\n",
    "\n",
    "def create_chessboard(n=8):\n",
    "    \"\"\"\n",
    "    NumPyのブロードキャスティングを利用してチェス盤模様の配列を生成します。\n",
    "\n",
    "    Args:\n",
    "        n (int): チェス盤の一辺のサイズ。\n",
    "\n",
    "    Returns:\n",
    "        numpy.ndarray: 0と1で構成された n x n のチェス盤配列。\n",
    "    \"\"\"\n",
    "    # 1. 行インデックスの配列を作成 (n, 1)の形状にする\n",
    "    # np.newaxis は次元を追加するためのもので、reshape(n, 1) と同じ効果\n",
    "    rows = np.arange(n)[:, np.newaxis]\n",
    "\n",
    "    # 2. 列インデックスの配列を作成 (n,)の形状\n",
    "    cols = np.arange(n)\n",
    "\n",
    "    # 3. ブロードキャスティングと剰余演算\n",
    "    # (n, 1)の配列と(n,)の配列を足すと、(n, n)の行列が生成される（ブロードキャスティング）\n",
    "    # 各要素は (行インデックス + 列インデックス) となる\n",
    "    # その結果を2で割った余りを取ることで、0と1のパターンを生成\n",
    "    board = (rows + cols) % 2\n",
    "    \n",
    "    return board\n",
    "\n",
    "# 8x8のチェス盤を生成\n",
    "chessboard_array = create_chessboard(8)\n",
    "\n",
    "print(chessboard_array)\n",
    "\n",
    "\n",
    "\n"
   ]
  },
  {
   "cell_type": "code",
   "execution_count": 85,
   "id": "d1f26e7d",
   "metadata": {},
   "outputs": [
    {
     "data": {
      "text/plain": [
       "[1, 9, 36, 84, 126, 126, 84, 36, 9, 1]"
      ]
     },
     "execution_count": 85,
     "metadata": {},
     "output_type": "execute_result"
    }
   ],
   "source": [
    "def pas(n):\n",
    "    if n==1:\n",
    "        return [1]\n",
    "    if n==2:\n",
    "        return [1,1]\n",
    "    a=pas(n-1)\n",
    "    b=[]\n",
    "    for i in range(len(a)-1):\n",
    "        b.append(a[i]+a[i+1])\n",
    "    return [1]+b+[1]\n",
    "pas(10)\n",
    "\n",
    "        "
   ]
  },
  {
   "cell_type": "markdown",
   "id": "45f1d59c",
   "metadata": {},
   "source": [
    "100 ｃｓｖを読み込みなむパイで平均"
   ]
  },
  {
   "cell_type": "code",
   "execution_count": 15,
   "id": "94caeb1d",
   "metadata": {},
   "outputs": [
    {
     "name": "stdout",
     "output_type": "stream",
     "text": [
      "[[81], [93], [89], [25], [39], [43], [70], [75], [51], [33], [93], [18], [17], [11], [81], [85], [82], [72], [19], [23], [48], [85], [23], [7], [74], [79], [84], [44], [76], [44], [94], [97], [77], [22], [96], [77], [59], [9], [55], [90], [78], [27], [95], [34], [29], [78], [11], [49], [34], [59], [69], [9], [4], [37], [39], [24], [42], [63], [1], [47], [60], [82], [30], [95], [27], [80], [43], [78], [65], [69], [60], [37], [58], [38], [44], [11], [16], [81], [67], [51], [46], [37], [65], [7], [24], [98], [38], [56], [64], [57], [87], [64], [16], [42], [40], [15], [99], [43], [92], [76]]\n"
     ]
    }
   ],
   "source": [
    "import csv\n",
    "import numpy as np\n",
    "import random\n",
    "file_path='test.csv'\n",
    "r=[[random.randint(1,100)] for _ in range(100)]\n",
    "print(r)\n",
    "with open(file_path,'w',newline='') as f:\n",
    "    w=csv.writer(f)\n",
    "    w.writerows(r)"
   ]
  },
  {
   "cell_type": "code",
   "execution_count": 17,
   "id": "84ce8f1b",
   "metadata": {},
   "outputs": [
    {
     "data": {
      "text/plain": [
       "np.float64(53.27)"
      ]
     },
     "execution_count": 17,
     "metadata": {},
     "output_type": "execute_result"
    }
   ],
   "source": [
    "arr=np.loadtxt(file_path)\n",
    "arr.mean()"
   ]
  }
 ],
 "metadata": {
  "kernelspec": {
   "display_name": "venv",
   "language": "python",
   "name": "python3"
  },
  "language_info": {
   "codemirror_mode": {
    "name": "ipython",
    "version": 3
   },
   "file_extension": ".py",
   "mimetype": "text/x-python",
   "name": "python",
   "nbconvert_exporter": "python",
   "pygments_lexer": "ipython3",
   "version": "3.13.4"
  }
 },
 "nbformat": 4,
 "nbformat_minor": 5
}
