{
 "cells": [
  {
   "cell_type": "markdown",
   "id": "d3021a50",
   "metadata": {},
   "source": [
    "Jupyter Notebook を起動し、新しいノートブックを作成せよ。"
   ]
  },
  {
   "cell_type": "code",
   "execution_count": 54,
   "id": "2afd163c",
   "metadata": {},
   "outputs": [],
   "source": [
    "import numpy as np"
   ]
  },
  {
   "cell_type": "markdown",
   "id": "1885e068",
   "metadata": {},
   "source": [
    "1 行のセルに print(\"Hello, Data Science!\") を書いて実行。"
   ]
  },
  {
   "cell_type": "code",
   "execution_count": 55,
   "id": "5c5bc59d",
   "metadata": {},
   "outputs": [
    {
     "name": "stdout",
     "output_type": "stream",
     "text": [
      "Hello, Data Science!\n"
     ]
    }
   ],
   "source": [
    "print(\"Hello, Data Science!\")"
   ]
  },
  {
   "cell_type": "markdown",
   "id": "4a5afe47",
   "metadata": {},
   "source": [
    "Markdown セルを追加し、# 私の最初のノート と見出しを書く。"
   ]
  },
  {
   "cell_type": "markdown",
   "id": "0809d33a",
   "metadata": {},
   "source": [
    "len? を実行してヘルプを表示。"
   ]
  },
  {
   "cell_type": "code",
   "execution_count": 56,
   "id": "3a9a6fd8",
   "metadata": {},
   "outputs": [
    {
     "name": "stdout",
     "output_type": "stream",
     "text": [
      "\u001b[31mSignature:\u001b[39m len(obj, /)\n",
      "\u001b[31mDocstring:\u001b[39m Return the number of items in a container.\n",
      "\u001b[31mType:\u001b[39m      builtin_function_or_method"
     ]
    }
   ],
   "source": [
    "len?"
   ]
  },
  {
   "cell_type": "markdown",
   "id": "f1907e08",
   "metadata": {},
   "source": []
  },
  {
   "cell_type": "code",
   "execution_count": null,
   "id": "dd0ed232",
   "metadata": {},
   "outputs": [],
   "source": []
  },
  {
   "cell_type": "markdown",
   "id": "f3a6e4c7",
   "metadata": {},
   "source": [
    "np.mean?? でソースコードを確認。"
   ]
  },
  {
   "cell_type": "code",
   "execution_count": 57,
   "id": "3fb65b8b",
   "metadata": {},
   "outputs": [
    {
     "name": "stdout",
     "output_type": "stream",
     "text": [
      "\u001b[31mSignature:\u001b[39m      \n",
      "np.mean(\n",
      "    a,\n",
      "    axis=\u001b[38;5;28;01mNone\u001b[39;00m,\n",
      "    dtype=\u001b[38;5;28;01mNone\u001b[39;00m,\n",
      "    out=\u001b[38;5;28;01mNone\u001b[39;00m,\n",
      "    keepdims=<no value>,\n",
      "    *,\n",
      "    where=<no value>,\n",
      ")\n",
      "\u001b[31mCall signature:\u001b[39m  np.mean(*args, **kwargs)\n",
      "\u001b[31mType:\u001b[39m            _ArrayFunctionDispatcher\n",
      "\u001b[31mString form:\u001b[39m     <function mean at 0x000001BD671CC860>\n",
      "\u001b[31mFile:\u001b[39m            e:\\python\\python-data-science-handbook\\venv\\lib\\site-packages\\numpy\\_core\\fromnumeric.py\n",
      "\u001b[31mSource:\u001b[39m         \n",
      "@array_function_dispatch(_mean_dispatcher)\n",
      "\u001b[38;5;28;01mdef\u001b[39;00m mean(a, axis=\u001b[38;5;28;01mNone\u001b[39;00m, dtype=\u001b[38;5;28;01mNone\u001b[39;00m, out=\u001b[38;5;28;01mNone\u001b[39;00m, keepdims=np._NoValue, *,\n",
      "         where=np._NoValue):\n",
      "    \u001b[33m\"\"\"\u001b[39m\n",
      "\u001b[33m    Compute the arithmetic mean along the specified axis.\u001b[39m\n",
      "\n",
      "\u001b[33m    Returns the average of the array elements.  The average is taken over\u001b[39m\n",
      "\u001b[33m    the flattened array by default, otherwise over the specified axis.\u001b[39m\n",
      "\u001b[33m    `float64` intermediate and return values are used for integer inputs.\u001b[39m\n",
      "\n",
      "\u001b[33m    Parameters\u001b[39m\n",
      "\u001b[33m    ----------\u001b[39m\n",
      "\u001b[33m    a : array_like\u001b[39m\n",
      "\u001b[33m        Array containing numbers whose mean is desired. If `a` is not an\u001b[39m\n",
      "\u001b[33m        array, a conversion is attempted.\u001b[39m\n",
      "\u001b[33m    axis : None or int or tuple of ints, optional\u001b[39m\n",
      "\u001b[33m        Axis or axes along which the means are computed. The default is to\u001b[39m\n",
      "\u001b[33m        compute the mean of the flattened array.\u001b[39m\n",
      "\n",
      "\u001b[33m        If this is a tuple of ints, a mean is performed over multiple axes,\u001b[39m\n",
      "\u001b[33m        instead of a single axis or all the axes as before.\u001b[39m\n",
      "\u001b[33m    dtype : data-type, optional\u001b[39m\n",
      "\u001b[33m        Type to use in computing the mean.  For integer inputs, the default\u001b[39m\n",
      "\u001b[33m        is `float64`; for floating point inputs, it is the same as the\u001b[39m\n",
      "\u001b[33m        input dtype.\u001b[39m\n",
      "\u001b[33m    out : ndarray, optional\u001b[39m\n",
      "\u001b[33m        Alternate output array in which to place the result.  The default\u001b[39m\n",
      "\u001b[33m        is ``None``; if provided, it must have the same shape as the\u001b[39m\n",
      "\u001b[33m        expected output, but the type will be cast if necessary.\u001b[39m\n",
      "\u001b[33m        See :ref:`ufuncs-output-type` for more details.\u001b[39m\n",
      "\u001b[33m        See :ref:`ufuncs-output-type` for more details.\u001b[39m\n",
      "\n",
      "\u001b[33m    keepdims : bool, optional\u001b[39m\n",
      "\u001b[33m        If this is set to True, the axes which are reduced are left\u001b[39m\n",
      "\u001b[33m        in the result as dimensions with size one. With this option,\u001b[39m\n",
      "\u001b[33m        the result will broadcast correctly against the input array.\u001b[39m\n",
      "\n",
      "\u001b[33m        If the default value is passed, then `keepdims` will not be\u001b[39m\n",
      "\u001b[33m        passed through to the `mean` method of sub-classes of\u001b[39m\n",
      "\u001b[33m        `ndarray`, however any non-default value will be.  If the\u001b[39m\n",
      "\u001b[33m        sub-class' method does not implement `keepdims` any\u001b[39m\n",
      "\u001b[33m        exceptions will be raised.\u001b[39m\n",
      "\n",
      "\u001b[33m    where : array_like of bool, optional\u001b[39m\n",
      "\u001b[33m        Elements to include in the mean. See `~numpy.ufunc.reduce` for details.\u001b[39m\n",
      "\n",
      "\u001b[33m        .. versionadded:: 1.20.0\u001b[39m\n",
      "\n",
      "\u001b[33m    Returns\u001b[39m\n",
      "\u001b[33m    -------\u001b[39m\n",
      "\u001b[33m    m : ndarray, see dtype parameter above\u001b[39m\n",
      "\u001b[33m        If `out=None`, returns a new array containing the mean values,\u001b[39m\n",
      "\u001b[33m        otherwise a reference to the output array is returned.\u001b[39m\n",
      "\n",
      "\u001b[33m    See Also\u001b[39m\n",
      "\u001b[33m    --------\u001b[39m\n",
      "\u001b[33m    average : Weighted average\u001b[39m\n",
      "\u001b[33m    std, var, nanmean, nanstd, nanvar\u001b[39m\n",
      "\n",
      "\u001b[33m    Notes\u001b[39m\n",
      "\u001b[33m    -----\u001b[39m\n",
      "\u001b[33m    The arithmetic mean is the sum of the elements along the axis divided\u001b[39m\n",
      "\u001b[33m    by the number of elements.\u001b[39m\n",
      "\n",
      "\u001b[33m    Note that for floating-point input, the mean is computed using the\u001b[39m\n",
      "\u001b[33m    same precision the input has.  Depending on the input data, this can\u001b[39m\n",
      "\u001b[33m    cause the results to be inaccurate, especially for `float32` (see\u001b[39m\n",
      "\u001b[33m    example below).  Specifying a higher-precision accumulator using the\u001b[39m\n",
      "\u001b[33m    `dtype` keyword can alleviate this issue.\u001b[39m\n",
      "\n",
      "\u001b[33m    By default, `float16` results are computed using `float32` intermediates\u001b[39m\n",
      "\u001b[33m    for extra precision.\u001b[39m\n",
      "\n",
      "\u001b[33m    Examples\u001b[39m\n",
      "\u001b[33m    --------\u001b[39m\n",
      "\u001b[33m    >>> import numpy as np\u001b[39m\n",
      "\u001b[33m    >>> a = np.array([[1, 2], [3, 4]])\u001b[39m\n",
      "\u001b[33m    >>> np.mean(a)\u001b[39m\n",
      "\u001b[33m    2.5\u001b[39m\n",
      "\u001b[33m    >>> np.mean(a, axis=0)\u001b[39m\n",
      "\u001b[33m    array([2., 3.])\u001b[39m\n",
      "\u001b[33m    >>> np.mean(a, axis=1)\u001b[39m\n",
      "\u001b[33m    array([1.5, 3.5])\u001b[39m\n",
      "\n",
      "\u001b[33m    In single precision, `mean` can be inaccurate:\u001b[39m\n",
      "\n",
      "\u001b[33m    >>> a = np.zeros((2, 512*512), dtype=np.float32)\u001b[39m\n",
      "\u001b[33m    >>> a[0, :] = 1.0\u001b[39m\n",
      "\u001b[33m    >>> a[1, :] = 0.1\u001b[39m\n",
      "\u001b[33m    >>> np.mean(a)\u001b[39m\n",
      "\u001b[33m    np.float32(0.54999924)\u001b[39m\n",
      "\n",
      "\u001b[33m    Computing the mean in float64 is more accurate:\u001b[39m\n",
      "\n",
      "\u001b[33m    >>> np.mean(a, dtype=np.float64)\u001b[39m\n",
      "\u001b[33m    0.55000000074505806 # may vary\u001b[39m\n",
      "\n",
      "\u001b[33m    Computing the mean in timedelta64 is available:\u001b[39m\n",
      "\n",
      "\u001b[33m    >>> b = np.array([1, 3], dtype=\"timedelta64[D]\")\u001b[39m\n",
      "\u001b[33m    >>> np.mean(b)\u001b[39m\n",
      "\u001b[33m    np.timedelta64(2,'D')\u001b[39m\n",
      "\n",
      "\u001b[33m    Specifying a where argument:\u001b[39m\n",
      "\n",
      "\u001b[33m    >>> a = np.array([[5, 9, 13], [14, 10, 12], [11, 15, 19]])\u001b[39m\n",
      "\u001b[33m    >>> np.mean(a)\u001b[39m\n",
      "\u001b[33m    12.0\u001b[39m\n",
      "\u001b[33m    >>> np.mean(a, where=[[True], [False], [False]])\u001b[39m\n",
      "\u001b[33m    9.0\u001b[39m\n",
      "\n",
      "\u001b[33m    \"\"\"\u001b[39m\n",
      "    kwargs = {}\n",
      "    \u001b[38;5;28;01mif\u001b[39;00m keepdims \u001b[38;5;28;01mis\u001b[39;00m \u001b[38;5;28;01mnot\u001b[39;00m np._NoValue:\n",
      "        kwargs[\u001b[33m'keepdims'\u001b[39m] = keepdims\n",
      "    \u001b[38;5;28;01mif\u001b[39;00m where \u001b[38;5;28;01mis\u001b[39;00m \u001b[38;5;28;01mnot\u001b[39;00m np._NoValue:\n",
      "        kwargs[\u001b[33m'where'\u001b[39m] = where\n",
      "    \u001b[38;5;28;01mif\u001b[39;00m type(a) \u001b[38;5;28;01mis\u001b[39;00m \u001b[38;5;28;01mnot\u001b[39;00m mu.ndarray:\n",
      "        \u001b[38;5;28;01mtry\u001b[39;00m:\n",
      "            mean = a.mean\n",
      "        \u001b[38;5;28;01mexcept\u001b[39;00m AttributeError:\n",
      "            \u001b[38;5;28;01mpass\u001b[39;00m\n",
      "        \u001b[38;5;28;01melse\u001b[39;00m:\n",
      "            \u001b[38;5;28;01mreturn\u001b[39;00m mean(axis=axis, dtype=dtype, out=out, **kwargs)\n",
      "\n",
      "    \u001b[38;5;28;01mreturn\u001b[39;00m _methods._mean(a, axis=axis, dtype=dtype,\n",
      "                          out=out, **kwargs)\n",
      "\u001b[31mClass docstring:\u001b[39m\n",
      "Class to wrap functions with checks for __array_function__ overrides.\n",
      "\n",
      "All arguments are required, and can only be passed by position.\n",
      "\n",
      "Parameters\n",
      "----------\n",
      "dispatcher : function or None\n",
      "    The dispatcher function that returns a single sequence-like object\n",
      "    of all arguments relevant.  It must have the same signature (except\n",
      "    the default values) as the actual implementation.\n",
      "    If ``None``, this is a ``like=`` dispatcher and the\n",
      "    ``_ArrayFunctionDispatcher`` must be called with ``like`` as the\n",
      "    first (additional and positional) argument.\n",
      "implementation : function\n",
      "    Function that implements the operation on NumPy arrays without\n",
      "    overrides.  Arguments passed calling the ``_ArrayFunctionDispatcher``\n",
      "    will be forwarded to this (and the ``dispatcher``) as if using\n",
      "    ``*args, **kwargs``.\n",
      "\n",
      "Attributes\n",
      "----------\n",
      "_implementation : function\n",
      "    The original implementation passed in."
     ]
    }
   ],
   "source": [
    "np.mean??"
   ]
  },
  {
   "cell_type": "markdown",
   "id": "868b7416",
   "metadata": {},
   "source": [
    "Tab 補完で numpy.random.default_rng を補完。"
   ]
  },
  {
   "cell_type": "code",
   "execution_count": 58,
   "id": "6f15141a",
   "metadata": {},
   "outputs": [
    {
     "data": {
      "text/plain": [
       "<cyfunction default_rng at 0x000001BD7D45CDC0>"
      ]
     },
     "execution_count": 58,
     "metadata": {},
     "output_type": "execute_result"
    }
   ],
   "source": [
    "np.random.default_rng"
   ]
  },
  {
   "cell_type": "markdown",
   "id": "e5ceedb8",
   "metadata": {},
   "source": [
    "%lsmagic で Magic コマンド一覧を表示。"
   ]
  },
  {
   "cell_type": "code",
   "execution_count": 59,
   "id": "b89f219e",
   "metadata": {},
   "outputs": [
    {
     "data": {
      "application/json": {
       "cell": {
        "!": "OSMagics",
        "HTML": "Other",
        "SVG": "Other",
        "bash": "Other",
        "capture": "ExecutionMagics",
        "cmd": "Other",
        "code_wrap": "ExecutionMagics",
        "debug": "ExecutionMagics",
        "file": "Other",
        "html": "DisplayMagics",
        "javascript": "DisplayMagics",
        "js": "DisplayMagics",
        "latex": "DisplayMagics",
        "markdown": "DisplayMagics",
        "perl": "Other",
        "prun": "ExecutionMagics",
        "pypy": "Other",
        "python": "Other",
        "python2": "Other",
        "python3": "Other",
        "ruby": "Other",
        "script": "ScriptMagics",
        "sh": "Other",
        "svg": "DisplayMagics",
        "sx": "OSMagics",
        "system": "OSMagics",
        "time": "ExecutionMagics",
        "timeit": "ExecutionMagics",
        "writefile": "OSMagics"
       },
       "line": {
        "alias": "OSMagics",
        "alias_magic": "BasicMagics",
        "autoawait": "AsyncMagics",
        "autocall": "AutoMagics",
        "automagic": "AutoMagics",
        "autosave": "KernelMagics",
        "bookmark": "OSMagics",
        "cd": "OSMagics",
        "clear": "KernelMagics",
        "cls": "KernelMagics",
        "code_wrap": "ExecutionMagics",
        "colors": "BasicMagics",
        "conda": "PackagingMagics",
        "config": "ConfigMagics",
        "connect_info": "KernelMagics",
        "copy": "Other",
        "ddir": "Other",
        "debug": "ExecutionMagics",
        "dhist": "OSMagics",
        "dirs": "OSMagics",
        "doctest_mode": "BasicMagics",
        "echo": "Other",
        "ed": "Other",
        "edit": "KernelMagics",
        "env": "OSMagics",
        "gui": "BasicMagics",
        "hist": "Other",
        "history": "HistoryMagics",
        "killbgscripts": "ScriptMagics",
        "ldir": "Other",
        "less": "KernelMagics",
        "load": "CodeMagics",
        "load_ext": "ExtensionMagics",
        "loadpy": "CodeMagics",
        "logoff": "LoggingMagics",
        "logon": "LoggingMagics",
        "logstart": "LoggingMagics",
        "logstate": "LoggingMagics",
        "logstop": "LoggingMagics",
        "ls": "Other",
        "lsmagic": "BasicMagics",
        "macro": "ExecutionMagics",
        "magic": "BasicMagics",
        "mamba": "PackagingMagics",
        "matplotlib": "PylabMagics",
        "micromamba": "PackagingMagics",
        "mkdir": "Other",
        "more": "KernelMagics",
        "notebook": "BasicMagics",
        "page": "BasicMagics",
        "pastebin": "CodeMagics",
        "pdb": "ExecutionMagics",
        "pdef": "NamespaceMagics",
        "pdoc": "NamespaceMagics",
        "pfile": "NamespaceMagics",
        "pinfo": "NamespaceMagics",
        "pinfo2": "NamespaceMagics",
        "pip": "PackagingMagics",
        "popd": "OSMagics",
        "pprint": "BasicMagics",
        "precision": "BasicMagics",
        "prun": "ExecutionMagics",
        "psearch": "NamespaceMagics",
        "psource": "NamespaceMagics",
        "pushd": "OSMagics",
        "pwd": "OSMagics",
        "pycat": "OSMagics",
        "pylab": "PylabMagics",
        "qtconsole": "KernelMagics",
        "quickref": "BasicMagics",
        "recall": "HistoryMagics",
        "rehashx": "OSMagics",
        "reload_ext": "ExtensionMagics",
        "ren": "Other",
        "rep": "Other",
        "rerun": "HistoryMagics",
        "reset": "NamespaceMagics",
        "reset_selective": "NamespaceMagics",
        "rmdir": "Other",
        "run": "ExecutionMagics",
        "save": "CodeMagics",
        "sc": "OSMagics",
        "set_env": "OSMagics",
        "store": "StoreMagics",
        "sx": "OSMagics",
        "system": "OSMagics",
        "tb": "ExecutionMagics",
        "time": "ExecutionMagics",
        "timeit": "ExecutionMagics",
        "unalias": "OSMagics",
        "unload_ext": "ExtensionMagics",
        "uv": "PackagingMagics",
        "who": "NamespaceMagics",
        "who_ls": "NamespaceMagics",
        "whos": "NamespaceMagics",
        "xdel": "NamespaceMagics",
        "xmode": "BasicMagics"
       }
      },
      "text/plain": [
       "Available line magics:\n",
       "%alias  %alias_magic  %autoawait  %autocall  %automagic  %autosave  %bookmark  %cd  %clear  %cls  %code_wrap  %colors  %conda  %config  %connect_info  %copy  %ddir  %debug  %dhist  %dirs  %doctest_mode  %echo  %ed  %edit  %env  %gui  %hist  %history  %killbgscripts  %ldir  %less  %load  %load_ext  %loadpy  %logoff  %logon  %logstart  %logstate  %logstop  %ls  %lsmagic  %macro  %magic  %mamba  %matplotlib  %micromamba  %mkdir  %more  %notebook  %page  %pastebin  %pdb  %pdef  %pdoc  %pfile  %pinfo  %pinfo2  %pip  %popd  %pprint  %precision  %prun  %psearch  %psource  %pushd  %pwd  %pycat  %pylab  %qtconsole  %quickref  %recall  %rehashx  %reload_ext  %ren  %rep  %rerun  %reset  %reset_selective  %rmdir  %run  %save  %sc  %set_env  %store  %sx  %system  %tb  %time  %timeit  %unalias  %unload_ext  %uv  %who  %who_ls  %whos  %xdel  %xmode\n",
       "\n",
       "Available cell magics:\n",
       "%%!  %%HTML  %%SVG  %%bash  %%capture  %%cmd  %%code_wrap  %%debug  %%file  %%html  %%javascript  %%js  %%latex  %%markdown  %%perl  %%prun  %%pypy  %%python  %%python2  %%python3  %%ruby  %%script  %%sh  %%svg  %%sx  %%system  %%time  %%timeit  %%writefile\n",
       "\n",
       "Automagic is ON, % prefix IS NOT needed for line magics."
      ]
     },
     "execution_count": 59,
     "metadata": {},
     "output_type": "execute_result"
    }
   ],
   "source": [
    "%lsmagic"
   ]
  },
  {
   "cell_type": "markdown",
   "id": "5f3aee34",
   "metadata": {},
   "source": [
    "%timeit sum(range(1_000)) を計測。"
   ]
  },
  {
   "cell_type": "code",
   "execution_count": 60,
   "id": "b295225f",
   "metadata": {},
   "outputs": [
    {
     "name": "stdout",
     "output_type": "stream",
     "text": [
      "26.7 μs ± 5.03 μs per loop (mean ± std. dev. of 7 runs, 10,000 loops each)\n"
     ]
    }
   ],
   "source": [
    "%timeit sum(range(1_000))"
   ]
  },
  {
   "cell_type": "markdown",
   "id": "503a1eef",
   "metadata": {},
   "source": [
    "%run hello.py で自作スクリプトを実行。"
   ]
  },
  {
   "cell_type": "code",
   "execution_count": 61,
   "id": "584da78f",
   "metadata": {},
   "outputs": [
    {
     "name": "stdout",
     "output_type": "stream",
     "text": [
      "Hello world.\n"
     ]
    }
   ],
   "source": [
    "%run hello.py "
   ]
  },
  {
   "cell_type": "markdown",
   "id": "739805d3",
   "metadata": {},
   "source": [
    "%prun で自作関数のプロファイルを取得。"
   ]
  },
  {
   "cell_type": "code",
   "execution_count": 62,
   "id": "4562fd1c",
   "metadata": {},
   "outputs": [],
   "source": [
    "def sample_func_1():\n",
    "    index_list = []\n",
    "    for i in range(1000000):\n",
    "        index_list.append(i)\n",
    "\n",
    "\n",
    "def sample_func_2():\n",
    "    index_list = []\n",
    "    for i in range(2000000):\n",
    "        index_list.append(i)\n",
    "\n",
    "\n",
    "def sample_func_3():\n",
    "    index_list = []\n",
    "    for i in range(6000000):\n",
    "        index_list.append(i)\n",
    "\n",
    "\n",
    "def sample_func_4():\n",
    "    sample_func_1()\n",
    "    sample_func_2()\n",
    "    sample_func_3()\n"
   ]
  },
  {
   "cell_type": "code",
   "execution_count": 63,
   "id": "6d3dfa9a",
   "metadata": {},
   "outputs": [
    {
     "name": "stdout",
     "output_type": "stream",
     "text": [
      " "
     ]
    },
    {
     "name": "stdout",
     "output_type": "stream",
     "text": [
      "         9000264 function calls (9000260 primitive calls) in 5.804 seconds\n",
      "\n",
      "   Ordered by: internal time\n",
      "\n",
      "   ncalls  tottime  percall  cumtime  percall filename:lineno(function)\n",
      "  9000000    2.679    0.000    2.679    0.000 {method 'append' of 'list' objects}\n",
      "        1    1.899    1.899    3.637    3.637 2123655570.py:13(sample_func_3)\n",
      "        1    0.661    0.661    1.249    1.249 2123655570.py:7(sample_func_2)\n",
      "        1    0.291    0.291    0.573    0.573 2123655570.py:1(sample_func_1)\n",
      "        1    0.211    0.211    5.670    5.670 2123655570.py:19(sample_func_4)\n",
      "        2    0.036    0.018    0.066    0.033 {built-in method select.select}\n",
      "        2    0.025    0.012    0.046    0.023 socket.py:623(send)\n",
      "        2    0.000    0.000    0.000    0.000 {method '__exit__' of 'sqlite3.Connection' objects}\n",
      "        1    0.000    0.000    0.000    0.000 {method 'disable' of '_lsprof.Profiler' objects}\n",
      "        3    0.000    0.000    0.000    0.000 attrsettr.py:66(_get_attr_opt)\n",
      "        3    0.000    0.000    0.000    0.000 attrsettr.py:43(__getattr__)\n",
      "    33/29    0.000    0.000    0.000    0.000 {built-in method builtins.isinstance}\n",
      "        1    0.000    0.000    0.000    0.000 {built-in method _thread.allocate_lock}\n",
      "        2    0.000    0.000    0.067    0.033 selectors.py:319(select)\n",
      "        3    0.000    0.000    0.000    0.000 enum.py:1531(__or__)\n",
      "        1    0.000    0.000    0.000    0.000 socket.py:771(recv_multipart)\n",
      "        1    0.000    0.000    0.000    0.000 base_events.py:1894(_run_once)\n",
      "        5    0.000    0.000    0.000    0.000 enum.py:1541(__and__)\n",
      "       12    0.000    0.000    0.000    0.000 enum.py:713(__call__)\n",
      "        2    0.000    0.000    0.067    0.033 selectors.py:313(_select)\n",
      "        1    0.000    0.000    0.000    0.000 asyncio.py:231(add_callback)\n",
      "        2    0.000    0.000    0.000    0.000 zmqstream.py:653(_rebuild_io_state)\n",
      "        2    0.000    0.000    0.000    0.000 zmqstream.py:676(_update_handler)\n",
      "        3    0.000    0.000    0.000    0.000 typing.py:378(inner)\n",
      "        2    0.000    0.000    0.000    0.000 queue.py:97(empty)\n",
      "        2    0.000    0.000    0.000    0.000 typing.py:1446(__subclasscheck__)\n",
      "        2    0.000    0.000    0.000    0.000 traitlets.py:3631(set)\n",
      "        1    0.000    0.000    0.000    0.000 traitlets.py:1527(_notify_observers)\n",
      "        2    0.000    0.000    0.000    0.000 typing.py:1175(__instancecheck__)\n",
      "        2    0.000    0.000    0.000    0.000 iostream.py:718(_rotate_buffers)\n",
      "        1    0.000    0.000    5.670    5.670 {built-in method builtins.exec}\n",
      "        3    0.000    0.000    0.000    0.000 events.py:82(_run)\n",
      "       12    0.000    0.000    0.000    0.000 enum.py:1116(__new__)\n",
      "        1    0.000    0.000    0.000    0.000 contextlib.py:141(__exit__)\n",
      "        8    0.000    0.000    0.000    0.000 {built-in method builtins.hasattr}\n",
      "        1    0.000    0.000    0.000    0.000 base_events.py:811(_call_soon)\n",
      "        1    0.000    0.000    0.000    0.000 zmqstream.py:573(_handle_events)\n",
      "        3    0.000    0.000    0.000    0.000 <frozen importlib._bootstrap>:1390(_handle_fromlist)\n",
      "        2    0.000    0.000    0.000    0.000 traitlets.py:689(set)\n",
      "        2    0.000    0.000    0.000    0.000 {built-in method _heapq.heappop}\n",
      "        2    0.000    0.000    0.000    0.000 traitlets.py:718(_validate)\n",
      "        3    0.000    0.000    0.000    0.000 ioloop.py:750(_run_callback)\n",
      "        2    0.000    0.000    0.000    0.000 iostream.py:616(_flush)\n",
      "        1    0.000    0.000    0.000    0.000 zmqstream.py:614(_handle_recv)\n",
      "        2    0.000    0.000    0.000    0.000 traitlets.py:3474(validate)\n",
      "        2    0.000    0.000    0.000    0.000 {built-in method _abc._abc_subclasscheck}\n",
      "        2    0.000    0.000    0.000    0.000 typing.py:1239(__hash__)\n",
      "        4    0.000    0.000    0.000    0.000 base_events.py:731(time)\n",
      "        2    0.000    0.000    0.000    0.000 traitlets.py:727(_cross_validate)\n",
      "        3    0.000    0.000    0.000    0.000 {method 'run' of '_contextvars.Context' objects}\n",
      "        2    0.000    0.000    0.000    0.000 iostream.py:710(_flush_buffers)\n",
      "        5    0.000    0.000    0.000    0.000 {built-in method builtins.max}\n",
      "        1    0.000    0.000    0.000    0.000 events.py:32(__init__)\n",
      "        1    0.000    0.000    0.000    0.000 traitlets.py:1512(_notify_trait)\n",
      "        2    0.000    0.000    0.000    0.000 {built-in method builtins.issubclass}\n",
      "       10    0.000    0.000    0.000    0.000 {built-in method builtins.len}\n",
      "        2    0.000    0.000    0.000    0.000 traitlets.py:708(__set__)\n",
      "        2    0.000    0.000    0.000    0.000 traitlets.py:3624(validate_elements)\n",
      "        3    0.000    0.000    0.000    0.000 {built-in method builtins.getattr}\n",
      "        2    0.000    0.000    0.000    0.000 zmqstream.py:532(sending)\n",
      "        1    0.000    0.000    0.000    0.000 base_events.py:782(call_soon)\n",
      "        2    0.000    0.000    0.000    0.000 queue.py:209(_qsize)\n",
      "        2    0.000    0.000    0.000    0.000 <frozen abc>:121(__subclasscheck__)\n",
      "        1    0.000    0.000    0.000    0.000 {built-in method builtins.next}\n",
      "        1    0.000    0.000    0.000    0.000 iostream.py:157(_handle_event)\n",
      "        1    0.000    0.000    0.000    0.000 threading.py:299(__enter__)\n",
      "        1    0.000    0.000    0.000    0.000 history.py:1016(_writeout_output_cache)\n",
      "        1    0.000    0.000    0.000    0.000 traitlets.py:1523(notify_change)\n",
      "        3    0.000    0.000    0.000    0.000 {method 'upper' of 'str' objects}\n",
      "        1    0.000    0.000    5.670    5.670 <string>:1(<module>)\n",
      "        1    0.000    0.000    0.000    0.000 zmqstream.py:546(_run_callback)\n",
      "        1    0.000    0.000    0.000    0.000 traitlets.py:676(__get__)\n",
      "        2    0.000    0.000    0.000    0.000 traitlets.py:2304(validate)\n",
      "        4    0.000    0.000    0.000    0.000 {method 'append' of 'collections.deque' objects}\n",
      "        4    0.000    0.000    0.000    0.000 {method '__exit__' of '_thread.lock' objects}\n",
      "        4    0.000    0.000    0.000    0.000 {built-in method time.monotonic}\n",
      "        2    0.000    0.000    0.000    0.000 {built-in method builtins.min}\n",
      "        4    0.000    0.000    0.000    0.000 {method 'get' of 'dict' objects}\n",
      "        1    0.000    0.000    0.000    0.000 events.py:123(__lt__)\n",
      "        1    0.000    0.000    0.000    0.000 threading.py:314(_is_owned)\n",
      "        1    0.000    0.000    0.000    0.000 zmqstream.py:684(<lambda>)\n",
      "       13    0.000    0.000    0.000    0.000 typing.py:2119(cast)\n",
      "        1    0.000    0.000    0.000    0.000 {built-in method _asyncio.get_running_loop}\n",
      "        2    0.000    0.000    0.000    0.000 traitlets.py:3486(validate_elements)\n",
      "        2    0.000    0.000    0.000    0.000 {method 'acquire' of '_thread.lock' objects}\n",
      "        1    0.000    0.000    0.000    0.000 {built-in method _contextvars.copy_context}\n",
      "        3    0.000    0.000    0.000    0.000 {method 'popleft' of 'collections.deque' objects}\n",
      "        2    0.000    0.000    0.000    0.000 selector_events.py:746(_process_events)\n",
      "        3    0.000    0.000    0.000    0.000 zmqstream.py:528(receiving)\n",
      "        1    0.000    0.000    0.000    0.000 {method '__enter__' of '_thread.lock' objects}\n",
      "        1    0.000    0.000    0.000    0.000 threading.py:308(_release_save)\n",
      "        1    0.000    0.000    0.000    0.000 traitlets.py:629(get)\n",
      "        2    0.000    0.000    0.000    0.000 {method 'items' of 'dict' objects}\n",
      "        2    0.000    0.000    0.000    0.000 {built-in method builtins.hash}\n",
      "        1    0.000    0.000    0.000    0.000 base_events.py:537(_check_closed)\n",
      "        2    0.000    0.000    0.000    0.000 {method 'extend' of 'list' objects}\n",
      "        1    0.000    0.000    0.000    0.000 history.py:1065(hold)\n",
      "        2    0.000    0.000    0.000    0.000 {method '__exit__' of '_thread.RLock' objects}\n",
      "        1    0.000    0.000    0.000    0.000 {method 'release' of '_thread.lock' objects}\n",
      "        1    0.000    0.000    0.000    0.000 base_events.py:1989(get_debug)"
     ]
    }
   ],
   "source": [
    "%%prun\n",
    "sample_func_4()"
   ]
  },
  {
   "cell_type": "markdown",
   "id": "1c573f32",
   "metadata": {},
   "source": [
    "Python リスト [1,2,3] を作り type() を確認。"
   ]
  },
  {
   "cell_type": "code",
   "execution_count": 64,
   "id": "cef950e9",
   "metadata": {},
   "outputs": [
    {
     "data": {
      "text/plain": [
       "list"
      ]
     },
     "execution_count": 64,
     "metadata": {},
     "output_type": "execute_result"
    }
   ],
   "source": [
    "A=[1,2,3]\n",
    "type(A)"
   ]
  },
  {
   "cell_type": "markdown",
   "id": "711cf516",
   "metadata": {},
   "source": [
    "同じ要素で np.array を作り型を比較。"
   ]
  },
  {
   "cell_type": "code",
   "execution_count": 65,
   "id": "cd344c9f",
   "metadata": {},
   "outputs": [
    {
     "data": {
      "text/plain": [
       "numpy.ndarray"
      ]
     },
     "execution_count": 65,
     "metadata": {},
     "output_type": "execute_result"
    }
   ],
   "source": [
    "B=np.array(A)\n",
    "type(B)"
   ]
  },
  {
   "cell_type": "markdown",
   "id": "bac43200",
   "metadata": {},
   "source": [
    "arr = np.arange(10) の shape, dtype, ndim を表示。"
   ]
  },
  {
   "cell_type": "code",
   "execution_count": 66,
   "id": "89d3b07e",
   "metadata": {},
   "outputs": [
    {
     "name": "stdout",
     "output_type": "stream",
     "text": [
      "[0 1 2 3 4 5 6 7 8 9]\n",
      "(10,)\n",
      "int64\n",
      "1\n"
     ]
    }
   ],
   "source": [
    "arr=np.arange(10)\n",
    "print(arr)\n",
    "print(arr.shape)\n",
    "print(arr.dtype)\n",
    "print(arr.ndim)"
   ]
  },
  {
   "cell_type": "markdown",
   "id": "53d4df38",
   "metadata": {},
   "source": [
    "14. `np.zeros((10,10))` を生成。\n"
   ]
  },
  {
   "cell_type": "code",
   "execution_count": 67,
   "id": "a086fa4e",
   "metadata": {},
   "outputs": [
    {
     "data": {
      "text/plain": [
       "array([[0., 0., 0., 0., 0., 0., 0., 0., 0., 0.],\n",
       "       [0., 0., 0., 0., 0., 0., 0., 0., 0., 0.],\n",
       "       [0., 0., 0., 0., 0., 0., 0., 0., 0., 0.],\n",
       "       [0., 0., 0., 0., 0., 0., 0., 0., 0., 0.],\n",
       "       [0., 0., 0., 0., 0., 0., 0., 0., 0., 0.],\n",
       "       [0., 0., 0., 0., 0., 0., 0., 0., 0., 0.],\n",
       "       [0., 0., 0., 0., 0., 0., 0., 0., 0., 0.],\n",
       "       [0., 0., 0., 0., 0., 0., 0., 0., 0., 0.],\n",
       "       [0., 0., 0., 0., 0., 0., 0., 0., 0., 0.],\n",
       "       [0., 0., 0., 0., 0., 0., 0., 0., 0., 0.]])"
      ]
     },
     "execution_count": 67,
     "metadata": {},
     "output_type": "execute_result"
    }
   ],
   "source": [
    "z=np.zeros((10,10))\n",
    "z"
   ]
  },
  {
   "cell_type": "markdown",
   "id": "0fd9f292",
   "metadata": {},
   "source": [
    "arr.reshape(2,5) で形状変更。"
   ]
  },
  {
   "cell_type": "code",
   "execution_count": 68,
   "id": "ad892fff",
   "metadata": {},
   "outputs": [
    {
     "data": {
      "text/plain": [
       "array([[0, 1, 2, 3, 4],\n",
       "       [5, 6, 7, 8, 9]])"
      ]
     },
     "execution_count": 68,
     "metadata": {},
     "output_type": "execute_result"
    }
   ],
   "source": [
    "arr_reshape=arr.reshape(2,5)\n",
    "arr_reshape"
   ]
  },
  {
   "cell_type": "markdown",
   "id": "88caad01",
   "metadata": {},
   "source": [
    "np.linspace(0,1,5) を生成。"
   ]
  },
  {
   "cell_type": "code",
   "execution_count": 69,
   "id": "ea61361b",
   "metadata": {},
   "outputs": [
    {
     "name": "stdout",
     "output_type": "stream",
     "text": [
      "\u001b[31mSignature:\u001b[39m      \n",
      "np.linspace(\n",
      "    start,\n",
      "    stop,\n",
      "    num=\u001b[32m50\u001b[39m,\n",
      "    endpoint=\u001b[38;5;28;01mTrue\u001b[39;00m,\n",
      "    retstep=\u001b[38;5;28;01mFalse\u001b[39;00m,\n",
      "    dtype=\u001b[38;5;28;01mNone\u001b[39;00m,\n",
      "    axis=\u001b[32m0\u001b[39m,\n",
      "    *,\n",
      "    device=\u001b[38;5;28;01mNone\u001b[39;00m,\n",
      ")\n",
      "\u001b[31mCall signature:\u001b[39m  np.linspace(*args, **kwargs)\n",
      "\u001b[31mType:\u001b[39m            _ArrayFunctionDispatcher\n",
      "\u001b[31mString form:\u001b[39m     <function linspace at 0x000001BD67223A60>\n",
      "\u001b[31mFile:\u001b[39m            e:\\python\\python-data-science-handbook\\venv\\lib\\site-packages\\numpy\\_core\\function_base.py\n",
      "\u001b[31mDocstring:\u001b[39m      \n",
      "Return evenly spaced numbers over a specified interval.\n",
      "\n",
      "Returns `num` evenly spaced samples, calculated over the\n",
      "interval [`start`, `stop`].\n",
      "\n",
      "The endpoint of the interval can optionally be excluded.\n",
      "\n",
      ".. versionchanged:: 1.20.0\n",
      "    Values are rounded towards ``-inf`` instead of ``0`` when an\n",
      "    integer ``dtype`` is specified. The old behavior can\n",
      "    still be obtained with ``np.linspace(start, stop, num).astype(int)``\n",
      "\n",
      "Parameters\n",
      "----------\n",
      "start : array_like\n",
      "    The starting value of the sequence.\n",
      "stop : array_like\n",
      "    The end value of the sequence, unless `endpoint` is set to False.\n",
      "    In that case, the sequence consists of all but the last of ``num + 1``\n",
      "    evenly spaced samples, so that `stop` is excluded.  Note that the step\n",
      "    size changes when `endpoint` is False.\n",
      "num : int, optional\n",
      "    Number of samples to generate. Default is 50. Must be non-negative.\n",
      "endpoint : bool, optional\n",
      "    If True, `stop` is the last sample. Otherwise, it is not included.\n",
      "    Default is True.\n",
      "retstep : bool, optional\n",
      "    If True, return (`samples`, `step`), where `step` is the spacing\n",
      "    between samples.\n",
      "dtype : dtype, optional\n",
      "    The type of the output array.  If `dtype` is not given, the data type\n",
      "    is inferred from `start` and `stop`. The inferred dtype will never be\n",
      "    an integer; `float` is chosen even if the arguments would produce an\n",
      "    array of integers.\n",
      "axis : int, optional\n",
      "    The axis in the result to store the samples.  Relevant only if start\n",
      "    or stop are array-like.  By default (0), the samples will be along a\n",
      "    new axis inserted at the beginning. Use -1 to get an axis at the end.\n",
      "device : str, optional\n",
      "    The device on which to place the created array. Default: None.\n",
      "    For Array-API interoperability only, so must be ``\"cpu\"`` if passed.\n",
      "\n",
      "    .. versionadded:: 2.0.0\n",
      "\n",
      "Returns\n",
      "-------\n",
      "samples : ndarray\n",
      "    There are `num` equally spaced samples in the closed interval\n",
      "    ``[start, stop]`` or the half-open interval ``[start, stop)``\n",
      "    (depending on whether `endpoint` is True or False).\n",
      "step : float, optional\n",
      "    Only returned if `retstep` is True\n",
      "\n",
      "    Size of spacing between samples.\n",
      "\n",
      "\n",
      "See Also\n",
      "--------\n",
      "arange : Similar to `linspace`, but uses a step size (instead of the\n",
      "         number of samples).\n",
      "geomspace : Similar to `linspace`, but with numbers spaced evenly on a log\n",
      "            scale (a geometric progression).\n",
      "logspace : Similar to `geomspace`, but with the end points specified as\n",
      "           logarithms.\n",
      ":ref:`how-to-partition`\n",
      "\n",
      "Examples\n",
      "--------\n",
      ">>> import numpy as np\n",
      ">>> np.linspace(2.0, 3.0, num=5)\n",
      "array([2.  , 2.25, 2.5 , 2.75, 3.  ])\n",
      ">>> np.linspace(2.0, 3.0, num=5, endpoint=False)\n",
      "array([2. ,  2.2,  2.4,  2.6,  2.8])\n",
      ">>> np.linspace(2.0, 3.0, num=5, retstep=True)\n",
      "(array([2.  ,  2.25,  2.5 ,  2.75,  3.  ]), 0.25)\n",
      "\n",
      "Graphical illustration:\n",
      "\n",
      ">>> import matplotlib.pyplot as plt\n",
      ">>> N = 8\n",
      ">>> y = np.zeros(N)\n",
      ">>> x1 = np.linspace(0, 10, N, endpoint=True)\n",
      ">>> x2 = np.linspace(0, 10, N, endpoint=False)\n",
      ">>> plt.plot(x1, y, 'o')\n",
      "[<matplotlib.lines.Line2D object at 0x...>]\n",
      ">>> plt.plot(x2, y + 0.5, 'o')\n",
      "[<matplotlib.lines.Line2D object at 0x...>]\n",
      ">>> plt.ylim([-0.5, 1])\n",
      "(-0.5, 1)\n",
      ">>> plt.show()\n",
      "\u001b[31mClass docstring:\u001b[39m\n",
      "Class to wrap functions with checks for __array_function__ overrides.\n",
      "\n",
      "All arguments are required, and can only be passed by position.\n",
      "\n",
      "Parameters\n",
      "----------\n",
      "dispatcher : function or None\n",
      "    The dispatcher function that returns a single sequence-like object\n",
      "    of all arguments relevant.  It must have the same signature (except\n",
      "    the default values) as the actual implementation.\n",
      "    If ``None``, this is a ``like=`` dispatcher and the\n",
      "    ``_ArrayFunctionDispatcher`` must be called with ``like`` as the\n",
      "    first (additional and positional) argument.\n",
      "implementation : function\n",
      "    Function that implements the operation on NumPy arrays without\n",
      "    overrides.  Arguments passed calling the ``_ArrayFunctionDispatcher``\n",
      "    will be forwarded to this (and the ``dispatcher``) as if using\n",
      "    ``*args, **kwargs``.\n",
      "\n",
      "Attributes\n",
      "----------\n",
      "_implementation : function\n",
      "    The original implementation passed in."
     ]
    }
   ],
   "source": [
    "np.linspace?"
   ]
  },
  {
   "cell_type": "code",
   "execution_count": 70,
   "id": "cfec8b77",
   "metadata": {},
   "outputs": [
    {
     "data": {
      "text/plain": [
       "array([0.  , 0.25, 0.5 , 0.75, 1.  ])"
      ]
     },
     "execution_count": 70,
     "metadata": {},
     "output_type": "execute_result"
    }
   ],
   "source": [
    "B=np.linspace(0,1,5)\n",
    "B"
   ]
  },
  {
   "cell_type": "markdown",
   "id": "7e546259",
   "metadata": {},
   "source": [
    "for ループで 1‒1e7 合計を計測。"
   ]
  },
  {
   "cell_type": "code",
   "execution_count": 71,
   "id": "9fa86a79",
   "metadata": {},
   "outputs": [
    {
     "name": "stdout",
     "output_type": "stream",
     "text": [
      "824 ms ± 40.8 ms per loop (mean ± std. dev. of 7 runs, 1 loop each)\n"
     ]
    }
   ],
   "source": [
    "%%timeit\n",
    "\n",
    "c=0\n",
    "for i in range(1,10**7+1):\n",
    "    c+=i\n",
    "c"
   ]
  },
  {
   "cell_type": "markdown",
   "id": "7776ff1b",
   "metadata": {},
   "source": [
    "同じ計算を np.sum で行い速度比較。"
   ]
  },
  {
   "cell_type": "code",
   "execution_count": 72,
   "id": "53c1eb23",
   "metadata": {},
   "outputs": [
    {
     "name": "stdout",
     "output_type": "stream",
     "text": [
      "58.2 ms ± 2.22 ms per loop (mean ± std. dev. of 7 runs, 10 loops each)\n"
     ]
    }
   ],
   "source": [
    "%%timeit\n",
    "npsum=np.sum(np.arange(1,10**7+1))\n",
    "npsum"
   ]
  },
  {
   "cell_type": "markdown",
   "id": "e50cce21",
   "metadata": {},
   "source": [
    "dtype='float32' の乱数 100 万個を生成。"
   ]
  },
  {
   "cell_type": "code",
   "execution_count": 73,
   "id": "7e156a9e",
   "metadata": {},
   "outputs": [],
   "source": [
    "import random"
   ]
  },
  {
   "cell_type": "code",
   "execution_count": 74,
   "id": "a6d7320f",
   "metadata": {},
   "outputs": [
    {
     "name": "stdout",
     "output_type": "stream",
     "text": [
      "110 ms ± 5.36 ms per loop (mean ± std. dev. of 7 runs, 10 loops each)\n"
     ]
    }
   ],
   "source": [
    "%%timeit\n",
    "for _ in range(1000000):\n",
    "    random.random()\n",
    "\n",
    "type(random.random())"
   ]
  },
  {
   "cell_type": "markdown",
   "id": "6b2c5793",
   "metadata": {},
   "source": [
    "dtype='float32' の乱数 100 万個を生成。"
   ]
  },
  {
   "cell_type": "code",
   "execution_count": 75,
   "id": "a59e9e67",
   "metadata": {},
   "outputs": [
    {
     "data": {
      "text/plain": [
       "array([0.63005894, 0.807874  , 0.94045293, ..., 0.6425384 , 0.21247151,\n",
       "       0.10726532], shape=(1000000,), dtype=float32)"
      ]
     },
     "execution_count": 75,
     "metadata": {},
     "output_type": "execute_result"
    }
   ],
   "source": [
    "np.random.rand(1000000).astype(np.float32)"
   ]
  },
  {
   "cell_type": "markdown",
   "id": "cbbff312",
   "metadata": {},
   "source": [
    "コピーとビューの挙動を確認。"
   ]
  },
  {
   "cell_type": "code",
   "execution_count": 76,
   "id": "13ebdeee",
   "metadata": {},
   "outputs": [
    {
     "name": "stdout",
     "output_type": "stream",
     "text": [
      "元の配列: [1 2 3 4 5]\n",
      "コピーされた配列: [1 2 3 4 5]\n",
      "コピーを変更後: [99  2  3  4  5]\n",
      "元の配列 (変化なし): [1 2 3 4 5]\n"
     ]
    }
   ],
   "source": [
    "# 元の配列\n",
    "original_array = np.array([1, 2, 3, 4, 5])\n",
    "print(\"元の配列:\", original_array)\n",
    "\n",
    "# コピーを作成\n",
    "copied_array = original_array.copy()\n",
    "print(\"コピーされた配列:\", copied_array)\n",
    "\n",
    "# コピーを変更\n",
    "copied_array[0] = 99\n",
    "print(\"コピーを変更後:\", copied_array)\n",
    "print(\"元の配列 (変化なし):\", original_array)\n"
   ]
  },
  {
   "cell_type": "code",
   "execution_count": 77,
   "id": "228424cd",
   "metadata": {},
   "outputs": [
    {
     "data": {
      "text/plain": [
       "array([ 5,  6,  7,  8,  9, 10, 11, 12, 13, 14])"
      ]
     },
     "execution_count": 77,
     "metadata": {},
     "output_type": "execute_result"
    }
   ],
   "source": [
    "zeroto99=np.arange(100)\n",
    "zeroto99[5:15]"
   ]
  },
  {
   "cell_type": "code",
   "execution_count": 78,
   "id": "981c5813",
   "metadata": {},
   "outputs": [
    {
     "data": {
      "text/plain": [
       "array([[0.05049423, 0.5949439 , 0.80833804, 0.45661858, 0.24905663,\n",
       "        0.52318768, 0.40836922, 0.78370966, 0.05676933, 0.58152773],\n",
       "       [0.47541216, 0.72143503, 0.04419478, 0.74588178, 0.2712309 ,\n",
       "        0.00974726, 0.11024996, 0.78368817, 0.14384787, 0.92384605],\n",
       "       [0.60676192, 0.55972371, 0.86989613, 0.93247547, 0.34970891,\n",
       "        0.09989197, 0.494289  , 0.56309355, 0.02058699, 0.28428558],\n",
       "       [0.05861863, 0.59922384, 0.77049597, 0.81109628, 0.40391647,\n",
       "        0.94319568, 0.97610526, 0.91143138, 0.00246639, 0.92963163],\n",
       "       [0.33771186, 0.32283734, 0.67718371, 0.05298596, 0.69871127,\n",
       "        0.18687927, 0.74888247, 0.0094489 , 0.8779821 , 0.05377911],\n",
       "       [0.17508651, 0.34174062, 0.68724171, 0.32696176, 0.07523469,\n",
       "        0.75789797, 0.49585577, 0.83320127, 0.7926772 , 0.93614794],\n",
       "       [0.62514192, 0.49413563, 0.5327439 , 0.71079472, 0.16744429,\n",
       "        0.33584731, 0.72500401, 0.87773502, 0.94704749, 0.26662397],\n",
       "       [0.47599285, 0.92070417, 0.34719053, 0.20754456, 0.79689762,\n",
       "        0.33451333, 0.33065646, 0.47371027, 0.81617543, 0.77980443],\n",
       "       [0.99100691, 0.51669097, 0.58963043, 0.29862446, 0.69973044,\n",
       "        0.24527743, 0.75804166, 0.2676674 , 0.01903164, 0.4368587 ],\n",
       "       [0.67928394, 0.19555488, 0.80004248, 0.57560693, 0.15739093,\n",
       "        0.77669661, 0.27771613, 0.25497851, 0.38557324, 0.68344223]])"
      ]
     },
     "execution_count": 78,
     "metadata": {},
     "output_type": "execute_result"
    }
   ],
   "source": [
    "random_matrix = np.random.rand(10, 10)\n",
    "random_matrix"
   ]
  },
  {
   "cell_type": "markdown",
   "id": "6a66207f",
   "metadata": {},
   "source": [
    "10×10 配列の 1 行目を取得。"
   ]
  },
  {
   "cell_type": "code",
   "execution_count": 79,
   "id": "41889777",
   "metadata": {},
   "outputs": [
    {
     "data": {
      "text/plain": [
       "array([0.05049423, 0.5949439 , 0.80833804, 0.45661858, 0.24905663,\n",
       "       0.52318768, 0.40836922, 0.78370966, 0.05676933, 0.58152773])"
      ]
     },
     "execution_count": 79,
     "metadata": {},
     "output_type": "execute_result"
    }
   ],
   "source": [
    "random_matrix[0]"
   ]
  },
  {
   "cell_type": "markdown",
   "id": "8740fd97",
   "metadata": {},
   "source": [
    "同配列の 1 列目を取得。"
   ]
  },
  {
   "cell_type": "code",
   "execution_count": 80,
   "id": "4afe6094",
   "metadata": {},
   "outputs": [
    {
     "data": {
      "text/plain": [
       "array([0.05049423, 0.47541216, 0.60676192, 0.05861863, 0.33771186,\n",
       "       0.17508651, 0.62514192, 0.47599285, 0.99100691, 0.67928394])"
      ]
     },
     "execution_count": 80,
     "metadata": {},
     "output_type": "execute_result"
    }
   ],
   "source": [
    "random_matrix[:,0]"
   ]
  },
  {
   "cell_type": "markdown",
   "id": "f71c1dfa",
   "metadata": {},
   "source": [
    "3×3 のサブ配列をスライス取得。"
   ]
  },
  {
   "cell_type": "code",
   "execution_count": 81,
   "id": "6456497a",
   "metadata": {},
   "outputs": [
    {
     "data": {
      "text/plain": [
       "array([[0.05049423, 0.5949439 , 0.80833804],\n",
       "       [0.47541216, 0.72143503, 0.04419478],\n",
       "       [0.60676192, 0.55972371, 0.86989613]])"
      ]
     },
     "execution_count": 81,
     "metadata": {},
     "output_type": "execute_result"
    }
   ],
   "source": [
    "random_matrix[:3,:3]"
   ]
  },
  {
   "cell_type": "markdown",
   "id": "5ec853db",
   "metadata": {},
   "source": [
    "ビューを変更して元配列も変わることを確認。"
   ]
  },
  {
   "cell_type": "code",
   "execution_count": 82,
   "id": "89742729",
   "metadata": {},
   "outputs": [
    {
     "data": {
      "text/plain": [
       "array([0.        , 0.5949439 , 0.80833804, 0.45661858, 0.24905663,\n",
       "       0.52318768, 0.40836922, 0.78370966, 0.05676933, 0.58152773])"
      ]
     },
     "execution_count": 82,
     "metadata": {},
     "output_type": "execute_result"
    }
   ],
   "source": [
    "c=random_matrix\n",
    "c[0,0]=0\n",
    "random_matrix[0]"
   ]
  },
  {
   "cell_type": "markdown",
   "id": "db6aad04",
   "metadata": {},
   "source": [
    "(2,3) 要素を書き換え。"
   ]
  },
  {
   "cell_type": "code",
   "execution_count": 83,
   "id": "e1fd2e4c",
   "metadata": {},
   "outputs": [
    {
     "data": {
      "text/plain": [
       "array([[0.        , 0.5949439 , 0.80833804],\n",
       "       [0.47541216, 0.72143503, 0.04419478],\n",
       "       [0.60676192, 0.55972371, 0.        ]])"
      ]
     },
     "execution_count": 83,
     "metadata": {},
     "output_type": "execute_result"
    }
   ],
   "source": [
    "c[2,2]=0\n",
    "c[:3,:3]"
   ]
  },
  {
   "cell_type": "markdown",
   "id": "96884317",
   "metadata": {},
   "source": [
    "arr[::-1] で逆順。"
   ]
  },
  {
   "cell_type": "code",
   "execution_count": 84,
   "id": "f207baef",
   "metadata": {},
   "outputs": [],
   "source": [
    "original=np.array([\n",
    "     [1,2,3,4,5,6,7,8,9,10],\n",
    "     [11,12,13,14,15,16,17,18,19,20],\n",
    "     [21,22,23,24,25,26,27,28,29,30],\n",
    "     [31,32,33,34,35,36,37,38,39,40]\n",
    "     ])"
   ]
  },
  {
   "cell_type": "code",
   "execution_count": 85,
   "id": "b6226597",
   "metadata": {},
   "outputs": [],
   "source": [
    "arr=original.copy()"
   ]
  },
  {
   "cell_type": "code",
   "execution_count": 86,
   "id": "044b00f2",
   "metadata": {},
   "outputs": [
    {
     "data": {
      "text/plain": [
       "array([[31, 32, 33, 34, 35, 36, 37, 38, 39, 40],\n",
       "       [21, 22, 23, 24, 25, 26, 27, 28, 29, 30],\n",
       "       [11, 12, 13, 14, 15, 16, 17, 18, 19, 20],\n",
       "       [ 1,  2,  3,  4,  5,  6,  7,  8,  9, 10]])"
      ]
     },
     "execution_count": 86,
     "metadata": {},
     "output_type": "execute_result"
    }
   ],
   "source": [
    "arr[::-1]"
   ]
  },
  {
   "cell_type": "markdown",
   "id": "326b0d9e",
   "metadata": {},
   "source": [
    "arr[:,::2] で偶数列抽出。"
   ]
  },
  {
   "cell_type": "code",
   "execution_count": 87,
   "id": "3fe651d5",
   "metadata": {},
   "outputs": [
    {
     "data": {
      "text/plain": [
       "array([[ 1,  3,  5,  7,  9],\n",
       "       [11, 13, 15, 17, 19],\n",
       "       [21, 23, 25, 27, 29],\n",
       "       [31, 33, 35, 37, 39]])"
      ]
     },
     "execution_count": 87,
     "metadata": {},
     "output_type": "execute_result"
    }
   ],
   "source": [
    "\n",
    "arr[:,::2]"
   ]
  },
  {
   "cell_type": "markdown",
   "id": "e17d4050",
   "metadata": {},
   "source": [
    "3 の倍数だけ抽出。"
   ]
  },
  {
   "cell_type": "code",
   "execution_count": 88,
   "id": "1222fca9",
   "metadata": {},
   "outputs": [
    {
     "data": {
      "text/plain": [
       "array([ 3,  6,  9, 12, 15, 18, 21, 24, 27, 30, 33, 36, 39])"
      ]
     },
     "execution_count": 88,
     "metadata": {},
     "output_type": "execute_result"
    }
   ],
   "source": [
    "arr[arr%3==0]"
   ]
  },
  {
   "cell_type": "markdown",
   "id": "5d1e2aeb",
   "metadata": {},
   "source": [
    "奇数を ‑1 に置換。"
   ]
  },
  {
   "cell_type": "code",
   "execution_count": 89,
   "id": "eb6c6440",
   "metadata": {},
   "outputs": [
    {
     "data": {
      "text/plain": [
       "array([[-1,  2, -1,  4, -1,  6, -1,  8, -1, 10],\n",
       "       [-1, 12, -1, 14, -1, 16, -1, 18, -1, 20],\n",
       "       [-1, 22, -1, 24, -1, 26, -1, 28, -1, 30],\n",
       "       [-1, 32, -1, 34, -1, 36, -1, 38, -1, 40]])"
      ]
     },
     "execution_count": 89,
     "metadata": {},
     "output_type": "execute_result"
    }
   ],
   "source": [
    "arr[arr%2!=0]=-1\n",
    "arr"
   ]
  },
  {
   "cell_type": "code",
   "execution_count": 90,
   "id": "ad0d2057",
   "metadata": {},
   "outputs": [
    {
     "data": {
      "text/plain": [
       "array([[ 1,  2,  3,  4,  5,  6,  7,  8,  9, 10],\n",
       "       [11, 12, 13, 14, 15, 16, 17, 18, 19, 20],\n",
       "       [21, 22, 23, 24, 25, 26, 27, 28, 29, 30],\n",
       "       [31, 32, 33, 34, 35, 36, 37, 38, 39, 40]])"
      ]
     },
     "execution_count": 90,
     "metadata": {},
     "output_type": "execute_result"
    }
   ],
   "source": [
    "original"
   ]
  },
  {
   "cell_type": "markdown",
   "id": "e8534ef4",
   "metadata": {},
   "source": [
    "np.square(arr) を計算。"
   ]
  },
  {
   "cell_type": "code",
   "execution_count": 91,
   "id": "fe2776da",
   "metadata": {},
   "outputs": [
    {
     "data": {
      "text/plain": [
       "array([[   1,    4,    9,   16,   25,   36,   49,   64,   81,  100],\n",
       "       [ 121,  144,  169,  196,  225,  256,  289,  324,  361,  400],\n",
       "       [ 441,  484,  529,  576,  625,  676,  729,  784,  841,  900],\n",
       "       [ 961, 1024, 1089, 1156, 1225, 1296, 1369, 1444, 1521, 1600]])"
      ]
     },
     "execution_count": 91,
     "metadata": {},
     "output_type": "execute_result"
    }
   ],
   "source": [
    "np.square(original)"
   ]
  },
  {
   "cell_type": "markdown",
   "id": "ad4873db",
   "metadata": {},
   "source": [
    "np.sin, np.cos, np.tan を一括計算。"
   ]
  },
  {
   "cell_type": "code",
   "execution_count": 92,
   "id": "6c010d9a",
   "metadata": {},
   "outputs": [
    {
     "name": "stdout",
     "output_type": "stream",
     "text": [
      "0.7071067811865476\n",
      "0.7071067811865476\n",
      "0.9999999999999999\n"
     ]
    }
   ],
   "source": [
    "theta=np.pi*(45/180)\n",
    "theta\n",
    "print(np.sin(theta))\n",
    "print(np.cos(theta))\n",
    "print(np.tan(theta))"
   ]
  },
  {
   "cell_type": "markdown",
   "id": "873355f6",
   "metadata": {},
   "source": [
    "np.square(arr) を計算。"
   ]
  },
  {
   "cell_type": "code",
   "execution_count": 93,
   "id": "4d307163",
   "metadata": {},
   "outputs": [
    {
     "data": {
      "text/plain": [
       "array([[3.67879441e-01, 7.38905610e+00, 3.67879441e-01, 5.45981500e+01,\n",
       "        3.67879441e-01, 4.03428793e+02, 3.67879441e-01, 2.98095799e+03,\n",
       "        3.67879441e-01, 2.20264658e+04],\n",
       "       [3.67879441e-01, 1.62754791e+05, 3.67879441e-01, 1.20260428e+06,\n",
       "        3.67879441e-01, 8.88611052e+06, 3.67879441e-01, 6.56599691e+07,\n",
       "        3.67879441e-01, 4.85165195e+08],\n",
       "       [3.67879441e-01, 3.58491285e+09, 3.67879441e-01, 2.64891221e+10,\n",
       "        3.67879441e-01, 1.95729609e+11, 3.67879441e-01, 1.44625706e+12,\n",
       "        3.67879441e-01, 1.06864746e+13],\n",
       "       [3.67879441e-01, 7.89629602e+13, 3.67879441e-01, 5.83461743e+14,\n",
       "        3.67879441e-01, 4.31123155e+15, 3.67879441e-01, 3.18559318e+16,\n",
       "        3.67879441e-01, 2.35385267e+17]])"
      ]
     },
     "execution_count": 93,
     "metadata": {},
     "output_type": "execute_result"
    }
   ],
   "source": [
    "np.exp(arr)"
   ]
  },
  {
   "cell_type": "markdown",
   "id": "9dd52856",
   "metadata": {},
   "source": [
    "乱数 100 万個の平均を計算。"
   ]
  },
  {
   "cell_type": "code",
   "execution_count": 94,
   "id": "c5be87b5",
   "metadata": {},
   "outputs": [],
   "source": [
    "n=1000000\n",
    "a=np.random.rand(n)"
   ]
  },
  {
   "cell_type": "code",
   "execution_count": 95,
   "id": "150aee34",
   "metadata": {},
   "outputs": [
    {
     "data": {
      "text/plain": [
       "np.float64(0.5005894250444608)"
      ]
     },
     "execution_count": 95,
     "metadata": {},
     "output_type": "execute_result"
    }
   ],
   "source": [
    "a.sum()/n"
   ]
  },
  {
   "cell_type": "markdown",
   "id": "a3c36a06",
   "metadata": {},
   "source": [
    "最大値と最小値の差を求める。"
   ]
  },
  {
   "cell_type": "code",
   "execution_count": 96,
   "id": "a7187d4e",
   "metadata": {},
   "outputs": [
    {
     "data": {
      "text/plain": [
       "np.float64(0.9999989222732081)"
      ]
     },
     "execution_count": 96,
     "metadata": {},
     "output_type": "execute_result"
    }
   ],
   "source": [
    "min_a=min(a)\n",
    "max_a=max(a)\n",
    "max_a-min_a"
   ]
  },
  {
   "cell_type": "markdown",
   "id": "8981633c",
   "metadata": {},
   "source": [
    " 次元配列で axis=0 合計。"
   ]
  },
  {
   "cell_type": "code",
   "execution_count": 97,
   "id": "29ad7b12",
   "metadata": {},
   "outputs": [
    {
     "data": {
      "text/plain": [
       "array([ 64,  68,  72,  76,  80,  84,  88,  92,  96, 100])"
      ]
     },
     "execution_count": 97,
     "metadata": {},
     "output_type": "execute_result"
    }
   ],
   "source": [
    "sum_axis_0 = np.sum(original, axis=0)\n",
    "sum_axis_0"
   ]
  },
  {
   "cell_type": "markdown",
   "id": "e8a24ca1",
   "metadata": {},
   "source": [
    "np.percentile で 25/50/75 % 点。"
   ]
  },
  {
   "cell_type": "code",
   "execution_count": 98,
   "id": "323f6ad5",
   "metadata": {},
   "outputs": [
    {
     "name": "stdout",
     "output_type": "stream",
     "text": [
      "1.0\n",
      "10.75\n",
      "20.5\n",
      "30.25\n",
      "40.0\n"
     ]
    }
   ],
   "source": [
    "for i in [0,25,50,75,100]:\n",
    "    print(np.percentile(original,i))"
   ]
  },
  {
   "cell_type": "markdown",
   "id": "041a3c89",
   "metadata": {},
   "source": [
    "argsort で昇順インデックス。"
   ]
  },
  {
   "cell_type": "code",
   "execution_count": 99,
   "id": "34369295",
   "metadata": {},
   "outputs": [
    {
     "data": {
      "text/plain": [
       "array([[0, 1, 2, 3, 4, 5, 6, 7, 8, 9],\n",
       "       [0, 1, 2, 3, 4, 5, 6, 7, 8, 9],\n",
       "       [0, 1, 2, 3, 4, 5, 6, 7, 8, 9],\n",
       "       [0, 1, 2, 3, 4, 5, 6, 7, 8, 9]])"
      ]
     },
     "execution_count": 99,
     "metadata": {},
     "output_type": "execute_result"
    }
   ],
   "source": [
    "np.argsort(original)"
   ]
  },
  {
   "cell_type": "markdown",
   "id": "7f6d9f42",
   "metadata": {},
   "source": [
    "partition で上位 5 要素抽出。"
   ]
  },
  {
   "cell_type": "code",
   "execution_count": 100,
   "id": "3db430c8",
   "metadata": {},
   "outputs": [
    {
     "name": "stdout",
     "output_type": "stream",
     "text": [
      "[ 64  68  72  76  80  84  88  92  96 100]\n"
     ]
    },
    {
     "data": {
      "text/plain": [
       "array([64, 68, 72, 76, 80])"
      ]
     },
     "execution_count": 100,
     "metadata": {},
     "output_type": "execute_result"
    }
   ],
   "source": [
    "p=np.partition(sum_axis_0,kth=5)\n",
    "print(p)\n",
    "p[:5]\n"
   ]
  },
  {
   "cell_type": "markdown",
   "id": "dda24cf1",
   "metadata": {},
   "source": [
    "rng = np.random.default_rng(0) で再現可能に。"
   ]
  },
  {
   "cell_type": "code",
   "execution_count": 101,
   "id": "a67ee440",
   "metadata": {},
   "outputs": [
    {
     "name": "stdout",
     "output_type": "stream",
     "text": [
      "--- Run 1 ---\n",
      "Random integers (rng1): [8 6 5 2 3]\n",
      "Random floats (rng1): [0.01652764 0.81327024 0.91275558]\n",
      "\n",
      "--- Run 2 (Same Seed) ---\n",
      "Random integers (rng2): [8 6 5 2 3]\n",
      "Random floats (rng2): [0.01652764 0.81327024 0.91275558]\n"
     ]
    }
   ],
   "source": [
    "print(\"--- Run 1 ---\")\n",
    "rng1 = np.random.default_rng(0) # Seeded with 0\n",
    "print(\"Random integers (rng1):\", rng1.integers(10, size=5))\n",
    "print(\"Random floats (rng1):\", rng1.random(size=3))\n",
    "\n",
    "print(\"\\n--- Run 2 (Same Seed) ---\")\n",
    "rng2 = np.random.default_rng(0) # Seeded with 0 again\n",
    "print(\"Random integers (rng2):\", rng2.integers(10, size=5))\n",
    "print(\"Random floats (rng2):\", rng2.random(size=3))"
   ]
  },
  {
   "cell_type": "code",
   "execution_count": 102,
   "id": "add0a5fd",
   "metadata": {},
   "outputs": [
    {
     "data": {
      "text/plain": [
       "array([[8, 6, 5, 2, 3],\n",
       "       [0, 0, 0, 1, 8],\n",
       "       [6, 9, 5, 6, 9],\n",
       "       [7, 6, 5, 5, 9],\n",
       "       [2, 8, 6, 0, 3]])"
      ]
     },
     "execution_count": 102,
     "metadata": {},
     "output_type": "execute_result"
    }
   ],
   "source": [
    "rng1 = np.random.default_rng(0)\n",
    "random_matrix2 = rng1.integers(10, size=(5,5))\n",
    "random_matrix2"
   ]
  },
  {
   "cell_type": "markdown",
   "id": "079985b2",
   "metadata": {},
   "source": [
    "5×5 配列に [0,1,2,3,4] を足す。"
   ]
  },
  {
   "cell_type": "code",
   "execution_count": 103,
   "id": "99b7896a",
   "metadata": {},
   "outputs": [
    {
     "data": {
      "text/plain": [
       "array([[ 8,  7,  7,  5,  7],\n",
       "       [ 0,  1,  2,  4, 12],\n",
       "       [ 6, 10,  7,  9, 13],\n",
       "       [ 7,  7,  7,  8, 13],\n",
       "       [ 2,  9,  8,  3,  7]])"
      ]
     },
     "execution_count": 103,
     "metadata": {},
     "output_type": "execute_result"
    }
   ],
   "source": [
    "random_matrix2+np.array([0,1,2,3,4])"
   ]
  },
  {
   "cell_type": "markdown",
   "id": "f3e05903",
   "metadata": {},
   "source": [
    "列方向に平均 0 のセンタリング。"
   ]
  },
  {
   "cell_type": "code",
   "execution_count": 104,
   "id": "3bfdd7c0",
   "metadata": {},
   "outputs": [
    {
     "data": {
      "text/plain": [
       "array([[ 3.4,  0.2,  0.8, -0.8, -3.4],\n",
       "       [-4.6, -5.8, -4.2, -1.8,  1.6],\n",
       "       [ 1.4,  3.2,  0.8,  3.2,  2.6],\n",
       "       [ 2.4,  0.2,  0.8,  2.2,  2.6],\n",
       "       [-2.6,  2.2,  1.8, -2.8, -3.4]])"
      ]
     },
     "execution_count": 104,
     "metadata": {},
     "output_type": "execute_result"
    }
   ],
   "source": [
    "column_means=random_matrix2.mean(axis=0)\n",
    "centered=random_matrix2-column_means\n",
    "centered"
   ]
  },
  {
   "cell_type": "code",
   "execution_count": 105,
   "id": "a95ab6ac",
   "metadata": {},
   "outputs": [
    {
     "data": {
      "text/plain": [
       "array([ 3.55271368e-16,  1.77635684e-16, -1.77635684e-16,  1.77635684e-16,\n",
       "       -3.55271368e-16])"
      ]
     },
     "execution_count": 105,
     "metadata": {},
     "output_type": "execute_result"
    }
   ],
   "source": [
    "centered.mean(axis=0)"
   ]
  },
  {
   "cell_type": "markdown",
   "id": "709d3108",
   "metadata": {},
   "source": [
    "メッシュグリッドで z = sin(x)+cos(y)。"
   ]
  },
  {
   "cell_type": "code",
   "execution_count": 106,
   "id": "18e16c53",
   "metadata": {},
   "outputs": [
    {
     "ename": "ModuleNotFoundError",
     "evalue": "No module named 'matplotlib'",
     "output_type": "error",
     "traceback": [
      "\u001b[31m---------------------------------------------------------------------------\u001b[39m",
      "\u001b[31mModuleNotFoundError\u001b[39m                       Traceback (most recent call last)",
      "\u001b[36mCell\u001b[39m\u001b[36m \u001b[39m\u001b[32mIn[106]\u001b[39m\u001b[32m, line 2\u001b[39m\n\u001b[32m      1\u001b[39m \u001b[38;5;28;01mimport\u001b[39;00m\u001b[38;5;250m \u001b[39m\u001b[34;01mnumpy\u001b[39;00m\u001b[38;5;250m \u001b[39m\u001b[38;5;28;01mas\u001b[39;00m\u001b[38;5;250m \u001b[39m\u001b[34;01mnp\u001b[39;00m\n\u001b[32m----> \u001b[39m\u001b[32m2\u001b[39m \u001b[38;5;28;01mimport\u001b[39;00m\u001b[38;5;250m \u001b[39m\u001b[34;01mmatplotlib\u001b[39;00m\u001b[34;01m.\u001b[39;00m\u001b[34;01mpyplot\u001b[39;00m\u001b[38;5;250m \u001b[39m\u001b[38;5;28;01mas\u001b[39;00m\u001b[38;5;250m \u001b[39m\u001b[34;01mplt\u001b[39;00m\n\u001b[32m      3\u001b[39m \u001b[38;5;28;01mfrom\u001b[39;00m\u001b[38;5;250m \u001b[39m\u001b[34;01mmpl_toolkits\u001b[39;00m\u001b[34;01m.\u001b[39;00m\u001b[34;01mmplot3d\u001b[39;00m\u001b[38;5;250m \u001b[39m\u001b[38;5;28;01mimport\u001b[39;00m Axes3D \u001b[38;5;66;03m# 3Dプロットに必要\u001b[39;00m\n\u001b[32m      5\u001b[39m \u001b[38;5;66;03m# 1. x, yの範囲を定義\u001b[39;00m\n\u001b[32m      6\u001b[39m \u001b[38;5;66;03m# -2π から 2π までを100分割した配列を生成\u001b[39;00m\n",
      "\u001b[31mModuleNotFoundError\u001b[39m: No module named 'matplotlib'"
     ]
    }
   ],
   "source": [
    "import numpy as np\n",
    "import matplotlib.pyplot as plt\n",
    "from mpl_toolkits.mplot3d import Axes3D # 3Dプロットに必要\n",
    "\n",
    "# 1. x, yの範囲を定義\n",
    "# -2π から 2π までを100分割した配列を生成\n",
    "x = np.linspace(-2 * np.pi, 2 * np.pi, 100)\n",
    "y = np.linspace(-2 * np.pi, 2 * np.pi, 100)\n",
    "\n",
    "# 2. メッシュグリッドを生成\n",
    "# xとyの1次元配列から、2次元の座標グリッドX, Yを生成\n",
    "X, Y = np.meshgrid(x, y)\n",
    "\n",
    "# 3. zの値を計算\n",
    "# 各(X, Y)座標に対して Z = sin(X) + cos(Y) を計算\n",
    "Z = np.sin(X) + np.cos(Y)\n",
    "\n",
    "# 4. 3Dプロットの準備\n",
    "fig = plt.figure(figsize=(10, 8))\n",
    "ax = fig.add_subplot(111, projection='3d')\n",
    "\n",
    "# 5. 3D曲面プロットを実行\n",
    "# cmapでカラーマップを指定すると見やすくなる\n",
    "surf = ax.plot_surface(X, Y, Z, cmap='viridis')\n",
    "\n",
    "# 軸ラベルとタイトルの設定\n",
    "ax.set_xlabel('x axis')\n",
    "ax.set_ylabel('y axis')\n",
    "ax.set_zlabel('z axis')\n",
    "ax.set_title('z = sin(x) + cos(y)')\n",
    "\n",
    "# カラーバーを追加\n",
    "fig.colorbar(surf, shrink=0.5, aspect=10)\n",
    "\n",
    "# グラフを表示\n",
    "plt.show()\n"
   ]
  },
  {
   "cell_type": "markdown",
   "id": "34ad9b3b",
   "metadata": {},
   "source": [
    "ブロードキャストで距離行列を生成。"
   ]
  },
  {
   "cell_type": "code",
   "execution_count": null,
   "id": "cce5e53a",
   "metadata": {},
   "outputs": [
    {
     "name": "stdout",
     "output_type": "stream",
     "text": [
      "\u001b[31mType:\u001b[39m        NoneType\n",
      "\u001b[31mString form:\u001b[39m None\n",
      "\u001b[31mDocstring:\u001b[39m   The type of the None singleton."
     ]
    }
   ],
   "source": [
    "np.newaxis?"
   ]
  },
  {
   "cell_type": "code",
   "execution_count": null,
   "id": "81dfdbeb",
   "metadata": {},
   "outputs": [
    {
     "name": "stdout",
     "output_type": "stream",
     "text": [
      "方法2で生成した距離行列:\n",
      "[[0.         2.23606798 4.24264069 5.38516481 3.        ]\n",
      " [2.23606798 0.         2.23606798 4.         2.82842712]\n",
      " [4.24264069 2.23606798 0.         2.23606798 3.        ]\n",
      " [5.38516481 4.         2.23606798 0.         2.82842712]\n",
      " [3.         2.82842712 3.         2.82842712 0.        ]]\n"
     ]
    }
   ],
   "source": [
    "X = np.array([[0, 0], [1, 2], [3, 3], [5, 2], [3, 0]])\n",
    "sum_sq = np.sum(X**2, axis=1)\n",
    "dist_sq = sum_sq[:, np.newaxis] + sum_sq[np.newaxis, :] - 2 * (X @ X.T)\n",
    "dist_sq_clipped = np.maximum(dist_sq, 0)\n",
    "dist_matrix_fast = np.sqrt(dist_sq_clipped)\n",
    "print(\"方法2で生成した距離行列:\")\n",
    "print(dist_matrix_fast)"
   ]
  },
  {
   "cell_type": "code",
   "execution_count": null,
   "id": "c53993d0",
   "metadata": {},
   "outputs": [
    {
     "data": {
      "text/plain": [
       "array([[2, 3, 4, 5],\n",
       "       [3, 4, 5, 6],\n",
       "       [4, 5, 6, 7]])"
      ]
     },
     "execution_count": 30,
     "metadata": {},
     "output_type": "execute_result"
    }
   ],
   "source": [
    "A=np.array([[1],[2],[3]])\n",
    "B=np.array([[1,2,3,4]])\n",
    "A+B"
   ]
  },
  {
   "cell_type": "code",
   "execution_count": null,
   "id": "c4c18b09",
   "metadata": {},
   "outputs": [
    {
     "ename": "ValueError",
     "evalue": "operands could not be broadcast together with shapes (3,1) (2,2) ",
     "output_type": "error",
     "traceback": [
      "\u001b[31m---------------------------------------------------------------------------\u001b[39m",
      "\u001b[31mValueError\u001b[39m                                Traceback (most recent call last)",
      "\u001b[36mCell\u001b[39m\u001b[36m \u001b[39m\u001b[32mIn[31]\u001b[39m\u001b[32m, line 3\u001b[39m\n\u001b[32m      1\u001b[39m A=np.array([[\u001b[32m1\u001b[39m],[\u001b[32m2\u001b[39m],[\u001b[32m3\u001b[39m]])\n\u001b[32m      2\u001b[39m B=np.array([[\u001b[32m1\u001b[39m,\u001b[32m2\u001b[39m],[\u001b[32m3\u001b[39m,\u001b[32m4\u001b[39m]])\n\u001b[32m----> \u001b[39m\u001b[32m3\u001b[39m \u001b[43mA\u001b[49m\u001b[43m+\u001b[49m\u001b[43mB\u001b[49m\n",
      "\u001b[31mValueError\u001b[39m: operands could not be broadcast together with shapes (3,1) (2,2) "
     ]
    }
   ],
   "source": [
    "A=np.array([[1],[2],[3]])\n",
    "B=np.array([[1,2],[3,4]])\n",
    "A+B"
   ]
  },
  {
   "cell_type": "code",
   "execution_count": null,
   "id": "b481073c",
   "metadata": {},
   "outputs": [
    {
     "name": "stdout",
     "output_type": "stream",
     "text": [
      "[[[177 111  77]\n",
      "  [245  44  12]\n",
      "  [ 52 179  70]]\n",
      "\n",
      " [[242  14  80]\n",
      "  [ 36 191  39]\n",
      "  [152  53 250]]\n",
      "\n",
      " [[156 221 186]\n",
      "  [146 144  65]\n",
      "  [ 21  26  91]]]\n"
     ]
    },
    {
     "data": {
      "text/plain": [
       "array([[[187, 131, 107],\n",
       "        [255,  64,  42],\n",
       "        [ 62, 199, 100]],\n",
       "\n",
       "       [[252,  34, 110],\n",
       "        [ 46, 211,  69],\n",
       "        [162,  73, 280]],\n",
       "\n",
       "       [[166, 241, 216],\n",
       "        [156, 164,  95],\n",
       "        [ 31,  46, 121]]])"
      ]
     },
     "execution_count": 2,
     "metadata": {},
     "output_type": "execute_result"
    }
   ],
   "source": [
    "H,W=3,3\n",
    "rgb_image = np.random.randint(0, 256, size=(H, W, 3), dtype=np.uint8)\n",
    "\n",
    "color_fix=[10,20,30]\n",
    "fixed_image=rgb_image+color_fix\n",
    "print(rgb_image)\n",
    "fixed_image"
   ]
  },
  {
   "cell_type": "code",
   "execution_count": null,
   "id": "ff3cb2f6",
   "metadata": {},
   "outputs": [
    {
     "data": {
      "text/plain": [
       "array([[8, 6, 5, 2, 3, 0, 0, 0, 1, 8],\n",
       "       [6, 9, 5, 6, 9, 7, 6, 5, 5, 9],\n",
       "       [2, 8, 6, 0, 3, 8, 5, 0, 7, 7],\n",
       "       [8, 1, 0, 8, 0, 5, 0, 2, 4, 4],\n",
       "       [4, 0, 0, 1, 0, 6, 5, 6, 2, 6],\n",
       "       [7, 3, 4, 9, 8, 9, 3, 6, 9, 6],\n",
       "       [8, 6, 7, 3, 8, 1, 5, 7, 8, 5],\n",
       "       [3, 3, 4, 4, 7, 8, 0, 9, 5, 3],\n",
       "       [6, 5, 2, 3, 7, 5, 5, 3, 7, 3],\n",
       "       [3, 8, 2, 2, 7, 6, 0, 0, 3, 8]])"
      ]
     },
     "execution_count": 59,
     "metadata": {},
     "output_type": "execute_result"
    }
   ],
   "source": [
    "import numpy as np\n",
    "rng=np.random.default_rng(0)\n",
    "rndX=rng.integers(10, size=(10,10))\n",
    "rndX"
   ]
  },
  {
   "cell_type": "code",
   "execution_count": null,
   "id": "f7deca6e",
   "metadata": {},
   "outputs": [
    {
     "data": {
      "text/plain": [
       "array([3.3, 6.7, 4.6, 3.2, 3. , 6.4, 5.8, 4.6, 4.6, 3.9])"
      ]
     },
     "execution_count": 60,
     "metadata": {},
     "output_type": "execute_result"
    }
   ],
   "source": [
    "\n",
    "avg_X=rndX.mean(axis=1)\n",
    "avg_X"
   ]
  },
  {
   "cell_type": "code",
   "execution_count": null,
   "id": "1a2e50f2",
   "metadata": {},
   "outputs": [],
   "source": [
    "mean_X=rndX-avg_X"
   ]
  },
  {
   "cell_type": "code",
   "execution_count": null,
   "id": "48b09e68",
   "metadata": {},
   "outputs": [
    {
     "data": {
      "text/plain": [
       "array([ 9.84377976, 10.83051245,  8.03741252,  9.1214034 , 12.32882801,\n",
       "        9.3059121 , 12.04159458, 10.09950494,  8.08702665,  8.99444273])"
      ]
     },
     "execution_count": 62,
     "metadata": {},
     "output_type": "execute_result"
    }
   ],
   "source": [
    "norm_X=np.linalg.norm(mean_X,ord=2,axis=0)\n",
    "norm_X"
   ]
  },
  {
   "cell_type": "code",
   "execution_count": null,
   "id": "425a3b2b",
   "metadata": {},
   "outputs": [
    {
     "data": {
      "text/plain": [
       "array([[-0.14,  0.68,  0.52,  0.48,  0.24,  1.38,  0.96,  0.91,  1.01,\n",
       "        -0.02],\n",
       "       [ 0.06,  0.41,  0.52,  0.04, -0.24,  0.62,  0.47,  0.42,  0.52,\n",
       "        -0.13],\n",
       "       [ 0.47,  0.5 ,  0.4 ,  0.7 ,  0.24,  0.52,  0.55,  0.91,  0.27,\n",
       "         0.09],\n",
       "       [-0.14,  1.14,  1.14, -0.18,  0.49,  0.84,  0.96,  0.71,  0.64,\n",
       "         0.42],\n",
       "       [ 0.26,  1.24,  1.14,  0.59,  0.49,  0.73,  0.55,  0.32,  0.89,\n",
       "         0.2 ],\n",
       "       [-0.04,  0.96,  0.65, -0.29, -0.16,  0.41,  0.71,  0.32,  0.02,\n",
       "         0.2 ],\n",
       "       [-0.14,  0.68,  0.27,  0.37, -0.16,  1.27,  0.55,  0.22,  0.15,\n",
       "         0.31],\n",
       "       [ 0.37,  0.96,  0.65,  0.26, -0.08,  0.52,  0.96,  0.02,  0.52,\n",
       "         0.53],\n",
       "       [ 0.06,  0.78,  0.9 ,  0.37, -0.08,  0.84,  0.55,  0.61,  0.27,\n",
       "         0.53],\n",
       "       [ 0.37,  0.5 ,  0.9 ,  0.48, -0.08,  0.73,  0.96,  0.91,  0.77,\n",
       "        -0.02]])"
      ]
     },
     "execution_count": 64,
     "metadata": {},
     "output_type": "execute_result"
    }
   ],
   "source": [
    "np.set_printoptions(2)\n",
    "\n",
    "X_normalized=(avg_X-mean_X)/norm_X\n",
    "X_normalized"
   ]
  },
  {
   "cell_type": "markdown",
   "id": "5d872314",
   "metadata": {},
   "source": [
    "### np.multiply.outer で外積行列。"
   ]
  },
  {
   "cell_type": "code",
   "execution_count": null,
   "id": "aaf171c4",
   "metadata": {},
   "outputs": [
    {
     "name": "stdout",
     "output_type": "stream",
     "text": [
      "[[8]\n",
      " [6]\n",
      " [5]]\n",
      "[[2 3 0]]\n",
      "[[16 24  0]\n",
      " [12 18  0]\n",
      " [10 15  0]]\n"
     ]
    },
    {
     "data": {
      "text/plain": [
       "array([[[[16, 24,  0]]],\n",
       "\n",
       "\n",
       "       [[[12, 18,  0]]],\n",
       "\n",
       "\n",
       "       [[[10, 15,  0]]]])"
      ]
     },
     "execution_count": 72,
     "metadata": {},
     "output_type": "execute_result"
    }
   ],
   "source": [
    "rng=np.random.default_rng(0)\n",
    "X=rng.integers(10,size=(3,1))\n",
    "Y=rng.integers(10,size=(1,3))\n",
    "print(X)\n",
    "print(Y)\n",
    "print(X*Y)\n",
    "np.multiply.outer(X,Y)\n",
    "\n",
    "\n"
   ]
  },
  {
   "cell_type": "code",
   "execution_count": null,
   "id": "b1fad70f",
   "metadata": {},
   "outputs": [
    {
     "name": "stdout",
     "output_type": "stream",
     "text": [
      "[[0 0 1]\n",
      " [8 6 9]\n",
      " [5 6 9]]\n"
     ]
    },
    {
     "data": {
      "text/plain": [
       "array([[ 0,  0,  3],\n",
       "       [24, 18, 27],\n",
       "       [15, 18, 27]])"
      ]
     },
     "execution_count": 73,
     "metadata": {},
     "output_type": "execute_result"
    }
   ],
   "source": [
    "X=rng.integers(10,size=(3,3))\n",
    "print(X)\n",
    "3*X"
   ]
  },
  {
   "cell_type": "code",
   "execution_count": null,
   "id": "ef74f3ab",
   "metadata": {},
   "outputs": [
    {
     "data": {
      "text/plain": [
       "np.int64(701)"
      ]
     },
     "execution_count": 78,
     "metadata": {},
     "output_type": "execute_result"
    }
   ],
   "source": [
    "A=np.random.randint(0,10,1000)\n",
    "np.count_nonzero(A>2)\n"
   ]
  },
  {
   "cell_type": "code",
   "execution_count": 3,
   "id": "66561898",
   "metadata": {},
   "outputs": [],
   "source": [
    "import numpy as np"
   ]
  },
  {
   "cell_type": "code",
   "execution_count": 4,
   "id": "c19cfa30",
   "metadata": {},
   "outputs": [
    {
     "data": {
      "text/plain": [
       "np.int64(651)"
      ]
     },
     "execution_count": 4,
     "metadata": {},
     "output_type": "execute_result"
    }
   ],
   "source": [
    "A=np.random.randint(0,1000,1000)\n",
    "B=np.random.randint(0,1000,1000)\n",
    "np.sum(np.isin(A,B))"
   ]
  },
  {
   "cell_type": "code",
   "execution_count": 7,
   "id": "36093b1e",
   "metadata": {},
   "outputs": [
    {
     "name": "stdout",
     "output_type": "stream",
     "text": [
      "[568 368 966 817 276 549 594 483 731 738]\n"
     ]
    },
    {
     "data": {
      "text/plain": [
       "array([568, 368, 966, 817, 276, 549, 594, 483, 731, 738], dtype=int32)"
      ]
     },
     "execution_count": 7,
     "metadata": {},
     "output_type": "execute_result"
    }
   ],
   "source": [
    "\n",
    "print(A[[i for i in range(0,len(A),2)]][:10])\n",
    "A[::2][:10]"
   ]
  },
  {
   "cell_type": "code",
   "execution_count": 18,
   "id": "9f0c1173",
   "metadata": {},
   "outputs": [
    {
     "name": "stdout",
     "output_type": "stream",
     "text": [
      "[10. nan 20. nan 10.]\n"
     ]
    },
    {
     "data": {
      "text/plain": [
       "np.float64(13.333333333333334)"
      ]
     },
     "execution_count": 18,
     "metadata": {},
     "output_type": "execute_result"
    }
   ],
   "source": [
    "A=np.array([10,np.nan,20,np.nan,10])\n",
    "print(A)\n",
    "np.nanmean(A)\n",
    "\n"
   ]
  },
  {
   "cell_type": "code",
   "execution_count": 52,
   "id": "1f919fb4",
   "metadata": {},
   "outputs": [
    {
     "name": "stdout",
     "output_type": "stream",
     "text": [
      "[  7   2   0  -5  -4 -10  -9 -10  -7   6]\n"
     ]
    },
    {
     "data": {
      "text/plain": [
       "array([-7, -2,  0,  5,  4, 10,  9, 10,  7, -6])"
      ]
     },
     "execution_count": 52,
     "metadata": {},
     "output_type": "execute_result"
    }
   ],
   "source": [
    "rng=np.random.default_rng(0)\n",
    "a=rng.integers(-10,10,10)\n",
    "print(a)\n",
    "np.where(a>0,a*-1,a*-1)"
   ]
  },
  {
   "cell_type": "code",
   "execution_count": 58,
   "id": "d98110f0",
   "metadata": {},
   "outputs": [
    {
     "name": "stdout",
     "output_type": "stream",
     "text": [
      "[8 2 1 8 1 5 1 3 5 4]\n"
     ]
    },
    {
     "data": {
      "text/plain": [
       "array([1, 2, 3, 4, 5, 8])"
      ]
     },
     "execution_count": 58,
     "metadata": {},
     "output_type": "execute_result"
    }
   ],
   "source": [
    "b=rng.integers(1,10,10)\n",
    "print(b)\n",
    "np.unique(b)"
   ]
  },
  {
   "cell_type": "code",
   "execution_count": 59,
   "id": "50bfc61d",
   "metadata": {},
   "outputs": [
    {
     "name": "stdout",
     "output_type": "stream",
     "text": [
      "[  7   2   0  -5  -4 -10  -9 -10  -7   6]\n",
      "[8 2 1 8 1 5 1 3 5 4]\n"
     ]
    },
    {
     "data": {
      "text/plain": [
       "array([False,  True, False, False, False, False, False, False, False,\n",
       "       False])"
      ]
     },
     "execution_count": 59,
     "metadata": {},
     "output_type": "execute_result"
    }
   ],
   "source": [
    "print(a)\n",
    "print(b)\n",
    "np.isin(a,b)"
   ]
  },
  {
   "cell_type": "code",
   "execution_count": 64,
   "id": "dcf67cad",
   "metadata": {},
   "outputs": [
    {
     "data": {
      "text/plain": [
       "array([[7, 0, 1],\n",
       "       [1, 0, 7]])"
      ]
     },
     "execution_count": 64,
     "metadata": {},
     "output_type": "execute_result"
    }
   ],
   "source": [
    "A = np.array([[0,1,2],[2,1,0]])\n",
    "choices = [[7], [0], [1]]     # shape (3,1) だが列方向にブロードキャスト可\n",
    "np.choose(A, choices)         # → array([[7,0,1],[1,0,7]])\n"
   ]
  }
 ],
 "metadata": {
  "kernelspec": {
   "display_name": "venv",
   "language": "python",
   "name": "python3"
  },
  "language_info": {
   "codemirror_mode": {
    "name": "ipython",
    "version": 3
   },
   "file_extension": ".py",
   "mimetype": "text/x-python",
   "name": "python",
   "nbconvert_exporter": "python",
   "pygments_lexer": "ipython3",
   "version": "3.12.1"
  }
 },
 "nbformat": 4,
 "nbformat_minor": 5
}
