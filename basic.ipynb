{
 "cells": [
  {
   "cell_type": "markdown",
   "id": "d3021a50",
   "metadata": {},
   "source": [
    "Jupyter Notebook を起動し、新しいノートブックを作成せよ。"
   ]
  },
  {
   "cell_type": "code",
   "execution_count": 1,
   "id": "2afd163c",
   "metadata": {},
   "outputs": [],
   "source": [
    "import numpy as np"
   ]
  },
  {
   "cell_type": "markdown",
   "id": "1885e068",
   "metadata": {},
   "source": [
    "1 行のセルに print(\"Hello, Data Science!\") を書いて実行。"
   ]
  },
  {
   "cell_type": "code",
   "execution_count": 2,
   "id": "5c5bc59d",
   "metadata": {},
   "outputs": [
    {
     "name": "stdout",
     "output_type": "stream",
     "text": [
      "Hello, Data Science!\n"
     ]
    }
   ],
   "source": [
    "print(\"Hello, Data Science!\")"
   ]
  },
  {
   "cell_type": "markdown",
   "id": "4a5afe47",
   "metadata": {},
   "source": [
    "Markdown セルを追加し、# 私の最初のノート と見出しを書く。"
   ]
  },
  {
   "cell_type": "markdown",
   "id": "0809d33a",
   "metadata": {},
   "source": [
    "len? を実行してヘルプを表示。"
   ]
  },
  {
   "cell_type": "code",
   "execution_count": 3,
   "id": "3a9a6fd8",
   "metadata": {},
   "outputs": [
    {
     "name": "stdout",
     "output_type": "stream",
     "text": [
      "\u001b[31mSignature:\u001b[39m len(obj, /)\n",
      "\u001b[31mDocstring:\u001b[39m Return the number of items in a container.\n",
      "\u001b[31mType:\u001b[39m      builtin_function_or_method"
     ]
    }
   ],
   "source": [
    "len?"
   ]
  },
  {
   "cell_type": "code",
   "execution_count": null,
   "id": "dd0ed232",
   "metadata": {},
   "outputs": [],
   "source": []
  },
  {
   "cell_type": "markdown",
   "id": "f3a6e4c7",
   "metadata": {},
   "source": [
    "np.mean?? でソースコードを確認。"
   ]
  },
  {
   "cell_type": "code",
   "execution_count": 4,
   "id": "3fb65b8b",
   "metadata": {},
   "outputs": [
    {
     "name": "stdout",
     "output_type": "stream",
     "text": [
      "\u001b[31mSignature:\u001b[39m      \n",
      "np.mean(\n",
      "    a,\n",
      "    axis=\u001b[38;5;28;01mNone\u001b[39;00m,\n",
      "    dtype=\u001b[38;5;28;01mNone\u001b[39;00m,\n",
      "    out=\u001b[38;5;28;01mNone\u001b[39;00m,\n",
      "    keepdims=<no value>,\n",
      "    *,\n",
      "    where=<no value>,\n",
      ")\n",
      "\u001b[31mCall signature:\u001b[39m  np.mean(*args, **kwargs)\n",
      "\u001b[31mType:\u001b[39m            _ArrayFunctionDispatcher\n",
      "\u001b[31mString form:\u001b[39m     <function mean at 0x000002AED1D07CE0>\n",
      "\u001b[31mFile:\u001b[39m            c:\\python\\python-data-science-handbook\\venv\\lib\\site-packages\\numpy\\_core\\fromnumeric.py\n",
      "\u001b[31mSource:\u001b[39m         \n",
      "@array_function_dispatch(_mean_dispatcher)\n",
      "\u001b[38;5;28;01mdef\u001b[39;00m mean(a, axis=\u001b[38;5;28;01mNone\u001b[39;00m, dtype=\u001b[38;5;28;01mNone\u001b[39;00m, out=\u001b[38;5;28;01mNone\u001b[39;00m, keepdims=np._NoValue, *,\n",
      "         where=np._NoValue):\n",
      "    \u001b[33m\"\"\"\u001b[39m\n",
      "\u001b[33m    Compute the arithmetic mean along the specified axis.\u001b[39m\n",
      "\n",
      "\u001b[33m    Returns the average of the array elements.  The average is taken over\u001b[39m\n",
      "\u001b[33m    the flattened array by default, otherwise over the specified axis.\u001b[39m\n",
      "\u001b[33m    `float64` intermediate and return values are used for integer inputs.\u001b[39m\n",
      "\n",
      "\u001b[33m    Parameters\u001b[39m\n",
      "\u001b[33m    ----------\u001b[39m\n",
      "\u001b[33m    a : array_like\u001b[39m\n",
      "\u001b[33m        Array containing numbers whose mean is desired. If `a` is not an\u001b[39m\n",
      "\u001b[33m        array, a conversion is attempted.\u001b[39m\n",
      "\u001b[33m    axis : None or int or tuple of ints, optional\u001b[39m\n",
      "\u001b[33m        Axis or axes along which the means are computed. The default is to\u001b[39m\n",
      "\u001b[33m        compute the mean of the flattened array.\u001b[39m\n",
      "\n",
      "\u001b[33m        If this is a tuple of ints, a mean is performed over multiple axes,\u001b[39m\n",
      "\u001b[33m        instead of a single axis or all the axes as before.\u001b[39m\n",
      "\u001b[33m    dtype : data-type, optional\u001b[39m\n",
      "\u001b[33m        Type to use in computing the mean.  For integer inputs, the default\u001b[39m\n",
      "\u001b[33m        is `float64`; for floating point inputs, it is the same as the\u001b[39m\n",
      "\u001b[33m        input dtype.\u001b[39m\n",
      "\u001b[33m    out : ndarray, optional\u001b[39m\n",
      "\u001b[33m        Alternate output array in which to place the result.  The default\u001b[39m\n",
      "\u001b[33m        is ``None``; if provided, it must have the same shape as the\u001b[39m\n",
      "\u001b[33m        expected output, but the type will be cast if necessary.\u001b[39m\n",
      "\u001b[33m        See :ref:`ufuncs-output-type` for more details.\u001b[39m\n",
      "\u001b[33m        See :ref:`ufuncs-output-type` for more details.\u001b[39m\n",
      "\n",
      "\u001b[33m    keepdims : bool, optional\u001b[39m\n",
      "\u001b[33m        If this is set to True, the axes which are reduced are left\u001b[39m\n",
      "\u001b[33m        in the result as dimensions with size one. With this option,\u001b[39m\n",
      "\u001b[33m        the result will broadcast correctly against the input array.\u001b[39m\n",
      "\n",
      "\u001b[33m        If the default value is passed, then `keepdims` will not be\u001b[39m\n",
      "\u001b[33m        passed through to the `mean` method of sub-classes of\u001b[39m\n",
      "\u001b[33m        `ndarray`, however any non-default value will be.  If the\u001b[39m\n",
      "\u001b[33m        sub-class' method does not implement `keepdims` any\u001b[39m\n",
      "\u001b[33m        exceptions will be raised.\u001b[39m\n",
      "\n",
      "\u001b[33m    where : array_like of bool, optional\u001b[39m\n",
      "\u001b[33m        Elements to include in the mean. See `~numpy.ufunc.reduce` for details.\u001b[39m\n",
      "\n",
      "\u001b[33m        .. versionadded:: 1.20.0\u001b[39m\n",
      "\n",
      "\u001b[33m    Returns\u001b[39m\n",
      "\u001b[33m    -------\u001b[39m\n",
      "\u001b[33m    m : ndarray, see dtype parameter above\u001b[39m\n",
      "\u001b[33m        If `out=None`, returns a new array containing the mean values,\u001b[39m\n",
      "\u001b[33m        otherwise a reference to the output array is returned.\u001b[39m\n",
      "\n",
      "\u001b[33m    See Also\u001b[39m\n",
      "\u001b[33m    --------\u001b[39m\n",
      "\u001b[33m    average : Weighted average\u001b[39m\n",
      "\u001b[33m    std, var, nanmean, nanstd, nanvar\u001b[39m\n",
      "\n",
      "\u001b[33m    Notes\u001b[39m\n",
      "\u001b[33m    -----\u001b[39m\n",
      "\u001b[33m    The arithmetic mean is the sum of the elements along the axis divided\u001b[39m\n",
      "\u001b[33m    by the number of elements.\u001b[39m\n",
      "\n",
      "\u001b[33m    Note that for floating-point input, the mean is computed using the\u001b[39m\n",
      "\u001b[33m    same precision the input has.  Depending on the input data, this can\u001b[39m\n",
      "\u001b[33m    cause the results to be inaccurate, especially for `float32` (see\u001b[39m\n",
      "\u001b[33m    example below).  Specifying a higher-precision accumulator using the\u001b[39m\n",
      "\u001b[33m    `dtype` keyword can alleviate this issue.\u001b[39m\n",
      "\n",
      "\u001b[33m    By default, `float16` results are computed using `float32` intermediates\u001b[39m\n",
      "\u001b[33m    for extra precision.\u001b[39m\n",
      "\n",
      "\u001b[33m    Examples\u001b[39m\n",
      "\u001b[33m    --------\u001b[39m\n",
      "\u001b[33m    >>> import numpy as np\u001b[39m\n",
      "\u001b[33m    >>> a = np.array([[1, 2], [3, 4]])\u001b[39m\n",
      "\u001b[33m    >>> np.mean(a)\u001b[39m\n",
      "\u001b[33m    2.5\u001b[39m\n",
      "\u001b[33m    >>> np.mean(a, axis=0)\u001b[39m\n",
      "\u001b[33m    array([2., 3.])\u001b[39m\n",
      "\u001b[33m    >>> np.mean(a, axis=1)\u001b[39m\n",
      "\u001b[33m    array([1.5, 3.5])\u001b[39m\n",
      "\n",
      "\u001b[33m    In single precision, `mean` can be inaccurate:\u001b[39m\n",
      "\n",
      "\u001b[33m    >>> a = np.zeros((2, 512*512), dtype=np.float32)\u001b[39m\n",
      "\u001b[33m    >>> a[0, :] = 1.0\u001b[39m\n",
      "\u001b[33m    >>> a[1, :] = 0.1\u001b[39m\n",
      "\u001b[33m    >>> np.mean(a)\u001b[39m\n",
      "\u001b[33m    np.float32(0.54999924)\u001b[39m\n",
      "\n",
      "\u001b[33m    Computing the mean in float64 is more accurate:\u001b[39m\n",
      "\n",
      "\u001b[33m    >>> np.mean(a, dtype=np.float64)\u001b[39m\n",
      "\u001b[33m    0.55000000074505806 # may vary\u001b[39m\n",
      "\n",
      "\u001b[33m    Computing the mean in timedelta64 is available:\u001b[39m\n",
      "\n",
      "\u001b[33m    >>> b = np.array([1, 3], dtype=\"timedelta64[D]\")\u001b[39m\n",
      "\u001b[33m    >>> np.mean(b)\u001b[39m\n",
      "\u001b[33m    np.timedelta64(2,'D')\u001b[39m\n",
      "\n",
      "\u001b[33m    Specifying a where argument:\u001b[39m\n",
      "\n",
      "\u001b[33m    >>> a = np.array([[5, 9, 13], [14, 10, 12], [11, 15, 19]])\u001b[39m\n",
      "\u001b[33m    >>> np.mean(a)\u001b[39m\n",
      "\u001b[33m    12.0\u001b[39m\n",
      "\u001b[33m    >>> np.mean(a, where=[[True], [False], [False]])\u001b[39m\n",
      "\u001b[33m    9.0\u001b[39m\n",
      "\n",
      "\u001b[33m    \"\"\"\u001b[39m\n",
      "    kwargs = {}\n",
      "    \u001b[38;5;28;01mif\u001b[39;00m keepdims \u001b[38;5;28;01mis\u001b[39;00m \u001b[38;5;28;01mnot\u001b[39;00m np._NoValue:\n",
      "        kwargs[\u001b[33m'keepdims'\u001b[39m] = keepdims\n",
      "    \u001b[38;5;28;01mif\u001b[39;00m where \u001b[38;5;28;01mis\u001b[39;00m \u001b[38;5;28;01mnot\u001b[39;00m np._NoValue:\n",
      "        kwargs[\u001b[33m'where'\u001b[39m] = where\n",
      "    \u001b[38;5;28;01mif\u001b[39;00m type(a) \u001b[38;5;28;01mis\u001b[39;00m \u001b[38;5;28;01mnot\u001b[39;00m mu.ndarray:\n",
      "        \u001b[38;5;28;01mtry\u001b[39;00m:\n",
      "            mean = a.mean\n",
      "        \u001b[38;5;28;01mexcept\u001b[39;00m AttributeError:\n",
      "            \u001b[38;5;28;01mpass\u001b[39;00m\n",
      "        \u001b[38;5;28;01melse\u001b[39;00m:\n",
      "            \u001b[38;5;28;01mreturn\u001b[39;00m mean(axis=axis, dtype=dtype, out=out, **kwargs)\n",
      "\n",
      "    \u001b[38;5;28;01mreturn\u001b[39;00m _methods._mean(a, axis=axis, dtype=dtype,\n",
      "                          out=out, **kwargs)\n",
      "\u001b[31mClass docstring:\u001b[39m\n",
      "Class to wrap functions with checks for __array_function__ overrides.\n",
      "\n",
      "All arguments are required, and can only be passed by position.\n",
      "\n",
      "Parameters\n",
      "----------\n",
      "dispatcher : function or None\n",
      "    The dispatcher function that returns a single sequence-like object\n",
      "    of all arguments relevant.  It must have the same signature (except\n",
      "    the default values) as the actual implementation.\n",
      "    If ``None``, this is a ``like=`` dispatcher and the\n",
      "    ``_ArrayFunctionDispatcher`` must be called with ``like`` as the\n",
      "    first (additional and positional) argument.\n",
      "implementation : function\n",
      "    Function that implements the operation on NumPy arrays without\n",
      "    overrides.  Arguments passed calling the ``_ArrayFunctionDispatcher``\n",
      "    will be forwarded to this (and the ``dispatcher``) as if using\n",
      "    ``*args, **kwargs``.\n",
      "\n",
      "Attributes\n",
      "----------\n",
      "_implementation : function\n",
      "    The original implementation passed in."
     ]
    }
   ],
   "source": [
    "np.mean??"
   ]
  },
  {
   "cell_type": "markdown",
   "id": "868b7416",
   "metadata": {},
   "source": [
    "Tab 補完で numpy.random.default_rng を補完。"
   ]
  },
  {
   "cell_type": "code",
   "execution_count": 5,
   "id": "6f15141a",
   "metadata": {},
   "outputs": [
    {
     "data": {
      "text/plain": [
       "<cyfunction default_rng at 0x000002AED1F716C0>"
      ]
     },
     "execution_count": 5,
     "metadata": {},
     "output_type": "execute_result"
    }
   ],
   "source": [
    "np.random.default_rng"
   ]
  },
  {
   "cell_type": "markdown",
   "id": "e5ceedb8",
   "metadata": {},
   "source": [
    "%lsmagic で Magic コマンド一覧を表示。"
   ]
  },
  {
   "cell_type": "code",
   "execution_count": 6,
   "id": "b89f219e",
   "metadata": {},
   "outputs": [
    {
     "data": {
      "application/json": {
       "cell": {
        "!": "OSMagics",
        "HTML": "Other",
        "SVG": "Other",
        "bash": "Other",
        "capture": "ExecutionMagics",
        "cmd": "Other",
        "code_wrap": "ExecutionMagics",
        "debug": "ExecutionMagics",
        "file": "Other",
        "html": "DisplayMagics",
        "javascript": "DisplayMagics",
        "js": "DisplayMagics",
        "latex": "DisplayMagics",
        "markdown": "DisplayMagics",
        "perl": "Other",
        "prun": "ExecutionMagics",
        "pypy": "Other",
        "python": "Other",
        "python2": "Other",
        "python3": "Other",
        "ruby": "Other",
        "script": "ScriptMagics",
        "sh": "Other",
        "svg": "DisplayMagics",
        "sx": "OSMagics",
        "system": "OSMagics",
        "time": "ExecutionMagics",
        "timeit": "ExecutionMagics",
        "writefile": "OSMagics"
       },
       "line": {
        "alias": "OSMagics",
        "alias_magic": "BasicMagics",
        "autoawait": "AsyncMagics",
        "autocall": "AutoMagics",
        "automagic": "AutoMagics",
        "autosave": "KernelMagics",
        "bookmark": "OSMagics",
        "cd": "OSMagics",
        "clear": "KernelMagics",
        "cls": "KernelMagics",
        "code_wrap": "ExecutionMagics",
        "colors": "BasicMagics",
        "conda": "PackagingMagics",
        "config": "ConfigMagics",
        "connect_info": "KernelMagics",
        "copy": "Other",
        "ddir": "Other",
        "debug": "ExecutionMagics",
        "dhist": "OSMagics",
        "dirs": "OSMagics",
        "doctest_mode": "BasicMagics",
        "echo": "Other",
        "ed": "Other",
        "edit": "KernelMagics",
        "env": "OSMagics",
        "gui": "BasicMagics",
        "hist": "Other",
        "history": "HistoryMagics",
        "killbgscripts": "ScriptMagics",
        "ldir": "Other",
        "less": "KernelMagics",
        "load": "CodeMagics",
        "load_ext": "ExtensionMagics",
        "loadpy": "CodeMagics",
        "logoff": "LoggingMagics",
        "logon": "LoggingMagics",
        "logstart": "LoggingMagics",
        "logstate": "LoggingMagics",
        "logstop": "LoggingMagics",
        "ls": "Other",
        "lsmagic": "BasicMagics",
        "macro": "ExecutionMagics",
        "magic": "BasicMagics",
        "mamba": "PackagingMagics",
        "matplotlib": "PylabMagics",
        "micromamba": "PackagingMagics",
        "mkdir": "Other",
        "more": "KernelMagics",
        "notebook": "BasicMagics",
        "page": "BasicMagics",
        "pastebin": "CodeMagics",
        "pdb": "ExecutionMagics",
        "pdef": "NamespaceMagics",
        "pdoc": "NamespaceMagics",
        "pfile": "NamespaceMagics",
        "pinfo": "NamespaceMagics",
        "pinfo2": "NamespaceMagics",
        "pip": "PackagingMagics",
        "popd": "OSMagics",
        "pprint": "BasicMagics",
        "precision": "BasicMagics",
        "prun": "ExecutionMagics",
        "psearch": "NamespaceMagics",
        "psource": "NamespaceMagics",
        "pushd": "OSMagics",
        "pwd": "OSMagics",
        "pycat": "OSMagics",
        "pylab": "PylabMagics",
        "qtconsole": "KernelMagics",
        "quickref": "BasicMagics",
        "recall": "HistoryMagics",
        "rehashx": "OSMagics",
        "reload_ext": "ExtensionMagics",
        "ren": "Other",
        "rep": "Other",
        "rerun": "HistoryMagics",
        "reset": "NamespaceMagics",
        "reset_selective": "NamespaceMagics",
        "rmdir": "Other",
        "run": "ExecutionMagics",
        "save": "CodeMagics",
        "sc": "OSMagics",
        "set_env": "OSMagics",
        "store": "StoreMagics",
        "sx": "OSMagics",
        "system": "OSMagics",
        "tb": "ExecutionMagics",
        "time": "ExecutionMagics",
        "timeit": "ExecutionMagics",
        "unalias": "OSMagics",
        "unload_ext": "ExtensionMagics",
        "uv": "PackagingMagics",
        "who": "NamespaceMagics",
        "who_ls": "NamespaceMagics",
        "whos": "NamespaceMagics",
        "xdel": "NamespaceMagics",
        "xmode": "BasicMagics"
       }
      },
      "text/plain": [
       "Available line magics:\n",
       "%alias  %alias_magic  %autoawait  %autocall  %automagic  %autosave  %bookmark  %cd  %clear  %cls  %code_wrap  %colors  %conda  %config  %connect_info  %copy  %ddir  %debug  %dhist  %dirs  %doctest_mode  %echo  %ed  %edit  %env  %gui  %hist  %history  %killbgscripts  %ldir  %less  %load  %load_ext  %loadpy  %logoff  %logon  %logstart  %logstate  %logstop  %ls  %lsmagic  %macro  %magic  %mamba  %matplotlib  %micromamba  %mkdir  %more  %notebook  %page  %pastebin  %pdb  %pdef  %pdoc  %pfile  %pinfo  %pinfo2  %pip  %popd  %pprint  %precision  %prun  %psearch  %psource  %pushd  %pwd  %pycat  %pylab  %qtconsole  %quickref  %recall  %rehashx  %reload_ext  %ren  %rep  %rerun  %reset  %reset_selective  %rmdir  %run  %save  %sc  %set_env  %store  %sx  %system  %tb  %time  %timeit  %unalias  %unload_ext  %uv  %who  %who_ls  %whos  %xdel  %xmode\n",
       "\n",
       "Available cell magics:\n",
       "%%!  %%HTML  %%SVG  %%bash  %%capture  %%cmd  %%code_wrap  %%debug  %%file  %%html  %%javascript  %%js  %%latex  %%markdown  %%perl  %%prun  %%pypy  %%python  %%python2  %%python3  %%ruby  %%script  %%sh  %%svg  %%sx  %%system  %%time  %%timeit  %%writefile\n",
       "\n",
       "Automagic is ON, % prefix IS NOT needed for line magics."
      ]
     },
     "execution_count": 6,
     "metadata": {},
     "output_type": "execute_result"
    }
   ],
   "source": [
    "%lsmagic"
   ]
  },
  {
   "cell_type": "markdown",
   "id": "5f3aee34",
   "metadata": {},
   "source": [
    "%timeit sum(range(1_000)) を計測。"
   ]
  },
  {
   "cell_type": "code",
   "execution_count": 7,
   "id": "b295225f",
   "metadata": {},
   "outputs": [
    {
     "name": "stdout",
     "output_type": "stream",
     "text": [
      "10.3 μs ± 95 ns per loop (mean ± std. dev. of 7 runs, 100,000 loops each)\n"
     ]
    }
   ],
   "source": [
    "%timeit sum(range(1_000))"
   ]
  },
  {
   "cell_type": "markdown",
   "id": "503a1eef",
   "metadata": {},
   "source": [
    "%run hello.py で自作スクリプトを実行。"
   ]
  },
  {
   "cell_type": "code",
   "execution_count": 9,
   "id": "584da78f",
   "metadata": {},
   "outputs": [],
   "source": [
    "%run hello.py "
   ]
  },
  {
   "cell_type": "markdown",
   "id": "739805d3",
   "metadata": {},
   "source": [
    "%prun で自作関数のプロファイルを取得。"
   ]
  },
  {
   "cell_type": "code",
   "execution_count": 11,
   "id": "4562fd1c",
   "metadata": {},
   "outputs": [],
   "source": [
    "def sample_func_1():\n",
    "    index_list = []\n",
    "    for i in range(1000000):\n",
    "        index_list.append(i)\n",
    "\n",
    "\n",
    "def sample_func_2():\n",
    "    index_list = []\n",
    "    for i in range(2000000):\n",
    "        index_list.append(i)\n",
    "\n",
    "\n",
    "def sample_func_3():\n",
    "    index_list = []\n",
    "    for i in range(6000000):\n",
    "        index_list.append(i)\n",
    "\n",
    "\n",
    "def sample_func_4():\n",
    "    sample_func_1()\n",
    "    sample_func_2()\n",
    "    sample_func_3()\n"
   ]
  },
  {
   "cell_type": "code",
   "execution_count": 12,
   "id": "6d3dfa9a",
   "metadata": {},
   "outputs": [
    {
     "name": "stdout",
     "output_type": "stream",
     "text": [
      " "
     ]
    },
    {
     "name": "stdout",
     "output_type": "stream",
     "text": [
      "         9000187 function calls (9000185 primitive calls) in 2.060 seconds\n",
      "\n",
      "   Ordered by: internal time\n",
      "\n",
      "   ncalls  tottime  percall  cumtime  percall filename:lineno(function)\n",
      "  9000000    0.876    0.000    0.876    0.000 {method 'append' of 'list' objects}\n",
      "        1    0.703    0.703    1.289    1.289 2123655570.py:13(sample_func_3)\n",
      "        1    0.234    0.234    0.429    0.429 2123655570.py:7(sample_func_2)\n",
      "        1    0.111    0.111    1.992    1.992 {built-in method builtins.exec}\n",
      "        1    0.066    0.066    1.881    1.881 2123655570.py:19(sample_func_4)\n",
      "        1    0.052    0.052    0.097    0.097 2123655570.py:1(sample_func_1)\n",
      "        2    0.017    0.008    0.031    0.015 {method '__exit__' of 'sqlite3.Connection' objects}\n",
      "        1    0.000    0.000    0.000    0.000 {method 'disable' of '_lsprof.Profiler' objects}\n",
      "        2    0.000    0.000    0.000    0.000 attrsettr.py:66(_get_attr_opt)\n",
      "        1    0.000    0.000    0.000    0.000 socket.py:771(recv_multipart)\n",
      "        2    0.000    0.000    0.000    0.000 traitlets.py:3631(set)\n",
      "        2    0.000    0.000    0.000    0.000 attrsettr.py:43(__getattr__)\n",
      "        1    0.000    0.000    0.000    0.000 traitlets.py:1527(_notify_observers)\n",
      "        1    0.000    0.000    0.000    0.000 zmqstream.py:573(_handle_events)\n",
      "        2    0.000    0.000    0.000    0.000 traitlets.py:718(_validate)\n",
      "    32/30    0.000    0.000    0.000    0.000 {built-in method builtins.isinstance}\n",
      "        1    0.000    0.000    0.000    0.000 contextlib.py:145(__exit__)\n",
      "        2    0.000    0.000    0.000    0.000 traitlets.py:3474(validate)\n",
      "        2    0.000    0.000    0.000    0.000 traitlets.py:689(set)\n",
      "        2    0.000    0.000    0.000    0.000 traitlets.py:727(_cross_validate)\n",
      "        7    0.000    0.000    0.000    0.000 enum.py:695(__call__)\n",
      "        1    0.000    0.000    0.000    0.000 traitlets.py:1512(_notify_trait)\n",
      "        3    0.000    0.000    0.000    0.000 enum.py:1607(__and__)\n",
      "        2    0.000    0.000    0.000    0.000 traitlets.py:3624(validate_elements)\n",
      "        3    0.000    0.000    0.000    0.000 typing.py:426(inner)\n",
      "        1    0.000    0.000    0.000    0.000 queue.py:115(empty)\n",
      "        7    0.000    0.000    0.000    0.000 {built-in method builtins.hasattr}\n",
      "        2    0.000    0.000    0.000    0.000 traitlets.py:708(__set__)\n",
      "       12    0.000    0.000    0.000    0.000 enum.py:1589(_get_value)\n",
      "        2    0.000    0.000    0.000    0.000 base_events.py:772(time)\n",
      "        1    0.000    0.000    1.881    1.881 <string>:1(<module>)\n",
      "        2    0.000    0.000    0.000    0.000 traitlets.py:2304(validate)\n",
      "        1    0.000    0.000    0.000    0.000 zmqstream.py:653(_rebuild_io_state)\n",
      "        1    0.000    0.000    0.000    0.000 zmqstream.py:614(_handle_recv)\n",
      "        2    0.000    0.000    0.000    0.000 <frozen importlib._bootstrap>:1390(_handle_fromlist)\n",
      "        1    0.000    0.000    0.000    0.000 history.py:1016(_writeout_output_cache)\n",
      "        1    0.000    0.000    0.000    0.000 events.py:87(_run)\n",
      "        7    0.000    0.000    0.000    0.000 enum.py:1156(__new__)\n",
      "        1    0.000    0.000    0.000    0.000 traitlets.py:676(__get__)\n",
      "        1    0.000    0.000    0.000    0.000 traitlets.py:1523(notify_change)\n",
      "        1    0.000    0.000    0.000    0.000 zmqstream.py:684(<lambda>)\n",
      "        6    0.000    0.000    0.000    0.000 {built-in method builtins.len}\n",
      "        2    0.000    0.000    0.000    0.000 typing.py:1443(__hash__)\n",
      "        1    0.000    0.000    0.000    0.000 {built-in method builtins.next}\n",
      "        1    0.000    0.000    0.000    0.000 zmqstream.py:546(_run_callback)\n",
      "        1    0.000    0.000    0.000    0.000 {method 'run' of '_contextvars.Context' objects}\n",
      "        1    0.000    0.000    0.000    0.000 threading.py:303(__enter__)\n",
      "        1    0.000    0.000    0.000    0.000 typing.py:1665(__subclasscheck__)\n",
      "        1    0.000    0.000    0.000    0.000 ioloop.py:750(_run_callback)\n",
      "        4    0.000    0.000    0.000    0.000 {method 'get' of 'dict' objects}\n",
      "        1    0.000    0.000    0.000    0.000 <frozen abc>:121(__subclasscheck__)\n",
      "        1    0.000    0.000    0.000    0.000 threading.py:312(_release_save)\n",
      "        1    0.000    0.000    0.000    0.000 typing.py:1374(__instancecheck__)\n",
      "        3    0.000    0.000    0.000    0.000 {method '__exit__' of '_thread.lock' objects}\n",
      "        2    0.000    0.000    0.000    0.000 traitlets.py:3486(validate_elements)\n",
      "        1    0.000    0.000    0.000    0.000 iostream.py:157(_handle_event)\n",
      "        1    0.000    0.000    0.000    0.000 enum.py:1596(__or__)\n",
      "       13    0.000    0.000    0.000    0.000 typing.py:2371(cast)\n",
      "        1    0.000    0.000    0.000    0.000 zmqstream.py:532(sending)\n",
      "        2    0.000    0.000    0.000    0.000 {built-in method builtins.getattr}\n",
      "        1    0.000    0.000    0.000    0.000 threading.py:318(_is_owned)\n",
      "        1    0.000    0.000    0.000    0.000 {built-in method builtins.issubclass}\n",
      "        1    0.000    0.000    0.000    0.000 traitlets.py:629(get)\n",
      "        1    0.000    0.000    0.000    0.000 zmqstream.py:676(_update_handler)\n",
      "        2    0.000    0.000    0.000    0.000 {method 'acquire' of '_thread.lock' objects}\n",
      "        1    0.000    0.000    0.000    0.000 {built-in method _abc._abc_subclasscheck}\n",
      "        2    0.000    0.000    0.000    0.000 {built-in method time.monotonic}\n",
      "        2    0.000    0.000    0.000    0.000 {method 'upper' of 'str' objects}\n",
      "        1    0.000    0.000    0.000    0.000 queue.py:267(_qsize)\n",
      "        2    0.000    0.000    0.000    0.000 {method 'extend' of 'list' objects}\n",
      "        1    0.000    0.000    0.000    0.000 {method 'append' of 'collections.deque' objects}\n",
      "        1    0.000    0.000    0.000    0.000 {method '__enter__' of '_thread.lock' objects}\n",
      "        1    0.000    0.000    0.000    0.000 selector_events.py:740(_process_events)\n",
      "        1    0.000    0.000    0.000    0.000 {method 'popleft' of 'collections.deque' objects}\n",
      "        1    0.000    0.000    0.000    0.000 {method 'release' of '_thread.lock' objects}\n",
      "        2    0.000    0.000    0.000    0.000 zmqstream.py:528(receiving)\n",
      "        1    0.000    0.000    0.000    0.000 {built-in method _thread.allocate_lock}\n",
      "        2    0.000    0.000    0.000    0.000 {built-in method builtins.hash}\n",
      "        1    0.000    0.000    0.000    0.000 {built-in method builtins.max}\n",
      "        1    0.000    0.000    0.000    0.000 history.py:1065(hold)"
     ]
    }
   ],
   "source": [
    "%%prun\n",
    "sample_func_4()"
   ]
  },
  {
   "cell_type": "markdown",
   "id": "1c573f32",
   "metadata": {},
   "source": [
    "Python リスト [1,2,3] を作り type() を確認。"
   ]
  },
  {
   "cell_type": "code",
   "execution_count": 14,
   "id": "cef950e9",
   "metadata": {},
   "outputs": [
    {
     "data": {
      "text/plain": [
       "list"
      ]
     },
     "execution_count": 14,
     "metadata": {},
     "output_type": "execute_result"
    }
   ],
   "source": [
    "A=[1,2,3]\n",
    "type(A)"
   ]
  },
  {
   "cell_type": "markdown",
   "id": "711cf516",
   "metadata": {},
   "source": [
    "同じ要素で np.array を作り型を比較。"
   ]
  },
  {
   "cell_type": "code",
   "execution_count": 15,
   "id": "cd344c9f",
   "metadata": {},
   "outputs": [
    {
     "data": {
      "text/plain": [
       "numpy.ndarray"
      ]
     },
     "execution_count": 15,
     "metadata": {},
     "output_type": "execute_result"
    }
   ],
   "source": [
    "B=np.array(A)\n",
    "type(B)"
   ]
  },
  {
   "cell_type": "markdown",
   "id": "bac43200",
   "metadata": {},
   "source": [
    "arr = np.arange(10) の shape, dtype, ndim を表示。"
   ]
  },
  {
   "cell_type": "code",
   "execution_count": 17,
   "id": "89d3b07e",
   "metadata": {},
   "outputs": [
    {
     "name": "stdout",
     "output_type": "stream",
     "text": [
      "[0 1 2 3 4 5 6 7 8 9]\n",
      "(10,)\n",
      "int64\n",
      "1\n"
     ]
    }
   ],
   "source": [
    "arr=np.arange(10)\n",
    "print(arr)\n",
    "print(arr.shape)\n",
    "print(arr.dtype)\n",
    "print(arr.ndim)"
   ]
  },
  {
   "cell_type": "markdown",
   "id": "53d4df38",
   "metadata": {},
   "source": [
    "14. `np.zeros((10,10))` を生成。\n"
   ]
  },
  {
   "cell_type": "code",
   "execution_count": 18,
   "id": "a086fa4e",
   "metadata": {},
   "outputs": [
    {
     "data": {
      "text/plain": [
       "array([[0., 0., 0., 0., 0., 0., 0., 0., 0., 0.],\n",
       "       [0., 0., 0., 0., 0., 0., 0., 0., 0., 0.],\n",
       "       [0., 0., 0., 0., 0., 0., 0., 0., 0., 0.],\n",
       "       [0., 0., 0., 0., 0., 0., 0., 0., 0., 0.],\n",
       "       [0., 0., 0., 0., 0., 0., 0., 0., 0., 0.],\n",
       "       [0., 0., 0., 0., 0., 0., 0., 0., 0., 0.],\n",
       "       [0., 0., 0., 0., 0., 0., 0., 0., 0., 0.],\n",
       "       [0., 0., 0., 0., 0., 0., 0., 0., 0., 0.],\n",
       "       [0., 0., 0., 0., 0., 0., 0., 0., 0., 0.],\n",
       "       [0., 0., 0., 0., 0., 0., 0., 0., 0., 0.]])"
      ]
     },
     "execution_count": 18,
     "metadata": {},
     "output_type": "execute_result"
    }
   ],
   "source": [
    "z=np.zeros((10,10))\n",
    "z"
   ]
  },
  {
   "cell_type": "markdown",
   "id": "0fd9f292",
   "metadata": {},
   "source": [
    "arr.reshape(2,5) で形状変更。"
   ]
  },
  {
   "cell_type": "code",
   "execution_count": 22,
   "id": "ad892fff",
   "metadata": {},
   "outputs": [
    {
     "data": {
      "text/plain": [
       "array([[0, 1, 2, 3, 4],\n",
       "       [5, 6, 7, 8, 9]])"
      ]
     },
     "execution_count": 22,
     "metadata": {},
     "output_type": "execute_result"
    }
   ],
   "source": [
    "arr_reshape=arr.reshape(2,5)\n",
    "arr_reshape"
   ]
  },
  {
   "cell_type": "markdown",
   "id": "88caad01",
   "metadata": {},
   "source": [
    "np.linspace(0,1,5) を生成。"
   ]
  },
  {
   "cell_type": "code",
   "execution_count": null,
   "id": "ea61361b",
   "metadata": {},
   "outputs": [],
   "source": [
    "np.linspace?"
   ]
  },
  {
   "cell_type": "code",
   "execution_count": 25,
   "id": "cfec8b77",
   "metadata": {},
   "outputs": [
    {
     "data": {
      "text/plain": [
       "array([0.  , 0.25, 0.5 , 0.75, 1.  ])"
      ]
     },
     "execution_count": 25,
     "metadata": {},
     "output_type": "execute_result"
    }
   ],
   "source": [
    "B=np.linspace(0,1,5)\n",
    "B"
   ]
  },
  {
   "cell_type": "markdown",
   "id": "7e546259",
   "metadata": {},
   "source": [
    "for ループで 1‒1e7 合計を計測。"
   ]
  },
  {
   "cell_type": "code",
   "execution_count": 28,
   "id": "9fa86a79",
   "metadata": {},
   "outputs": [
    {
     "name": "stdout",
     "output_type": "stream",
     "text": [
      "307 ms ± 3.6 ms per loop (mean ± std. dev. of 7 runs, 1 loop each)\n"
     ]
    }
   ],
   "source": [
    "%%timeit\n",
    "\n",
    "c=0\n",
    "for i in range(1,10**7+1):\n",
    "    c+=i\n",
    "c"
   ]
  },
  {
   "cell_type": "markdown",
   "id": "7776ff1b",
   "metadata": {},
   "source": [
    "同じ計算を np.sum で行い速度比較。"
   ]
  },
  {
   "cell_type": "code",
   "execution_count": 32,
   "id": "53c1eb23",
   "metadata": {},
   "outputs": [
    {
     "name": "stdout",
     "output_type": "stream",
     "text": [
      "26.5 ms ± 734 μs per loop (mean ± std. dev. of 7 runs, 10 loops each)\n"
     ]
    }
   ],
   "source": [
    "%%timeit\n",
    "npsum=np.sum(np.arange(1,10**7+1))\n",
    "npsum"
   ]
  },
  {
   "cell_type": "markdown",
   "id": "e50cce21",
   "metadata": {},
   "source": [
    "dtype='float32' の乱数 100 万個を生成。"
   ]
  },
  {
   "cell_type": "code",
   "execution_count": 33,
   "id": "7e156a9e",
   "metadata": {},
   "outputs": [],
   "source": [
    "import random"
   ]
  },
  {
   "cell_type": "code",
   "execution_count": 43,
   "id": "a6d7320f",
   "metadata": {},
   "outputs": [
    {
     "name": "stdout",
     "output_type": "stream",
     "text": [
      "37.5 ms ± 681 μs per loop (mean ± std. dev. of 7 runs, 10 loops each)\n"
     ]
    }
   ],
   "source": [
    "%%timeit\n",
    "for _ in range(1000000):\n",
    "    random.random()\n",
    "\n",
    "type(random.random())"
   ]
  },
  {
   "cell_type": "markdown",
   "id": "6b2c5793",
   "metadata": {},
   "source": [
    "dtype='float32' の乱数 100 万個を生成。"
   ]
  },
  {
   "cell_type": "code",
   "execution_count": 54,
   "id": "a59e9e67",
   "metadata": {},
   "outputs": [
    {
     "data": {
      "text/plain": [
       "array([0.5046811 , 0.9345454 , 0.33262816, ..., 0.38014734, 0.15653077,\n",
       "       0.34811625], shape=(1000000,), dtype=float32)"
      ]
     },
     "execution_count": 54,
     "metadata": {},
     "output_type": "execute_result"
    }
   ],
   "source": [
    "np.random.rand(1000000).astype(np.float32)"
   ]
  },
  {
   "cell_type": "markdown",
   "id": "cbbff312",
   "metadata": {},
   "source": [
    "コピーとビューの挙動を確認。"
   ]
  },
  {
   "cell_type": "code",
   "execution_count": 55,
   "id": "13ebdeee",
   "metadata": {},
   "outputs": [
    {
     "name": "stdout",
     "output_type": "stream",
     "text": [
      "元の配列: [1 2 3 4 5]\n",
      "コピーされた配列: [1 2 3 4 5]\n",
      "コピーを変更後: [99  2  3  4  5]\n",
      "元の配列 (変化なし): [1 2 3 4 5]\n"
     ]
    }
   ],
   "source": [
    "# 元の配列\n",
    "original_array = np.array([1, 2, 3, 4, 5])\n",
    "print(\"元の配列:\", original_array)\n",
    "\n",
    "# コピーを作成\n",
    "copied_array = original_array.copy()\n",
    "print(\"コピーされた配列:\", copied_array)\n",
    "\n",
    "# コピーを変更\n",
    "copied_array[0] = 99\n",
    "print(\"コピーを変更後:\", copied_array)\n",
    "print(\"元の配列 (変化なし):\", original_array)\n"
   ]
  },
  {
   "cell_type": "code",
   "execution_count": 56,
   "id": "228424cd",
   "metadata": {},
   "outputs": [
    {
     "data": {
      "text/plain": [
       "array([ 5,  6,  7,  8,  9, 10, 11, 12, 13, 14])"
      ]
     },
     "execution_count": 56,
     "metadata": {},
     "output_type": "execute_result"
    }
   ],
   "source": [
    "zeroto99=np.arange(100)\n",
    "zeroto99[5:15]"
   ]
  },
  {
   "cell_type": "code",
   "execution_count": 67,
   "id": "981c5813",
   "metadata": {},
   "outputs": [
    {
     "data": {
      "text/plain": [
       "array([[0.36299215, 0.14113208, 0.1675409 , 0.07018762, 0.23225158,\n",
       "        0.37938882, 0.79561016, 0.80391638, 0.85289187, 0.58404721],\n",
       "       [0.78450903, 0.54580706, 0.01214294, 0.00359842, 0.03141421,\n",
       "        0.25305525, 0.27037982, 0.29719836, 0.30239593, 0.24460734],\n",
       "       [0.96692448, 0.88661685, 0.27248427, 0.31776818, 0.11701264,\n",
       "        0.45632456, 0.08454866, 0.99405197, 0.16624555, 0.81318747],\n",
       "       [0.41748381, 0.18421164, 0.30628649, 0.86819575, 0.26715028,\n",
       "        0.38414402, 0.50117447, 0.96958957, 0.93492302, 0.21405413],\n",
       "       [0.04384182, 0.6006158 , 0.07222526, 0.91271444, 0.63165852,\n",
       "        0.16171922, 0.11532212, 0.67036596, 0.36277024, 0.64103941],\n",
       "       [0.12524127, 0.29265946, 0.72903712, 0.21832846, 0.30810774,\n",
       "        0.64315293, 0.93769788, 0.90444555, 0.23245298, 0.61836503],\n",
       "       [0.14556648, 0.91895951, 0.89256575, 0.65154766, 0.79878613,\n",
       "        0.0870503 , 0.62490813, 0.13657838, 0.85951824, 0.13245221],\n",
       "       [0.75017235, 0.6550988 , 0.04881851, 0.95848015, 0.35454547,\n",
       "        0.12826083, 0.57660656, 0.48701694, 0.28017121, 0.90854413],\n",
       "       [0.92420919, 0.56676753, 0.86088038, 0.42130648, 0.45477381,\n",
       "        0.32726937, 0.47209808, 0.67610556, 0.7357587 , 0.57825514],\n",
       "       [0.87124763, 0.15386149, 0.75503057, 0.85899301, 0.29763375,\n",
       "        0.3709647 , 0.92799209, 0.85868203, 0.02056232, 0.64815642]])"
      ]
     },
     "execution_count": 67,
     "metadata": {},
     "output_type": "execute_result"
    }
   ],
   "source": [
    "random_matrix = np.random.rand(10, 10)\n",
    "random_matrix"
   ]
  },
  {
   "cell_type": "markdown",
   "id": "6a66207f",
   "metadata": {},
   "source": [
    "10×10 配列の 1 行目を取得。"
   ]
  },
  {
   "cell_type": "code",
   "execution_count": 60,
   "id": "41889777",
   "metadata": {},
   "outputs": [
    {
     "data": {
      "text/plain": [
       "array([0.94808679, 0.02449398, 0.21758012, 0.50272685, 0.2501649 ,\n",
       "       0.37924143, 0.98888533, 0.58935063, 0.64729083, 0.19324155])"
      ]
     },
     "execution_count": 60,
     "metadata": {},
     "output_type": "execute_result"
    }
   ],
   "source": [
    "random_matrix[0]"
   ]
  },
  {
   "cell_type": "markdown",
   "id": "8740fd97",
   "metadata": {},
   "source": [
    "同配列の 1 列目を取得。"
   ]
  },
  {
   "cell_type": "code",
   "execution_count": 61,
   "id": "4afe6094",
   "metadata": {},
   "outputs": [
    {
     "data": {
      "text/plain": [
       "array([0.94808679, 0.11536561, 0.17601435, 0.85054828, 0.30448198,\n",
       "       0.08530256, 0.77704469, 0.15672408, 0.90463877, 0.33797877])"
      ]
     },
     "execution_count": 61,
     "metadata": {},
     "output_type": "execute_result"
    }
   ],
   "source": [
    "random_matrix[:,0]"
   ]
  },
  {
   "cell_type": "markdown",
   "id": "f71c1dfa",
   "metadata": {},
   "source": [
    "3×3 のサブ配列をスライス取得。"
   ]
  },
  {
   "cell_type": "code",
   "execution_count": 62,
   "id": "6456497a",
   "metadata": {},
   "outputs": [
    {
     "data": {
      "text/plain": [
       "array([[0.94808679, 0.02449398, 0.21758012],\n",
       "       [0.11536561, 0.5586268 , 0.18507408],\n",
       "       [0.17601435, 0.98544903, 0.71855757]])"
      ]
     },
     "execution_count": 62,
     "metadata": {},
     "output_type": "execute_result"
    }
   ],
   "source": [
    "random_matrix[:3,:3]"
   ]
  },
  {
   "cell_type": "markdown",
   "id": "5ec853db",
   "metadata": {},
   "source": [
    "ビューを変更して元配列も変わることを確認。"
   ]
  },
  {
   "cell_type": "code",
   "execution_count": 64,
   "id": "89742729",
   "metadata": {},
   "outputs": [
    {
     "data": {
      "text/plain": [
       "array([0.        , 0.02449398, 0.21758012, 0.50272685, 0.2501649 ,\n",
       "       0.37924143, 0.98888533, 0.58935063, 0.64729083, 0.19324155])"
      ]
     },
     "execution_count": 64,
     "metadata": {},
     "output_type": "execute_result"
    }
   ],
   "source": [
    "c=random_matrix\n",
    "c[0,0]=0\n",
    "random_matrix[0]"
   ]
  },
  {
   "cell_type": "markdown",
   "id": "db6aad04",
   "metadata": {},
   "source": [
    "(2,3) 要素を書き換え。"
   ]
  },
  {
   "cell_type": "code",
   "execution_count": 70,
   "id": "e1fd2e4c",
   "metadata": {},
   "outputs": [
    {
     "data": {
      "text/plain": [
       "array([[0.        , 0.02449398, 0.21758012],\n",
       "       [0.11536561, 0.5586268 , 0.18507408],\n",
       "       [0.17601435, 0.98544903, 0.        ]])"
      ]
     },
     "execution_count": 70,
     "metadata": {},
     "output_type": "execute_result"
    }
   ],
   "source": [
    "c[2,2]=0\n",
    "c[:3,:3]"
   ]
  },
  {
   "cell_type": "markdown",
   "id": "96884317",
   "metadata": {},
   "source": [
    "arr[::-1] で逆順。"
   ]
  },
  {
   "cell_type": "code",
   "execution_count": 109,
   "id": "f207baef",
   "metadata": {},
   "outputs": [],
   "source": [
    "original=np.array([\n",
    "     [1,2,3,4,5,6,7,8,9,10],\n",
    "     [11,12,13,14,15,16,17,18,19,20],\n",
    "     [21,22,23,24,25,26,27,28,29,30],\n",
    "     [31,32,33,34,35,36,37,38,39,40]\n",
    "     ])"
   ]
  },
  {
   "cell_type": "code",
   "execution_count": 110,
   "id": "b6226597",
   "metadata": {},
   "outputs": [],
   "source": [
    "arr=original.copy()"
   ]
  },
  {
   "cell_type": "code",
   "execution_count": 111,
   "id": "044b00f2",
   "metadata": {},
   "outputs": [
    {
     "data": {
      "text/plain": [
       "array([[31, 32, 33, 34, 35, 36, 37, 38, 39, 40],\n",
       "       [21, 22, 23, 24, 25, 26, 27, 28, 29, 30],\n",
       "       [11, 12, 13, 14, 15, 16, 17, 18, 19, 20],\n",
       "       [ 1,  2,  3,  4,  5,  6,  7,  8,  9, 10]])"
      ]
     },
     "execution_count": 111,
     "metadata": {},
     "output_type": "execute_result"
    }
   ],
   "source": [
    "arr[::-1]"
   ]
  },
  {
   "cell_type": "markdown",
   "id": "326b0d9e",
   "metadata": {},
   "source": [
    "arr[:,::2] で偶数列抽出。"
   ]
  },
  {
   "cell_type": "code",
   "execution_count": 98,
   "id": "3fe651d5",
   "metadata": {},
   "outputs": [
    {
     "data": {
      "text/plain": [
       "array([[ 1,  3,  5,  7,  9],\n",
       "       [11, 13, 15, 17, 19],\n",
       "       [21, 23, 25, 27, 29],\n",
       "       [31, 33, 35, 37, 39]])"
      ]
     },
     "execution_count": 98,
     "metadata": {},
     "output_type": "execute_result"
    }
   ],
   "source": [
    "\n",
    "arr[:,::2]"
   ]
  },
  {
   "cell_type": "markdown",
   "id": "e17d4050",
   "metadata": {},
   "source": [
    "3 の倍数だけ抽出。"
   ]
  },
  {
   "cell_type": "code",
   "execution_count": 99,
   "id": "1222fca9",
   "metadata": {},
   "outputs": [
    {
     "data": {
      "text/plain": [
       "array([ 3,  6,  9, 12, 15, 18, 21, 24, 27, 33, 36, 39])"
      ]
     },
     "execution_count": 99,
     "metadata": {},
     "output_type": "execute_result"
    }
   ],
   "source": [
    "arr[arr%3==0]"
   ]
  },
  {
   "cell_type": "markdown",
   "id": "5d1e2aeb",
   "metadata": {},
   "source": [
    "奇数を ‑1 に置換。"
   ]
  },
  {
   "cell_type": "code",
   "execution_count": 106,
   "id": "eb6c6440",
   "metadata": {},
   "outputs": [
    {
     "data": {
      "text/plain": [
       "array([[-1,  2, -1,  4, -1,  6, -1,  8, -1, 10],\n",
       "       [-1, 12, -1, 14, -1, 16, -1, 18, -1, 20],\n",
       "       [-1, 22, -1, 24, -1, 26, -1, 28, -1, 40],\n",
       "       [-1, 32, -1, 34, -1, 36, -1, 38, -1, 40]])"
      ]
     },
     "execution_count": 106,
     "metadata": {},
     "output_type": "execute_result"
    }
   ],
   "source": [
    "arr[arr%2!=0]=-1\n",
    "arr"
   ]
  },
  {
   "cell_type": "code",
   "execution_count": 133,
   "id": "ad0d2057",
   "metadata": {},
   "outputs": [
    {
     "data": {
      "text/plain": [
       "array([[ 1,  2,  3,  4,  5,  6,  7,  8,  9, 10],\n",
       "       [11, 12, 13, 14, 15, 16, 17, 18, 19, 20],\n",
       "       [21, 22, 23, 24, 25, 26, 27, 28, 29, 30],\n",
       "       [31, 32, 33, 34, 35, 36, 37, 38, 39, 40]])"
      ]
     },
     "execution_count": 133,
     "metadata": {},
     "output_type": "execute_result"
    }
   ],
   "source": [
    "original"
   ]
  },
  {
   "cell_type": "markdown",
   "id": "e8534ef4",
   "metadata": {},
   "source": [
    "np.square(arr) を計算。"
   ]
  },
  {
   "cell_type": "code",
   "execution_count": 112,
   "id": "fe2776da",
   "metadata": {},
   "outputs": [
    {
     "data": {
      "text/plain": [
       "array([[   1,    4,    9,   16,   25,   36,   49,   64,   81,  100],\n",
       "       [ 121,  144,  169,  196,  225,  256,  289,  324,  361,  400],\n",
       "       [ 441,  484,  529,  576,  625,  676,  729,  784,  841,  900],\n",
       "       [ 961, 1024, 1089, 1156, 1225, 1296, 1369, 1444, 1521, 1600]])"
      ]
     },
     "execution_count": 112,
     "metadata": {},
     "output_type": "execute_result"
    }
   ],
   "source": [
    "np.square(original)"
   ]
  },
  {
   "cell_type": "markdown",
   "id": "ad4873db",
   "metadata": {},
   "source": [
    "np.sin, np.cos, np.tan を一括計算。"
   ]
  },
  {
   "cell_type": "code",
   "execution_count": 115,
   "id": "6c010d9a",
   "metadata": {},
   "outputs": [
    {
     "name": "stdout",
     "output_type": "stream",
     "text": [
      "0.7071067811865476\n",
      "0.7071067811865476\n",
      "0.9999999999999999\n"
     ]
    }
   ],
   "source": [
    "theta=np.pi*(45/180)\n",
    "theta\n",
    "print(np.sin(theta))\n",
    "print(np.cos(theta))\n",
    "print(np.tan(theta))"
   ]
  },
  {
   "cell_type": "markdown",
   "id": "873355f6",
   "metadata": {},
   "source": [
    "np.square(arr) を計算。"
   ]
  },
  {
   "cell_type": "code",
   "execution_count": 119,
   "id": "4d307163",
   "metadata": {},
   "outputs": [
    {
     "data": {
      "text/plain": [
       "array([[2.71828183e+00, 7.38905610e+00, 2.00855369e+01, 5.45981500e+01,\n",
       "        1.48413159e+02, 4.03428793e+02, 1.09663316e+03, 2.98095799e+03,\n",
       "        8.10308393e+03, 2.20264658e+04],\n",
       "       [5.98741417e+04, 1.62754791e+05, 4.42413392e+05, 1.20260428e+06,\n",
       "        3.26901737e+06, 8.88611052e+06, 2.41549528e+07, 6.56599691e+07,\n",
       "        1.78482301e+08, 4.85165195e+08],\n",
       "       [1.31881573e+09, 3.58491285e+09, 9.74480345e+09, 2.64891221e+10,\n",
       "        7.20048993e+10, 1.95729609e+11, 5.32048241e+11, 1.44625706e+12,\n",
       "        3.93133430e+12, 1.06864746e+13],\n",
       "       [2.90488497e+13, 7.89629602e+13, 2.14643580e+14, 5.83461743e+14,\n",
       "        1.58601345e+15, 4.31123155e+15, 1.17191424e+16, 3.18559318e+16,\n",
       "        8.65934004e+16, 2.35385267e+17]])"
      ]
     },
     "execution_count": 119,
     "metadata": {},
     "output_type": "execute_result"
    }
   ],
   "source": [
    "np.exp(arr)"
   ]
  },
  {
   "cell_type": "markdown",
   "id": "9dd52856",
   "metadata": {},
   "source": [
    "乱数 100 万個の平均を計算。"
   ]
  },
  {
   "cell_type": "code",
   "execution_count": 124,
   "id": "c5be87b5",
   "metadata": {},
   "outputs": [],
   "source": [
    "n=1000000\n",
    "a=np.random.rand(n)"
   ]
  },
  {
   "cell_type": "code",
   "execution_count": 125,
   "id": "150aee34",
   "metadata": {},
   "outputs": [
    {
     "data": {
      "text/plain": [
       "np.float64(0.5001624570871291)"
      ]
     },
     "execution_count": 125,
     "metadata": {},
     "output_type": "execute_result"
    }
   ],
   "source": [
    "a.sum()/n"
   ]
  },
  {
   "cell_type": "markdown",
   "id": "a3c36a06",
   "metadata": {},
   "source": [
    "最大値と最小値の差を求める。"
   ]
  },
  {
   "cell_type": "code",
   "execution_count": 126,
   "id": "a7187d4e",
   "metadata": {},
   "outputs": [
    {
     "data": {
      "text/plain": [
       "np.float64(0.9999991804720388)"
      ]
     },
     "execution_count": 126,
     "metadata": {},
     "output_type": "execute_result"
    }
   ],
   "source": [
    "min_a=min(a)\n",
    "max_a=max(a)\n",
    "max_a-min_a"
   ]
  },
  {
   "cell_type": "markdown",
   "id": "8981633c",
   "metadata": {},
   "source": [
    " 次元配列で axis=0 合計。"
   ]
  },
  {
   "cell_type": "code",
   "execution_count": 132,
   "id": "29ad7b12",
   "metadata": {},
   "outputs": [
    {
     "data": {
      "text/plain": [
       "array([ 64,  68,  72,  76,  80,  84,  88,  92,  96, 100])"
      ]
     },
     "execution_count": 132,
     "metadata": {},
     "output_type": "execute_result"
    }
   ],
   "source": [
    "sum_axis_0 = np.sum(original, axis=0)\n",
    "sum_axis_0"
   ]
  },
  {
   "cell_type": "markdown",
   "id": "e8a24ca1",
   "metadata": {},
   "source": [
    "np.percentile で 25/50/75 % 点。"
   ]
  },
  {
   "cell_type": "code",
   "execution_count": 143,
   "id": "323f6ad5",
   "metadata": {},
   "outputs": [
    {
     "name": "stdout",
     "output_type": "stream",
     "text": [
      "1.0\n",
      "10.75\n",
      "20.5\n",
      "30.25\n",
      "40.0\n"
     ]
    }
   ],
   "source": [
    "for i in [0,25,50,75,100]:\n",
    "    print(np.percentile(original,i))"
   ]
  },
  {
   "cell_type": "markdown",
   "id": "041a3c89",
   "metadata": {},
   "source": [
    "argsort で昇順インデックス。"
   ]
  },
  {
   "cell_type": "code",
   "execution_count": 144,
   "id": "34369295",
   "metadata": {},
   "outputs": [
    {
     "data": {
      "text/plain": [
       "array([[0, 1, 2, 3, 4, 5, 6, 7, 8, 9],\n",
       "       [0, 1, 2, 3, 4, 5, 6, 7, 8, 9],\n",
       "       [0, 1, 2, 3, 4, 5, 6, 7, 8, 9],\n",
       "       [0, 1, 2, 3, 4, 5, 6, 7, 8, 9]])"
      ]
     },
     "execution_count": 144,
     "metadata": {},
     "output_type": "execute_result"
    }
   ],
   "source": [
    "np.argsort(original)"
   ]
  },
  {
   "cell_type": "markdown",
   "id": "7f6d9f42",
   "metadata": {},
   "source": [
    "partition で上位 5 要素抽出。"
   ]
  },
  {
   "cell_type": "code",
   "execution_count": 161,
   "id": "3db430c8",
   "metadata": {},
   "outputs": [
    {
     "name": "stdout",
     "output_type": "stream",
     "text": [
      "[ 64  68  72  76  80  84  88  92  96 100]\n"
     ]
    },
    {
     "data": {
      "text/plain": [
       "array([64, 68, 72, 76, 80])"
      ]
     },
     "execution_count": 161,
     "metadata": {},
     "output_type": "execute_result"
    }
   ],
   "source": [
    "p=np.partition(sum_axis_0,kth=5)\n",
    "print(p)\n",
    "p[:5]\n"
   ]
  },
  {
   "cell_type": "markdown",
   "id": "dda24cf1",
   "metadata": {},
   "source": [
    "rng = np.random.default_rng(0) で再現可能に。"
   ]
  },
  {
   "cell_type": "code",
   "execution_count": 13,
   "id": "a67ee440",
   "metadata": {},
   "outputs": [
    {
     "name": "stdout",
     "output_type": "stream",
     "text": [
      "--- Run 1 ---\n",
      "Random integers (rng1): [8 6 5 2 3]\n",
      "Random floats (rng1): [0.01652764 0.81327024 0.91275558]\n",
      "\n",
      "--- Run 2 (Same Seed) ---\n",
      "Random integers (rng2): [8 6 5 2 3]\n",
      "Random floats (rng2): [0.01652764 0.81327024 0.91275558]\n"
     ]
    }
   ],
   "source": [
    "print(\"--- Run 1 ---\")\n",
    "rng1 = np.random.default_rng(0) # Seeded with 0\n",
    "print(\"Random integers (rng1):\", rng1.integers(10, size=5))\n",
    "print(\"Random floats (rng1):\", rng1.random(size=3))\n",
    "\n",
    "print(\"\\n--- Run 2 (Same Seed) ---\")\n",
    "rng2 = np.random.default_rng(0) # Seeded with 0 again\n",
    "print(\"Random integers (rng2):\", rng2.integers(10, size=5))\n",
    "print(\"Random floats (rng2):\", rng2.random(size=3))"
   ]
  },
  {
   "cell_type": "code",
   "execution_count": 14,
   "id": "add0a5fd",
   "metadata": {},
   "outputs": [
    {
     "data": {
      "text/plain": [
       "array([[8, 6, 5, 2, 3],\n",
       "       [0, 0, 0, 1, 8],\n",
       "       [6, 9, 5, 6, 9],\n",
       "       [7, 6, 5, 5, 9],\n",
       "       [2, 8, 6, 0, 3]])"
      ]
     },
     "execution_count": 14,
     "metadata": {},
     "output_type": "execute_result"
    }
   ],
   "source": [
    "rng1 = np.random.default_rng(0)\n",
    "random_matrix2 = rng1.integers(10, size=(5,5))\n",
    "random_matrix2"
   ]
  },
  {
   "cell_type": "markdown",
   "id": "079985b2",
   "metadata": {},
   "source": [
    "5×5 配列に [0,1,2,3,4] を足す。"
   ]
  },
  {
   "cell_type": "code",
   "execution_count": 15,
   "id": "99b7896a",
   "metadata": {},
   "outputs": [
    {
     "data": {
      "text/plain": [
       "array([[ 8,  7,  7,  5,  7],\n",
       "       [ 0,  1,  2,  4, 12],\n",
       "       [ 6, 10,  7,  9, 13],\n",
       "       [ 7,  7,  7,  8, 13],\n",
       "       [ 2,  9,  8,  3,  7]])"
      ]
     },
     "execution_count": 15,
     "metadata": {},
     "output_type": "execute_result"
    }
   ],
   "source": [
    "random_matrix2+np.array([0,1,2,3,4])"
   ]
  },
  {
   "cell_type": "markdown",
   "id": "f3e05903",
   "metadata": {},
   "source": [
    "列方向に平均 0 のセンタリング。"
   ]
  },
  {
   "cell_type": "code",
   "execution_count": 16,
   "id": "3bfdd7c0",
   "metadata": {},
   "outputs": [
    {
     "data": {
      "text/plain": [
       "array([[ 3.4,  0.2,  0.8, -0.8, -3.4],\n",
       "       [-4.6, -5.8, -4.2, -1.8,  1.6],\n",
       "       [ 1.4,  3.2,  0.8,  3.2,  2.6],\n",
       "       [ 2.4,  0.2,  0.8,  2.2,  2.6],\n",
       "       [-2.6,  2.2,  1.8, -2.8, -3.4]])"
      ]
     },
     "execution_count": 16,
     "metadata": {},
     "output_type": "execute_result"
    }
   ],
   "source": [
    "column_means=random_matrix2.mean(axis=0)\n",
    "centered=random_matrix2-column_means\n",
    "centered"
   ]
  },
  {
   "cell_type": "code",
   "execution_count": 17,
   "id": "a95ab6ac",
   "metadata": {},
   "outputs": [
    {
     "data": {
      "text/plain": [
       "array([ 3.55271368e-16,  1.77635684e-16, -1.77635684e-16,  1.77635684e-16,\n",
       "       -3.55271368e-16])"
      ]
     },
     "execution_count": 17,
     "metadata": {},
     "output_type": "execute_result"
    }
   ],
   "source": [
    "centered.mean(axis=0)"
   ]
  },
  {
   "cell_type": "markdown",
   "id": "709d3108",
   "metadata": {},
   "source": [
    "メッシュグリッドで z = sin(x)+cos(y)。"
   ]
  },
  {
   "cell_type": "code",
   "execution_count": null,
   "id": "18e16c53",
   "metadata": {},
   "outputs": [],
   "source": [
    "import numpy as np\n",
    "import matplotlib.pyplot as plt\n",
    "from mpl_toolkits.mplot3d import Axes3D # 3Dプロットに必要\n",
    "\n",
    "# 1. x, yの範囲を定義\n",
    "# -2π から 2π までを100分割した配列を生成\n",
    "x = np.linspace(-2 * np.pi, 2 * np.pi, 100)\n",
    "y = np.linspace(-2 * np.pi, 2 * np.pi, 100)\n",
    "\n",
    "# 2. メッシュグリッドを生成\n",
    "# xとyの1次元配列から、2次元の座標グリッドX, Yを生成\n",
    "X, Y = np.meshgrid(x, y)\n",
    "\n",
    "# 3. zの値を計算\n",
    "# 各(X, Y)座標に対して Z = sin(X) + cos(Y) を計算\n",
    "Z = np.sin(X) + np.cos(Y)\n",
    "\n",
    "# 4. 3Dプロットの準備\n",
    "fig = plt.figure(figsize=(10, 8))\n",
    "ax = fig.add_subplot(111, projection='3d')\n",
    "\n",
    "# 5. 3D曲面プロットを実行\n",
    "# cmapでカラーマップを指定すると見やすくなる\n",
    "surf = ax.plot_surface(X, Y, Z, cmap='viridis')\n",
    "\n",
    "# 軸ラベルとタイトルの設定\n",
    "ax.set_xlabel('x axis')\n",
    "ax.set_ylabel('y axis')\n",
    "ax.set_zlabel('z axis')\n",
    "ax.set_title('z = sin(x) + cos(y)')\n",
    "\n",
    "# カラーバーを追加\n",
    "fig.colorbar(surf, shrink=0.5, aspect=10)\n",
    "\n",
    "# グラフを表示\n",
    "plt.show()\n"
   ]
  },
  {
   "cell_type": "markdown",
   "id": "34ad9b3b",
   "metadata": {},
   "source": [
    "ブロードキャストで距離行列を生成。"
   ]
  },
  {
   "cell_type": "code",
   "execution_count": 36,
   "id": "cce5e53a",
   "metadata": {},
   "outputs": [
    {
     "name": "stdout",
     "output_type": "stream",
     "text": [
      "\u001b[31mType:\u001b[39m        NoneType\n",
      "\u001b[31mString form:\u001b[39m None\n",
      "\u001b[31mDocstring:\u001b[39m   The type of the None singleton."
     ]
    }
   ],
   "source": [
    "np.newaxis?"
   ]
  },
  {
   "cell_type": "code",
   "execution_count": 24,
   "id": "81dfdbeb",
   "metadata": {},
   "outputs": [
    {
     "name": "stdout",
     "output_type": "stream",
     "text": [
      "方法2で生成した距離行列:\n",
      "[[0.         2.23606798 4.24264069 5.38516481 3.        ]\n",
      " [2.23606798 0.         2.23606798 4.         2.82842712]\n",
      " [4.24264069 2.23606798 0.         2.23606798 3.        ]\n",
      " [5.38516481 4.         2.23606798 0.         2.82842712]\n",
      " [3.         2.82842712 3.         2.82842712 0.        ]]\n"
     ]
    }
   ],
   "source": [
    "X = np.array([[0, 0], [1, 2], [3, 3], [5, 2], [3, 0]])\n",
    "sum_sq = np.sum(X**2, axis=1)\n",
    "dist_sq = sum_sq[:, np.newaxis] + sum_sq[np.newaxis, :] - 2 * (X @ X.T)\n",
    "dist_sq_clipped = np.maximum(dist_sq, 0)\n",
    "dist_matrix_fast = np.sqrt(dist_sq_clipped)\n",
    "print(\"方法2で生成した距離行列:\")\n",
    "print(dist_matrix_fast)"
   ]
  },
  {
   "cell_type": "code",
   "execution_count": 30,
   "id": "c53993d0",
   "metadata": {},
   "outputs": [
    {
     "data": {
      "text/plain": [
       "array([[2, 3, 4, 5],\n",
       "       [3, 4, 5, 6],\n",
       "       [4, 5, 6, 7]])"
      ]
     },
     "execution_count": 30,
     "metadata": {},
     "output_type": "execute_result"
    }
   ],
   "source": [
    "A=np.array([[1],[2],[3]])\n",
    "B=np.array([[1,2,3,4]])\n",
    "A+B"
   ]
  },
  {
   "cell_type": "code",
   "execution_count": 31,
   "id": "c4c18b09",
   "metadata": {},
   "outputs": [
    {
     "ename": "ValueError",
     "evalue": "operands could not be broadcast together with shapes (3,1) (2,2) ",
     "output_type": "error",
     "traceback": [
      "\u001b[31m---------------------------------------------------------------------------\u001b[39m",
      "\u001b[31mValueError\u001b[39m                                Traceback (most recent call last)",
      "\u001b[36mCell\u001b[39m\u001b[36m \u001b[39m\u001b[32mIn[31]\u001b[39m\u001b[32m, line 3\u001b[39m\n\u001b[32m      1\u001b[39m A=np.array([[\u001b[32m1\u001b[39m],[\u001b[32m2\u001b[39m],[\u001b[32m3\u001b[39m]])\n\u001b[32m      2\u001b[39m B=np.array([[\u001b[32m1\u001b[39m,\u001b[32m2\u001b[39m],[\u001b[32m3\u001b[39m,\u001b[32m4\u001b[39m]])\n\u001b[32m----> \u001b[39m\u001b[32m3\u001b[39m \u001b[43mA\u001b[49m\u001b[43m+\u001b[49m\u001b[43mB\u001b[49m\n",
      "\u001b[31mValueError\u001b[39m: operands could not be broadcast together with shapes (3,1) (2,2) "
     ]
    }
   ],
   "source": [
    "A=np.array([[1],[2],[3]])\n",
    "B=np.array([[1,2],[3,4]])\n",
    "A+B"
   ]
  },
  {
   "cell_type": "code",
   "execution_count": 2,
   "id": "b481073c",
   "metadata": {},
   "outputs": [
    {
     "name": "stdout",
     "output_type": "stream",
     "text": [
      "[[[177 111  77]\n",
      "  [245  44  12]\n",
      "  [ 52 179  70]]\n",
      "\n",
      " [[242  14  80]\n",
      "  [ 36 191  39]\n",
      "  [152  53 250]]\n",
      "\n",
      " [[156 221 186]\n",
      "  [146 144  65]\n",
      "  [ 21  26  91]]]\n"
     ]
    },
    {
     "data": {
      "text/plain": [
       "array([[[187, 131, 107],\n",
       "        [255,  64,  42],\n",
       "        [ 62, 199, 100]],\n",
       "\n",
       "       [[252,  34, 110],\n",
       "        [ 46, 211,  69],\n",
       "        [162,  73, 280]],\n",
       "\n",
       "       [[166, 241, 216],\n",
       "        [156, 164,  95],\n",
       "        [ 31,  46, 121]]])"
      ]
     },
     "execution_count": 2,
     "metadata": {},
     "output_type": "execute_result"
    }
   ],
   "source": [
    "H,W=3,3\n",
    "rgb_image = np.random.randint(0, 256, size=(H, W, 3), dtype=np.uint8)\n",
    "\n",
    "color_fix=[10,20,30]\n",
    "fixed_image=rgb_image+color_fix\n",
    "print(rgb_image)\n",
    "fixed_image"
   ]
  },
  {
   "cell_type": "code",
   "execution_count": 12,
   "id": "ff3cb2f6",
   "metadata": {},
   "outputs": [
    {
     "data": {
      "text/plain": [
       "array([[8, 6, 5, 2, 3, 0, 0, 0, 1, 8],\n",
       "       [6, 9, 5, 6, 9, 7, 6, 5, 5, 9],\n",
       "       [2, 8, 6, 0, 3, 8, 5, 0, 7, 7],\n",
       "       [8, 1, 0, 8, 0, 5, 0, 2, 4, 4],\n",
       "       [4, 0, 0, 1, 0, 6, 5, 6, 2, 6],\n",
       "       [7, 3, 4, 9, 8, 9, 3, 6, 9, 6],\n",
       "       [8, 6, 7, 3, 8, 1, 5, 7, 8, 5],\n",
       "       [3, 3, 4, 4, 7, 8, 0, 9, 5, 3],\n",
       "       [6, 5, 2, 3, 7, 5, 5, 3, 7, 3],\n",
       "       [3, 8, 2, 2, 7, 6, 0, 0, 3, 8]])"
      ]
     },
     "execution_count": 12,
     "metadata": {},
     "output_type": "execute_result"
    }
   ],
   "source": [
    "import numpy as np\n",
    "rng=np.random.default_rng(0)\n",
    "rndX=rng.integers(10, size=(10,10))\n",
    "rndX"
   ]
  },
  {
   "cell_type": "code",
   "execution_count": 14,
   "id": "f7deca6e",
   "metadata": {},
   "outputs": [
    {
     "data": {
      "text/plain": [
       "array([3.3, 6.7, 4.6, 3.2, 3. , 6.4, 5.8, 4.6, 4.6, 3.9])"
      ]
     },
     "execution_count": 14,
     "metadata": {},
     "output_type": "execute_result"
    }
   ],
   "source": [
    "avg_X=rndX.mean(axis=1)\n",
    "avg_X"
   ]
  },
  {
   "cell_type": "code",
   "execution_count": 15,
   "id": "1a2e50f2",
   "metadata": {},
   "outputs": [],
   "source": [
    "mean_X=rndX-avg_X"
   ]
  },
  {
   "cell_type": "code",
   "execution_count": 16,
   "id": "48b09e68",
   "metadata": {},
   "outputs": [
    {
     "data": {
      "text/plain": [
       "array([ 9.84377976, 10.83051245,  8.03741252,  9.1214034 , 12.32882801,\n",
       "        9.3059121 , 12.04159458, 10.09950494,  8.08702665,  8.99444273])"
      ]
     },
     "execution_count": 16,
     "metadata": {},
     "output_type": "execute_result"
    }
   ],
   "source": [
    "norm_X=np.linalg.norm(mean_X,ord=2,axis=0)\n",
    "norm_X"
   ]
  },
  {
   "cell_type": "code",
   "execution_count": 17,
   "id": "425a3b2b",
   "metadata": {},
   "outputs": [
    {
     "data": {
      "text/plain": [
       "array([[ 0.47745887, -0.06463221,  0.04976726, -0.1315587 ,  0.        ,\n",
       "        -0.68773484, -0.48166378, -0.45546787, -0.44515743,  0.45583702],\n",
       "       [ 0.27428489,  0.21236299,  0.04976726,  0.30697031,  0.48666426,\n",
       "         0.06447514,  0.0166091 ,  0.0396059 ,  0.04946194,  0.56701679],\n",
       "       [-0.13206309,  0.12003125,  0.17418541, -0.35082321,  0.        ,\n",
       "         0.17193371, -0.06643638, -0.45546787,  0.29677162,  0.34465726],\n",
       "       [ 0.47745887, -0.52629089, -0.57232349,  0.52623481, -0.24333213,\n",
       "        -0.150442  , -0.48166378, -0.25743836, -0.07419291,  0.01111798],\n",
       "       [ 0.0711109 , -0.61862262, -0.57232349, -0.24119096, -0.24333213,\n",
       "        -0.04298343, -0.06643638,  0.13862066, -0.32150259,  0.2334775 ],\n",
       "       [ 0.37587188, -0.34162742, -0.07465089,  0.63586706,  0.40555355,\n",
       "         0.27939228, -0.23252734,  0.13862066,  0.5440813 ,  0.2334775 ],\n",
       "       [ 0.47745887, -0.06463221,  0.29860356, -0.02192645,  0.40555355,\n",
       "        -0.58027627, -0.06643638,  0.23763541,  0.42042646,  0.12229774],\n",
       "       [-0.0304761 , -0.34162742, -0.07465089,  0.0877058 ,  0.32444284,\n",
       "         0.17193371, -0.48166378,  0.43566492,  0.04946194, -0.10006179],\n",
       "       [ 0.27428489, -0.15696395, -0.32348719, -0.02192645,  0.32444284,\n",
       "        -0.150442  , -0.06643638, -0.15842361,  0.29677162, -0.10006179],\n",
       "       [-0.0304761 ,  0.12003125, -0.32348719, -0.1315587 ,  0.32444284,\n",
       "        -0.04298343, -0.48166378, -0.45546787, -0.19784775,  0.45583702]])"
      ]
     },
     "execution_count": 17,
     "metadata": {},
     "output_type": "execute_result"
    }
   ],
   "source": [
    "X_normalized=mean_X/norm_X\n",
    "X_normalized"
   ]
  }
 ],
 "metadata": {
  "kernelspec": {
   "display_name": "venv",
   "language": "python",
   "name": "python3"
  },
  "language_info": {
   "codemirror_mode": {
    "name": "ipython",
    "version": 3
   },
   "file_extension": ".py",
   "mimetype": "text/x-python",
   "name": "python",
   "nbconvert_exporter": "python",
   "pygments_lexer": "ipython3",
   "version": "3.12.1"
  }
 },
 "nbformat": 4,
 "nbformat_minor": 5
}
